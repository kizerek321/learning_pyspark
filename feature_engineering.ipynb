{
 "cells": [
  {
   "metadata": {},
   "cell_type": "markdown",
   "source": [
    "# FEATURE ENGINEERING WITH PYSPARK\n",
    "## important aspect of machine learning\n",
    "### before diving to analysis\n",
    "    -- Become your own expert \n",
    "    -- define your goals for analysis and how the output might be used\n",
    "    -- research data \n",
    "    -- be curious\n",
    "### data science project\n",
    "#### Project Scoping / Data collection -> Exploratory ANalysis -> Data cleaning -> Feature Engineering -> model treining -> Project delivery / insights"
   ],
   "id": "742a2611d26733c8"
  },
  {
   "cell_type": "code",
   "id": "initial_id",
   "metadata": {
    "collapsed": true,
    "ExecuteTime": {
     "end_time": "2025-07-15T06:31:01.833794Z",
     "start_time": "2025-07-15T06:30:56.640135Z"
    }
   },
   "source": [
    "from pyspark.sql import SparkSession\n",
    "\n",
    "spark = SparkSession.builder.appName(\"feature_eng\").getOrCreate()"
   ],
   "outputs": [],
   "execution_count": 2
  },
  {
   "metadata": {
    "ExecuteTime": {
     "end_time": "2025-07-13T05:37:59.207795Z",
     "start_time": "2025-07-13T05:37:59.186851Z"
    }
   },
   "cell_type": "code",
   "source": [
    "import sys\n",
    "print(\"spark version: \", spark.version)\n",
    "print(\"python version: \", sys.version_info)"
   ],
   "id": "539f7dae659af8fc",
   "outputs": [
    {
     "name": "stdout",
     "output_type": "stream",
     "text": [
      "spark version:  3.5.4\n",
      "python version:  sys.version_info(major=3, minor=10, micro=18, releaselevel='final', serial=0)\n"
     ]
    }
   ],
   "execution_count": 3
  },
  {
   "metadata": {},
   "cell_type": "markdown",
   "source": [
    "# advantage of parquet data format\n",
    "   - ## Stored Column-wise\n",
    "        - ### Fast to query column subsets\n",
    "   - ## Structured, defined schema\n",
    "        - ### Fields and data types defined\n",
    "        - ### Great for messy text data\n",
    "   - ## industry adopted"
   ],
   "id": "e37884175a3d98c"
  },
  {
   "metadata": {
    "ExecuteTime": {
     "end_time": "2025-07-13T06:11:46.652109Z",
     "start_time": "2025-07-13T06:10:56.544433Z"
    }
   },
   "cell_type": "code",
   "source": [
    "import kagglehub\n",
    "\n",
    "# Download latest version\n",
    "path = kagglehub.dataset_download(\"dschettler8845/recsys-2020-ecommerce-dataset\")\n",
    "\n",
    "print(\"Path to dataset files:\", path)"
   ],
   "id": "74d663070609e5e0",
   "outputs": [
    {
     "name": "stderr",
     "output_type": "stream",
     "text": [
      "C:\\Users\\kizer\\miniconda3\\envs\\spark354_env\\lib\\site-packages\\tqdm\\auto.py:21: TqdmWarning: IProgress not found. Please update jupyter and ipywidgets. See https://ipywidgets.readthedocs.io/en/stable/user_install.html\n",
      "  from .autonotebook import tqdm as notebook_tqdm\n"
     ]
    },
    {
     "name": "stdout",
     "output_type": "stream",
     "text": [
      "Warning: Looks like you're using an outdated `kagglehub` version, please consider updating (latest version: 0.3.12)\n",
      "Downloading from https://www.kaggle.com/api/v1/datasets/download/dschettler8845/recsys-2020-ecommerce-dataset?dataset_version_number=1...\n"
     ]
    },
    {
     "name": "stderr",
     "output_type": "stream",
     "text": [
      "100%|██████████| 629M/629M [00:42<00:00, 15.5MB/s] "
     ]
    },
    {
     "name": "stdout",
     "output_type": "stream",
     "text": [
      "Extracting model files...\n"
     ]
    },
    {
     "name": "stderr",
     "output_type": "stream",
     "text": [
      "\n"
     ]
    },
    {
     "name": "stdout",
     "output_type": "stream",
     "text": [
      "Path to dataset files: C:\\Users\\kizer\\.cache\\kagglehub\\datasets\\dschettler8845\\recsys-2020-ecommerce-dataset\\versions\\1\n"
     ]
    }
   ],
   "execution_count": 4
  },
  {
   "metadata": {
    "ExecuteTime": {
     "end_time": "2025-07-15T06:31:03.903731Z",
     "start_time": "2025-07-15T06:31:03.885915Z"
    }
   },
   "cell_type": "code",
   "source": [
    "whole_path_test = \"C:\\\\Users\\\\kizer\\\\.cache\\\\kagglehub\\\\datasets\\\\dschettler8845\\\\recsys-2020-ecommerce-dataset\\\\versions\\\\1\\\\test.parquet\"\n",
    "whole_path_train = \"C:\\\\Users\\\\kizer\\\\.cache\\\\kagglehub\\\\datasets\\\\dschettler8845\\\\recsys-2020-ecommerce-dataset\\\\versions\\\\1\\\\train.parquet\""
   ],
   "id": "1fa80a064ef59ccf",
   "outputs": [],
   "execution_count": 3
  },
  {
   "metadata": {
    "ExecuteTime": {
     "end_time": "2025-07-15T06:31:10.646237Z",
     "start_time": "2025-07-15T06:31:04.822428Z"
    }
   },
   "cell_type": "code",
   "source": [
    "df = spark.read.parquet(whole_path_train)\n",
    "df.show()"
   ],
   "id": "1ee31844e9be3f33",
   "outputs": [
    {
     "name": "stdout",
     "output_type": "stream",
     "text": [
      "+--------------------+----------+----------+-------+-------+---------+--------------------+------+-----------+----------+---------+-----+-------------------+-------+---------+----------+------+--------+-------+\n",
      "|          event_time|event_type|product_id|  brand|  price|  user_id|        user_session|target|      cat_0|     cat_1|    cat_2|cat_3|          timestamp|ts_hour|ts_minute|ts_weekday|ts_day|ts_month|ts_year|\n",
      "+--------------------+----------+----------+-------+-------+---------+--------------------+------+-----------+----------+---------+-----+-------------------+-------+---------+----------+------+--------+-------+\n",
      "|2019-11-01 00:00:...|      cart|   1005014|samsung| 503.09|533326659|6b928be2-2bce-464...|     0|electronics|smartphone|       NA|   NA|2019-11-01 01:00:14|      0|        0|         4|     1|      11|   2019|\n",
      "|2019-11-01 00:03:...|      cart|   1005115|  apple| 949.47|565865924|fd4bd6d4-bd14-4fd...|     0|electronics|smartphone|       NA|   NA|2019-11-01 01:03:39|      0|        3|         4|     1|      11|   2019|\n",
      "|2019-11-01 00:05:...|      cart|   1002542|  apple| 486.80|549256216|dcbdc6e4-cd49-4ee...|     0|electronics|smartphone|       NA|   NA|2019-11-01 01:05:54|      0|        5|         4|     1|      11|   2019|\n",
      "|2019-11-01 00:07:...|      cart|   1002542|  apple| 486.80|549256216|dcbdc6e4-cd49-4ee...|     0|electronics|smartphone|       NA|   NA|2019-11-01 01:07:22|      0|        7|         4|     1|      11|   2019|\n",
      "|2019-11-01 00:10:...|      cart|   4804056|  apple| 160.57|522355747|0a1f37d1-71b7-464...|     0|electronics|     audio|headphone|   NA|2019-11-01 01:10:45|      0|       10|         4|     1|      11|   2019|\n",
      "|2019-11-01 00:13:...|      cart|   1004873|samsung| 362.29|563558500|e0729b6c-eafe-4b0...|     0|electronics|smartphone|       NA|   NA|2019-11-01 01:13:40|      0|       13|         4|     1|      11|   2019|\n",
      "|2019-11-01 00:14:...|      cart|   1004856|samsung| 128.42|513645631|8cccf28f-136d-494...|     0|electronics|smartphone|       NA|   NA|2019-11-01 01:14:09|      0|       14|         4|     1|      11|   2019|\n",
      "|2019-11-01 00:14:...|      cart|   1004856|samsung| 128.42|557839915|40304779-5050-440...|     0|electronics|smartphone|       NA|   NA|2019-11-01 01:14:23|      0|       14|         4|     1|      11|   2019|\n",
      "|2019-11-01 00:15:...|      cart|   1005115|  apple| 949.47|561713177|821f797d-f9f4-410...|     0|electronics|smartphone|       NA|   NA|2019-11-01 01:15:23|      0|       15|         4|     1|      11|   2019|\n",
      "|2019-11-01 00:15:...|      cart|   1005116|  apple|1013.86|513852314|892943dc-aacd-44d...|     0|electronics|smartphone|       NA|   NA|2019-11-01 01:15:46|      0|       15|         4|     1|      11|   2019|\n",
      "|2019-11-01 00:15:...|      cart|   1005116|  apple|1013.86|513852314|892943dc-aacd-44d...|     0|electronics|smartphone|       NA|   NA|2019-11-01 01:15:56|      0|       15|         4|     1|      11|   2019|\n",
      "|2019-11-01 00:20:...|      cart|   1004870|samsung| 275.25|563626542|e6e2cb92-9103-4e6...|     0|electronics|smartphone|       NA|   NA|2019-11-01 01:20:25|      0|       20|         4|     1|      11|   2019|\n",
      "|2019-11-01 00:20:...|      cart|   1004870|samsung| 275.25|563626542|e6e2cb92-9103-4e6...|     0|electronics|smartphone|       NA|   NA|2019-11-01 01:20:49|      0|       20|         4|     1|      11|   2019|\n",
      "|2019-11-01 00:24:...|      cart|   4804295| xiaomi|  22.80|550508533|fff30096-d345-43a...|     0|electronics|     audio|headphone|   NA|2019-11-01 01:24:48|      0|       24|         4|     1|      11|   2019|\n",
      "|2019-11-01 00:25:...|      cart|   4804295| xiaomi|  22.80|550508533|fff30096-d345-43a...|     0|electronics|     audio|headphone|   NA|2019-11-01 01:25:12|      0|       25|         4|     1|      11|   2019|\n",
      "|2019-11-01 00:30:...|      cart|   1002633|  apple| 358.31|557994805|b3bbf6e2-f995-448...|     0|electronics|smartphone|       NA|   NA|2019-11-01 01:30:05|      0|       30|         4|     1|      11|   2019|\n",
      "|2019-11-01 00:30:...|      cart|   1004856|samsung| 128.42|512800858|ddb1ab7a-7667-4f7...|     0|electronics|smartphone|       NA|   NA|2019-11-01 01:30:35|      0|       30|         4|     1|      11|   2019|\n",
      "|2019-11-01 00:31:...|      cart|   1801881|samsung| 488.80|566283686|771370f8-6f8e-458...|     0|electronics|     video|       tv|   NA|2019-11-01 01:31:35|      0|       31|         4|     1|      11|   2019|\n",
      "|2019-11-01 00:33:...|      cart|   1201471|samsung| 469.84|547694248|ad31f016-29a7-4d6...|     0|electronics|    tablet|       NA|   NA|2019-11-01 01:33:37|      0|       33|         4|     1|      11|   2019|\n",
      "|2019-11-01 00:35:...|      cart|   1004767|samsung| 242.63|532542999|595c35b6-269b-433...|     0|electronics|smartphone|       NA|   NA|2019-11-01 01:35:55|      0|       35|         4|     1|      11|   2019|\n",
      "+--------------------+----------+----------+-------+-------+---------+--------------------+------+-----------+----------+---------+-----+-------------------+-------+---------+----------+------+--------+-------+\n",
      "only showing top 20 rows\n",
      "\n"
     ]
    }
   ],
   "execution_count": 4
  },
  {
   "metadata": {
    "ExecuteTime": {
     "end_time": "2025-07-15T06:31:11.062124Z",
     "start_time": "2025-07-15T06:31:10.724028Z"
    }
   },
   "cell_type": "code",
   "source": "df.describe()",
   "id": "78a8776ff8799b47",
   "outputs": [
    {
     "data": {
      "text/plain": [
       "DataFrame[summary: string, event_time: string, event_type: string, product_id: string, brand: string, price: string, user_id: string, user_session: string, target: string, cat_0: string, cat_1: string, cat_2: string, cat_3: string, ts_hour: string, ts_minute: string, ts_weekday: string, ts_day: string, ts_month: string, ts_year: string]"
      ]
     },
     "execution_count": 5,
     "metadata": {},
     "output_type": "execute_result"
    }
   ],
   "execution_count": 5
  },
  {
   "metadata": {
    "ExecuteTime": {
     "end_time": "2025-07-15T06:31:11.622624Z",
     "start_time": "2025-07-15T06:31:11.153884Z"
    }
   },
   "cell_type": "code",
   "source": [
    "from pyspark.sql.types import DateType, IntegerType, DoubleType\n",
    "from pyspark.sql.functions import to_timestamp\n",
    "df_casted = df.withColumn(\"price_int\", df[\"price\"].cast(DoubleType())).withColumn(\"ts_month_int\", df[\"ts_month\"].cast(IntegerType())).withColumn(\"ts_year_int\", df[\"ts_year\"].cast(IntegerType())).withColumn(\"ts_day_int\", df[\"ts_day\"].cast(IntegerType())).withColumn(\"ts_weekday_int\", df[\"ts_weekday\"].cast(IntegerType()))\n",
    "columns_to_drop = ['ts_month', 'price', 'ts_year', 'ts_day', 'ts_weekday']\n",
    "df_casted = df_casted.drop(*columns_to_drop)\n",
    "#df_casted = df_casted.withColumn(\"event_time_corr\", to_timestamp(df[\"event_time\"], \"yyyy-MM-dd HH:mm:ss\"))\n",
    "df_casted.show()"
   ],
   "id": "93e1b60b09df9218",
   "outputs": [
    {
     "name": "stdout",
     "output_type": "stream",
     "text": [
      "+--------------------+----------+----------+-------+---------+--------------------+------+-----------+----------+---------+-----+-------------------+-------+---------+---------+------------+-----------+----------+--------------+\n",
      "|          event_time|event_type|product_id|  brand|  user_id|        user_session|target|      cat_0|     cat_1|    cat_2|cat_3|          timestamp|ts_hour|ts_minute|price_int|ts_month_int|ts_year_int|ts_day_int|ts_weekday_int|\n",
      "+--------------------+----------+----------+-------+---------+--------------------+------+-----------+----------+---------+-----+-------------------+-------+---------+---------+------------+-----------+----------+--------------+\n",
      "|2019-11-01 00:00:...|      cart|   1005014|samsung|533326659|6b928be2-2bce-464...|     0|electronics|smartphone|       NA|   NA|2019-11-01 01:00:14|      0|        0|   503.09|          11|       2019|         1|             4|\n",
      "|2019-11-01 00:03:...|      cart|   1005115|  apple|565865924|fd4bd6d4-bd14-4fd...|     0|electronics|smartphone|       NA|   NA|2019-11-01 01:03:39|      0|        3|   949.47|          11|       2019|         1|             4|\n",
      "|2019-11-01 00:05:...|      cart|   1002542|  apple|549256216|dcbdc6e4-cd49-4ee...|     0|electronics|smartphone|       NA|   NA|2019-11-01 01:05:54|      0|        5|    486.8|          11|       2019|         1|             4|\n",
      "|2019-11-01 00:07:...|      cart|   1002542|  apple|549256216|dcbdc6e4-cd49-4ee...|     0|electronics|smartphone|       NA|   NA|2019-11-01 01:07:22|      0|        7|    486.8|          11|       2019|         1|             4|\n",
      "|2019-11-01 00:10:...|      cart|   4804056|  apple|522355747|0a1f37d1-71b7-464...|     0|electronics|     audio|headphone|   NA|2019-11-01 01:10:45|      0|       10|   160.57|          11|       2019|         1|             4|\n",
      "|2019-11-01 00:13:...|      cart|   1004873|samsung|563558500|e0729b6c-eafe-4b0...|     0|electronics|smartphone|       NA|   NA|2019-11-01 01:13:40|      0|       13|   362.29|          11|       2019|         1|             4|\n",
      "|2019-11-01 00:14:...|      cart|   1004856|samsung|513645631|8cccf28f-136d-494...|     0|electronics|smartphone|       NA|   NA|2019-11-01 01:14:09|      0|       14|   128.42|          11|       2019|         1|             4|\n",
      "|2019-11-01 00:14:...|      cart|   1004856|samsung|557839915|40304779-5050-440...|     0|electronics|smartphone|       NA|   NA|2019-11-01 01:14:23|      0|       14|   128.42|          11|       2019|         1|             4|\n",
      "|2019-11-01 00:15:...|      cart|   1005115|  apple|561713177|821f797d-f9f4-410...|     0|electronics|smartphone|       NA|   NA|2019-11-01 01:15:23|      0|       15|   949.47|          11|       2019|         1|             4|\n",
      "|2019-11-01 00:15:...|      cart|   1005116|  apple|513852314|892943dc-aacd-44d...|     0|electronics|smartphone|       NA|   NA|2019-11-01 01:15:46|      0|       15|  1013.86|          11|       2019|         1|             4|\n",
      "|2019-11-01 00:15:...|      cart|   1005116|  apple|513852314|892943dc-aacd-44d...|     0|electronics|smartphone|       NA|   NA|2019-11-01 01:15:56|      0|       15|  1013.86|          11|       2019|         1|             4|\n",
      "|2019-11-01 00:20:...|      cart|   1004870|samsung|563626542|e6e2cb92-9103-4e6...|     0|electronics|smartphone|       NA|   NA|2019-11-01 01:20:25|      0|       20|   275.25|          11|       2019|         1|             4|\n",
      "|2019-11-01 00:20:...|      cart|   1004870|samsung|563626542|e6e2cb92-9103-4e6...|     0|electronics|smartphone|       NA|   NA|2019-11-01 01:20:49|      0|       20|   275.25|          11|       2019|         1|             4|\n",
      "|2019-11-01 00:24:...|      cart|   4804295| xiaomi|550508533|fff30096-d345-43a...|     0|electronics|     audio|headphone|   NA|2019-11-01 01:24:48|      0|       24|     22.8|          11|       2019|         1|             4|\n",
      "|2019-11-01 00:25:...|      cart|   4804295| xiaomi|550508533|fff30096-d345-43a...|     0|electronics|     audio|headphone|   NA|2019-11-01 01:25:12|      0|       25|     22.8|          11|       2019|         1|             4|\n",
      "|2019-11-01 00:30:...|      cart|   1002633|  apple|557994805|b3bbf6e2-f995-448...|     0|electronics|smartphone|       NA|   NA|2019-11-01 01:30:05|      0|       30|   358.31|          11|       2019|         1|             4|\n",
      "|2019-11-01 00:30:...|      cart|   1004856|samsung|512800858|ddb1ab7a-7667-4f7...|     0|electronics|smartphone|       NA|   NA|2019-11-01 01:30:35|      0|       30|   128.42|          11|       2019|         1|             4|\n",
      "|2019-11-01 00:31:...|      cart|   1801881|samsung|566283686|771370f8-6f8e-458...|     0|electronics|     video|       tv|   NA|2019-11-01 01:31:35|      0|       31|    488.8|          11|       2019|         1|             4|\n",
      "|2019-11-01 00:33:...|      cart|   1201471|samsung|547694248|ad31f016-29a7-4d6...|     0|electronics|    tablet|       NA|   NA|2019-11-01 01:33:37|      0|       33|   469.84|          11|       2019|         1|             4|\n",
      "|2019-11-01 00:35:...|      cart|   1004767|samsung|532542999|595c35b6-269b-433...|     0|electronics|smartphone|       NA|   NA|2019-11-01 01:35:55|      0|       35|   242.63|          11|       2019|         1|             4|\n",
      "+--------------------+----------+----------+-------+---------+--------------------+------+-----------+----------+---------+-----+-------------------+-------+---------+---------+------------+-----------+----------+--------------+\n",
      "only showing top 20 rows\n",
      "\n"
     ]
    }
   ],
   "execution_count": 6
  },
  {
   "metadata": {
    "ExecuteTime": {
     "end_time": "2025-07-15T06:31:14.974316Z",
     "start_time": "2025-07-15T06:31:13.512994Z"
    }
   },
   "cell_type": "code",
   "source": "df_casted.describe(['price_int']).show()",
   "id": "f01b3b2f1eb6ff6b",
   "outputs": [
    {
     "name": "stdout",
     "output_type": "stream",
     "text": [
      "+-------+-----------------+\n",
      "|summary|        price_int|\n",
      "+-------+-----------------+\n",
      "|  count|         11495242|\n",
      "|   mean|287.9644098358388|\n",
      "| stddev|331.5377135506471|\n",
      "|    min|              0.0|\n",
      "|    max|          2574.07|\n",
      "+-------+-----------------+\n",
      "\n"
     ]
    }
   ],
   "execution_count": 7
  },
  {
   "metadata": {
    "ExecuteTime": {
     "end_time": "2025-07-15T06:31:16.387537Z",
     "start_time": "2025-07-15T06:31:15.037148Z"
    }
   },
   "cell_type": "code",
   "source": "df_casted.agg({'price_int': 'mean'}).collect()",
   "id": "bc7fa0de39c69a81",
   "outputs": [
    {
     "data": {
      "text/plain": [
       "[Row(avg(price_int)=287.9644098358388)]"
      ]
     },
     "execution_count": 8,
     "metadata": {},
     "output_type": "execute_result"
    }
   ],
   "execution_count": 8
  },
  {
   "metadata": {
    "ExecuteTime": {
     "end_time": "2025-07-15T06:31:17.476624Z",
     "start_time": "2025-07-15T06:31:16.462336Z"
    }
   },
   "cell_type": "code",
   "source": "df_casted.cov('price_int', 'ts_month_int')",
   "id": "2d7e3adeb05a353b",
   "outputs": [
    {
     "data": {
      "text/plain": [
       "-14.229403072645727"
      ]
     },
     "execution_count": 9,
     "metadata": {},
     "output_type": "execute_result"
    }
   ],
   "execution_count": 9
  },
  {
   "metadata": {
    "ExecuteTime": {
     "end_time": "2025-07-15T06:31:17.864489Z",
     "start_time": "2025-07-15T06:31:17.643081Z"
    }
   },
   "cell_type": "code",
   "source": "df_casted.count()",
   "id": "10c6730d8c69c1c1",
   "outputs": [
    {
     "data": {
      "text/plain": [
       "11495242"
      ]
     },
     "execution_count": 10,
     "metadata": {},
     "output_type": "execute_result"
    }
   ],
   "execution_count": 10
  },
  {
   "metadata": {
    "ExecuteTime": {
     "end_time": "2025-07-15T06:31:18.796707Z",
     "start_time": "2025-07-15T06:31:18.575294Z"
    }
   },
   "cell_type": "code",
   "source": "df_casted.sample(False, 0.5, 42).count()",
   "id": "9b980356502cdaee",
   "outputs": [
    {
     "data": {
      "text/plain": [
       "5747189"
      ]
     },
     "execution_count": 11,
     "metadata": {},
     "output_type": "execute_result"
    }
   ],
   "execution_count": 11
  },
  {
   "metadata": {
    "ExecuteTime": {
     "end_time": "2025-07-15T06:31:59.587150Z",
     "start_time": "2025-07-15T06:31:19.979850Z"
    }
   },
   "cell_type": "code",
   "source": [
    "import seaborn as sns\n",
    "\n",
    "sample_df = df_casted.select('price_int').sample(False, 0.5, 42)\n",
    "\n",
    "pandas_df = sample_df.toPandas()\n",
    "sns.distplot(pandas_df)"
   ],
   "id": "286ae22c4a22e97",
   "outputs": [
    {
     "name": "stderr",
     "output_type": "stream",
     "text": [
      "C:\\Users\\kizer\\AppData\\Local\\Temp\\ipykernel_23580\\1783027884.py:6: UserWarning: \n",
      "\n",
      "`distplot` is a deprecated function and will be removed in seaborn v0.14.0.\n",
      "\n",
      "Please adapt your code to use either `displot` (a figure-level function with\n",
      "similar flexibility) or `histplot` (an axes-level function for histograms).\n",
      "\n",
      "For a guide to updating your code to use the new functions, please see\n",
      "https://gist.github.com/mwaskom/de44147ed2974457ad6372750bbe5751\n",
      "\n",
      "  sns.distplot(pandas_df)\n"
     ]
    },
    {
     "data": {
      "text/plain": [
       "<Axes: ylabel='Density'>"
      ]
     },
     "execution_count": 12,
     "metadata": {},
     "output_type": "execute_result"
    },
    {
     "data": {
      "text/plain": [
       "<Figure size 640x480 with 1 Axes>"
      ],
      "image/png": "[encoded data removed]"
     },
     "metadata": {},
     "output_type": "display_data"
    }
   ],
   "execution_count": 12
  },
  {
   "metadata": {
    "ExecuteTime": {
     "end_time": "2025-07-15T06:32:02.643950Z",
     "start_time": "2025-07-15T06:31:59.604081Z"
    }
   },
   "cell_type": "code",
   "source": [
    "s_df = df_casted.select(['price_int', 'ts_weekday_int'])\n",
    "s_df = s_df.sample(False, 0.1, 42)\n",
    "pandas_df_s = s_df.toPandas()"
   ],
   "id": "5135d4ae55cd8e11",
   "outputs": [],
   "execution_count": 13
  },
  {
   "metadata": {
    "ExecuteTime": {
     "end_time": "2025-07-15T06:33:39.264184Z",
     "start_time": "2025-07-15T06:32:02.676063Z"
    }
   },
   "cell_type": "code",
   "source": "sns.lmplot(x='ts_weekday_int', y='price_int', data=pandas_df_s)",
   "id": "25be392ac5c735e5",
   "outputs": [
    {
     "data": {
      "text/plain": [
       "<seaborn.axisgrid.FacetGrid at 0x22068ae1b10>"
      ]
     },
     "execution_count": 14,
     "metadata": {},
     "output_type": "execute_result"
    },
    {
     "data": {
      "text/plain": [
       "<Figure size 500x500 with 1 Axes>"
      ],
      "image/png": "[encoded data removed]"
     },
     "metadata": {},
     "output_type": "display_data"
    }
   ],
   "execution_count": 14
  },
  {
   "metadata": {
    "ExecuteTime": {
     "end_time": "2025-07-15T06:33:41.852243Z",
     "start_time": "2025-07-15T06:33:39.286123Z"
    }
   },
   "cell_type": "code",
   "source": [
    "#value filtering data using 3 std distance\n",
    "std_val = df_casted.agg({'price_int': 'stddev'}).collect()[0][0]\n",
    "mean_val = df_casted.agg({'price_int': 'mean'}).collect()[0][0]\n",
    "\n",
    "hi_bound = mean_val+(3*std_val)\n",
    "low_bound = mean_val-(3*std_val)\n",
    "\n",
    "df_filtered = df_casted.where((df_casted['price_int'] < hi_bound) & (df_casted['price_int'] > low_bound))\n",
    "num_rows = df_filtered.count()\n",
    "print(df_casted.count())\n",
    "print(num_rows)\n",
    "#df_filtered.show()"
   ],
   "id": "4b30f260f180dcda",
   "outputs": [
    {
     "name": "stdout",
     "output_type": "stream",
     "text": [
      "11495242\n",
      "11203806\n"
     ]
    }
   ],
   "execution_count": 15
  },
  {
   "metadata": {
    "ExecuteTime": {
     "end_time": "2025-07-15T06:33:42.004835Z",
     "start_time": "2025-07-15T06:33:41.884159Z"
    }
   },
   "cell_type": "code",
   "source": [
    "df.dropna(how='any', tresh=50, subset=['ts_weekday_int']) #if in how 'any' than drop a record if it contains any nulls.\n",
    "# If 'all' drop a record only if all its values are null\n",
    "#thresh: int, if specified drop records that have less than tresh non-null values, overwrites the how parameter\n",
    "#subset: optional list of column names to consider"
   ],
   "id": "35cdebb45502b57e",
   "outputs": [
    {
     "ename": "TypeError",
     "evalue": "DataFrame.dropna() got an unexpected keyword argument 'tresh'",
     "output_type": "error",
     "traceback": [
      "\u001B[1;31m---------------------------------------------------------------------------\u001B[0m",
      "\u001B[1;31mTypeError\u001B[0m                                 Traceback (most recent call last)",
      "Cell \u001B[1;32mIn[16], line 1\u001B[0m\n\u001B[1;32m----> 1\u001B[0m \u001B[43mdf\u001B[49m\u001B[38;5;241;43m.\u001B[39;49m\u001B[43mdropna\u001B[49m\u001B[43m(\u001B[49m\u001B[43mhow\u001B[49m\u001B[38;5;241;43m=\u001B[39;49m\u001B[38;5;124;43m'\u001B[39;49m\u001B[38;5;124;43many\u001B[39;49m\u001B[38;5;124;43m'\u001B[39;49m\u001B[43m,\u001B[49m\u001B[43m \u001B[49m\u001B[43mtresh\u001B[49m\u001B[38;5;241;43m=\u001B[39;49m\u001B[38;5;241;43m50\u001B[39;49m\u001B[43m,\u001B[49m\u001B[43m \u001B[49m\u001B[43msubset\u001B[49m\u001B[38;5;241;43m=\u001B[39;49m\u001B[43m[\u001B[49m\u001B[38;5;124;43m'\u001B[39;49m\u001B[38;5;124;43mts_weekday_int\u001B[39;49m\u001B[38;5;124;43m'\u001B[39;49m\u001B[43m]\u001B[49m\u001B[43m)\u001B[49m\n",
      "\u001B[1;31mTypeError\u001B[0m: DataFrame.dropna() got an unexpected keyword argument 'tresh'"
     ]
    }
   ],
   "execution_count": 16
  },
  {
   "metadata": {
    "ExecuteTime": {
     "end_time": "2025-07-15T06:36:01.528457Z",
     "start_time": "2025-07-15T06:36:00.012513Z"
    }
   },
   "cell_type": "code",
   "source": [
    "# MinMax scaling\n",
    "# we take variable to be scaled, substract by minimum value and divide by substaction of max and min value\n",
    "# Xi,j* = (Xi,j - Xj MIN) / (Xj MAX - Xj MIN) \n",
    "\n",
    "max_price = df_casted.agg({'price_int': 'max'}).collect()[0][0]\n",
    "min_price = df_casted.agg({'price_int': 'min'}).collect()[0][0]\n",
    "\n",
    "df_casted = df_casted.withColumn(\"scaled_price\",\n",
    "                                 (df_casted['price_int'] - min_price) / (max_price - min_price))\n",
    "df_casted[['scaled_price']].show(5)"
   ],
   "id": "f38263249034b6f5",
   "outputs": [
    {
     "name": "stdout",
     "output_type": "stream",
     "text": [
      "+-------------------+\n",
      "|       scaled_price|\n",
      "+-------------------+\n",
      "| 0.1954453453091796|\n",
      "| 0.3688594327271597|\n",
      "| 0.1891168460842168|\n",
      "| 0.1891168460842168|\n",
      "|0.06237981096085187|\n",
      "+-------------------+\n",
      "only showing top 5 rows\n",
      "\n"
     ]
    }
   ],
   "execution_count": 20
  },
  {
   "metadata": {
    "ExecuteTime": {
     "end_time": "2025-07-15T06:36:14.556975Z",
     "start_time": "2025-07-15T06:36:13.706250Z"
    }
   },
   "cell_type": "code",
   "source": [
    "# Standardization - transforming data to standard normal distribution, mean = 0 and std = 1\n",
    "df_casted = df_casted.withColumn(\"ztrans_price\",\n",
    "                                 (df_casted['price_int'] - mean_val) / std_val)\n",
    "df_casted.agg({'ztrans_price': 'mean'}).collect()"
   ],
   "id": "c484afc0be00a86a",
   "outputs": [
    {
     "data": {
      "text/plain": [
       "[Row(avg(ztrans_price)=-2.4421258171688696e-14)]"
      ]
     },
     "execution_count": 22,
     "metadata": {},
     "output_type": "execute_result"
    }
   ],
   "execution_count": 22
  },
  {
   "metadata": {
    "ExecuteTime": {
     "end_time": "2025-07-15T06:37:02.822422Z",
     "start_time": "2025-07-15T06:37:02.078479Z"
    }
   },
   "cell_type": "code",
   "source": "df_casted.agg({'ztrans_price': 'stddev'}).collect()",
   "id": "5c9cbe5c08d7a134",
   "outputs": [
    {
     "data": {
      "text/plain": [
       "[Row(stddev(ztrans_price)=0.9999999999999991)]"
      ]
     },
     "execution_count": 23,
     "metadata": {},
     "output_type": "execute_result"
    }
   ],
   "execution_count": 23
  },
  {
   "metadata": {
    "ExecuteTime": {
     "end_time": "2025-07-15T06:40:18.256672Z",
     "start_time": "2025-07-15T06:39:55.293713Z"
    }
   },
   "cell_type": "code",
   "source": [
    "sam_df = df_casted.select('ztrans_price').sample(False, 0.5, 42)\n",
    "\n",
    "pan_df = sam_df.toPandas()\n",
    "sns.histplot(pan_df)"
   ],
   "id": "7358999b1604272d",
   "outputs": [
    {
     "data": {
      "text/plain": [
       "<Axes: ylabel='Count'>"
      ]
     },
     "execution_count": 25,
     "metadata": {},
     "output_type": "execute_result"
    },
    {
     "data": {
      "text/plain": [
       "<Figure size 640x480 with 1 Axes>"
      ],
      "image/png": "[encoded data removed]"
     },
     "metadata": {},
     "output_type": "display_data"
    }
   ],
   "execution_count": 25
  },
  {
   "metadata": {
    "ExecuteTime": {
     "end_time": "2025-07-15T06:43:24.617740Z",
     "start_time": "2025-07-15T06:43:01.008248Z"
    }
   },
   "cell_type": "code",
   "source": [
    "#log scaling\n",
    "from pyspark.sql.functions import log\n",
    "\n",
    "df_casted = df_casted.withColumn('log_price', log(df_casted['price_int']))\n",
    "\n",
    "sa_df = df_casted.select('log_price').sample(False, 0.5, 42)\n",
    "\n",
    "pa_df = sa_df.toPandas()\n",
    "sns.histplot(pa_df)"
   ],
   "id": "bab79ef9d3d33c7",
   "outputs": [
    {
     "data": {
      "text/plain": [
       "<Axes: ylabel='Count'>"
      ]
     },
     "execution_count": 26,
     "metadata": {},
     "output_type": "execute_result"
    },
    {
     "data": {
      "text/plain": [
       "<Figure size 640x480 with 1 Axes>"
      ],
      "image/png": "[encoded data removed]"
     },
     "metadata": {},
     "output_type": "display_data"
    }
   ],
   "execution_count": 26
  }
 ],
 "metadata": {
  "kernelspec": {
   "display_name": "Python 3",
   "language": "python",
   "name": "python3"
  },
  "language_info": {
   "codemirror_mode": {
    "name": "ipython",
    "version": 2
   },
   "file_extension": ".py",
   "mimetype": "text/x-python",
   "name": "python",
   "nbconvert_exporter": "python",
   "pygments_lexer": "ipython2",
   "version": "2.7.6"
  }
 },
 "nbformat": 4,
 "nbformat_minor": 5
}
