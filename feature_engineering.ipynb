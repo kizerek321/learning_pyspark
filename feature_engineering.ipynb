{
 "cells": [
  {
   "metadata": {},
   "cell_type": "markdown",
   "source": [
    "# FEATURE ENGINEERING WITH PYSPARK\n",
    "## important aspect of machine learning\n",
    "### before diving to analysis\n",
    "   - Become your own expert \n",
    "   - define your goals for analysis and how the output might be used\n",
    "   - research data \n",
    "   - be curious\n",
    "### data science project\n",
    "#### Project Scoping / Data collection -> Exploratory ANalysis -> Data cleaning -> Feature Engineering -> model treining -> Project delivery / insights"
   ],
   "id": "742a2611d26733c8"
  },
  {
   "cell_type": "code",
   "id": "initial_id",
   "metadata": {
    "collapsed": true,
    "ExecuteTime": {
     "end_time": "2025-07-20T07:38:53.590044Z",
     "start_time": "2025-07-20T07:38:47.336499Z"
    }
   },
   "source": [
    "from pyspark.sql import SparkSession\n",
    "\n",
    "spark = SparkSession.builder.appName(\"feature_eng\").config(\"spark.sql.legacy.timeParserPolicy\", \"LEGACY\").getOrCreate()"
   ],
   "outputs": [],
   "execution_count": 1
  },
  {
   "metadata": {
    "ExecuteTime": {
     "end_time": "2025-07-15T18:08:06.580867Z",
     "start_time": "2025-07-15T18:08:06.562895Z"
    }
   },
   "cell_type": "code",
   "source": [
    "import sys\n",
    "print(\"spark version: \", spark.version)\n",
    "print(\"python version: \", sys.version_info)"
   ],
   "id": "539f7dae659af8fc",
   "outputs": [
    {
     "name": "stdout",
     "output_type": "stream",
     "text": [
      "spark version:  3.5.4\n",
      "python version:  sys.version_info(major=3, minor=10, micro=18, releaselevel='final', serial=0)\n"
     ]
    }
   ],
   "execution_count": 3
  },
  {
   "metadata": {},
   "cell_type": "markdown",
   "source": [
    "# advantage of parquet data format\n",
    "   - ## Stored Column-wise\n",
    "        - ### Fast to query column subsets\n",
    "   - ## Structured, defined schema\n",
    "        - ### Fields and data types defined\n",
    "        - ### Great for messy text data\n",
    "   - ## industry adopted"
   ],
   "id": "e37884175a3d98c"
  },
  {
   "metadata": {
    "ExecuteTime": {
     "end_time": "2025-07-18T16:50:41.396371Z",
     "start_time": "2025-07-18T16:50:40.141218Z"
    }
   },
   "cell_type": "code",
   "source": [
    "import kagglehub\n",
    "\n",
    "# Download latest version\n",
    "path = kagglehub.dataset_download(\"dschettler8845/recsys-2020-ecommerce-dataset\")\n",
    "\n",
    "print(\"Path to dataset files:\", path)"
   ],
   "id": "74d663070609e5e0",
   "outputs": [
    {
     "name": "stderr",
     "output_type": "stream",
     "text": [
      "C:\\Users\\kizer\\miniconda3\\envs\\spark354_env\\lib\\site-packages\\tqdm\\auto.py:21: TqdmWarning: IProgress not found. Please update jupyter and ipywidgets. See https://ipywidgets.readthedocs.io/en/stable/user_install.html\n",
      "  from .autonotebook import tqdm as notebook_tqdm\n"
     ]
    },
    {
     "name": "stdout",
     "output_type": "stream",
     "text": [
      "Warning: Looks like you're using an outdated `kagglehub` version, please consider updating (latest version: 0.3.12)\n",
      "Path to dataset files: C:\\Users\\kizer\\.cache\\kagglehub\\datasets\\dschettler8845\\recsys-2020-ecommerce-dataset\\versions\\1\n"
     ]
    }
   ],
   "execution_count": 24
  },
  {
   "metadata": {
    "ExecuteTime": {
     "end_time": "2025-07-20T07:38:53.619964Z",
     "start_time": "2025-07-20T07:38:53.608994Z"
    }
   },
   "cell_type": "code",
   "source": [
    "whole_path_test = \"C:\\\\Users\\\\kizer\\\\.cache\\\\kagglehub\\\\datasets\\\\dschettler8845\\\\recsys-2020-ecommerce-dataset\\\\versions\\\\1\\\\test.parquet\"\n",
    "whole_path_train = \"C:\\\\Users\\\\kizer\\\\.cache\\\\kagglehub\\\\datasets\\\\dschettler8845\\\\recsys-2020-ecommerce-dataset\\\\versions\\\\1\\\\train.parquet\""
   ],
   "id": "1fa80a064ef59ccf",
   "outputs": [],
   "execution_count": 2
  },
  {
   "metadata": {
    "ExecuteTime": {
     "end_time": "2025-07-20T07:39:00.890679Z",
     "start_time": "2025-07-20T07:38:53.642904Z"
    }
   },
   "cell_type": "code",
   "source": [
    "df = spark.read.parquet(whole_path_train)\n",
    "df.show()"
   ],
   "id": "1ee31844e9be3f33",
   "outputs": [
    {
     "name": "stdout",
     "output_type": "stream",
     "text": [
      "+--------------------+----------+----------+-------+-------+---------+--------------------+------+-----------+----------+---------+-----+-------------------+-------+---------+----------+------+--------+-------+\n",
      "|          event_time|event_type|product_id|  brand|  price|  user_id|        user_session|target|      cat_0|     cat_1|    cat_2|cat_3|          timestamp|ts_hour|ts_minute|ts_weekday|ts_day|ts_month|ts_year|\n",
      "+--------------------+----------+----------+-------+-------+---------+--------------------+------+-----------+----------+---------+-----+-------------------+-------+---------+----------+------+--------+-------+\n",
      "|2019-11-01 00:00:...|      cart|   1005014|samsung| 503.09|533326659|6b928be2-2bce-464...|     0|electronics|smartphone|       NA|   NA|2019-11-01 01:00:14|      0|        0|         4|     1|      11|   2019|\n",
      "|2019-11-01 00:03:...|      cart|   1005115|  apple| 949.47|565865924|fd4bd6d4-bd14-4fd...|     0|electronics|smartphone|       NA|   NA|2019-11-01 01:03:39|      0|        3|         4|     1|      11|   2019|\n",
      "|2019-11-01 00:05:...|      cart|   1002542|  apple| 486.80|549256216|dcbdc6e4-cd49-4ee...|     0|electronics|smartphone|       NA|   NA|2019-11-01 01:05:54|      0|        5|         4|     1|      11|   2019|\n",
      "|2019-11-01 00:07:...|      cart|   1002542|  apple| 486.80|549256216|dcbdc6e4-cd49-4ee...|     0|electronics|smartphone|       NA|   NA|2019-11-01 01:07:22|      0|        7|         4|     1|      11|   2019|\n",
      "|2019-11-01 00:10:...|      cart|   4804056|  apple| 160.57|522355747|0a1f37d1-71b7-464...|     0|electronics|     audio|headphone|   NA|2019-11-01 01:10:45|      0|       10|         4|     1|      11|   2019|\n",
      "|2019-11-01 00:13:...|      cart|   1004873|samsung| 362.29|563558500|e0729b6c-eafe-4b0...|     0|electronics|smartphone|       NA|   NA|2019-11-01 01:13:40|      0|       13|         4|     1|      11|   2019|\n",
      "|2019-11-01 00:14:...|      cart|   1004856|samsung| 128.42|513645631|8cccf28f-136d-494...|     0|electronics|smartphone|       NA|   NA|2019-11-01 01:14:09|      0|       14|         4|     1|      11|   2019|\n",
      "|2019-11-01 00:14:...|      cart|   1004856|samsung| 128.42|557839915|40304779-5050-440...|     0|electronics|smartphone|       NA|   NA|2019-11-01 01:14:23|      0|       14|         4|     1|      11|   2019|\n",
      "|2019-11-01 00:15:...|      cart|   1005115|  apple| 949.47|561713177|821f797d-f9f4-410...|     0|electronics|smartphone|       NA|   NA|2019-11-01 01:15:23|      0|       15|         4|     1|      11|   2019|\n",
      "|2019-11-01 00:15:...|      cart|   1005116|  apple|1013.86|513852314|892943dc-aacd-44d...|     0|electronics|smartphone|       NA|   NA|2019-11-01 01:15:46|      0|       15|         4|     1|      11|   2019|\n",
      "|2019-11-01 00:15:...|      cart|   1005116|  apple|1013.86|513852314|892943dc-aacd-44d...|     0|electronics|smartphone|       NA|   NA|2019-11-01 01:15:56|      0|       15|         4|     1|      11|   2019|\n",
      "|2019-11-01 00:20:...|      cart|   1004870|samsung| 275.25|563626542|e6e2cb92-9103-4e6...|     0|electronics|smartphone|       NA|   NA|2019-11-01 01:20:25|      0|       20|         4|     1|      11|   2019|\n",
      "|2019-11-01 00:20:...|      cart|   1004870|samsung| 275.25|563626542|e6e2cb92-9103-4e6...|     0|electronics|smartphone|       NA|   NA|2019-11-01 01:20:49|      0|       20|         4|     1|      11|   2019|\n",
      "|2019-11-01 00:24:...|      cart|   4804295| xiaomi|  22.80|550508533|fff30096-d345-43a...|     0|electronics|     audio|headphone|   NA|2019-11-01 01:24:48|      0|       24|         4|     1|      11|   2019|\n",
      "|2019-11-01 00:25:...|      cart|   4804295| xiaomi|  22.80|550508533|fff30096-d345-43a...|     0|electronics|     audio|headphone|   NA|2019-11-01 01:25:12|      0|       25|         4|     1|      11|   2019|\n",
      "|2019-11-01 00:30:...|      cart|   1002633|  apple| 358.31|557994805|b3bbf6e2-f995-448...|     0|electronics|smartphone|       NA|   NA|2019-11-01 01:30:05|      0|       30|         4|     1|      11|   2019|\n",
      "|2019-11-01 00:30:...|      cart|   1004856|samsung| 128.42|512800858|ddb1ab7a-7667-4f7...|     0|electronics|smartphone|       NA|   NA|2019-11-01 01:30:35|      0|       30|         4|     1|      11|   2019|\n",
      "|2019-11-01 00:31:...|      cart|   1801881|samsung| 488.80|566283686|771370f8-6f8e-458...|     0|electronics|     video|       tv|   NA|2019-11-01 01:31:35|      0|       31|         4|     1|      11|   2019|\n",
      "|2019-11-01 00:33:...|      cart|   1201471|samsung| 469.84|547694248|ad31f016-29a7-4d6...|     0|electronics|    tablet|       NA|   NA|2019-11-01 01:33:37|      0|       33|         4|     1|      11|   2019|\n",
      "|2019-11-01 00:35:...|      cart|   1004767|samsung| 242.63|532542999|595c35b6-269b-433...|     0|electronics|smartphone|       NA|   NA|2019-11-01 01:35:55|      0|       35|         4|     1|      11|   2019|\n",
      "+--------------------+----------+----------+-------+-------+---------+--------------------+------+-----------+----------+---------+-----+-------------------+-------+---------+----------+------+--------+-------+\n",
      "only showing top 20 rows\n",
      "\n"
     ]
    }
   ],
   "execution_count": 3
  },
  {
   "metadata": {
    "ExecuteTime": {
     "end_time": "2025-07-15T18:36:30.475765Z",
     "start_time": "2025-07-15T18:36:30.187536Z"
    }
   },
   "cell_type": "code",
   "source": "df.describe()",
   "id": "78a8776ff8799b47",
   "outputs": [
    {
     "data": {
      "text/plain": [
       "DataFrame[summary: string, event_time: string, event_type: string, product_id: string, brand: string, price: string, user_id: string, user_session: string, target: string, cat_0: string, cat_1: string, cat_2: string, cat_3: string, ts_hour: string, ts_minute: string, ts_weekday: string, ts_day: string, ts_month: string, ts_year: string]"
      ]
     },
     "execution_count": 4,
     "metadata": {},
     "output_type": "execute_result"
    }
   ],
   "execution_count": 4
  },
  {
   "metadata": {
    "ExecuteTime": {
     "end_time": "2025-07-20T07:39:03.072258Z",
     "start_time": "2025-07-20T07:39:02.288333Z"
    }
   },
   "cell_type": "code",
   "source": [
    "from pyspark.sql.types import DateType, IntegerType, DoubleType\n",
    "df_casted = df.withColumn(\"price_int\", df[\"price\"].cast(DoubleType())).withColumn(\"ts_month_int\", df[\"ts_month\"].cast(IntegerType())).withColumn(\"ts_year_int\", df[\"ts_year\"].cast(IntegerType())).withColumn(\"ts_day_int\", df[\"ts_day\"].cast(IntegerType())).withColumn(\"ts_weekday_int\", df[\"ts_weekday\"].cast(IntegerType()))\n",
    "columns_to_drop = ['ts_month', 'price', 'ts_year', 'ts_day', 'ts_weekday']\n",
    "df_casted = df_casted.drop(*columns_to_drop)\n",
    "#df_casted = df_casted.withColumn(\"event_time_corr\", to_timestamp(df[\"event_time\"], \"yyyy-MM-dd HH:mm:ss\"))\n",
    "df_casted.show()"
   ],
   "id": "93e1b60b09df9218",
   "outputs": [
    {
     "name": "stdout",
     "output_type": "stream",
     "text": [
      "+--------------------+----------+----------+-------+---------+--------------------+------+-----------+----------+---------+-----+-------------------+-------+---------+---------+------------+-----------+----------+--------------+\n",
      "|          event_time|event_type|product_id|  brand|  user_id|        user_session|target|      cat_0|     cat_1|    cat_2|cat_3|          timestamp|ts_hour|ts_minute|price_int|ts_month_int|ts_year_int|ts_day_int|ts_weekday_int|\n",
      "+--------------------+----------+----------+-------+---------+--------------------+------+-----------+----------+---------+-----+-------------------+-------+---------+---------+------------+-----------+----------+--------------+\n",
      "|2019-11-01 00:00:...|      cart|   1005014|samsung|533326659|6b928be2-2bce-464...|     0|electronics|smartphone|       NA|   NA|2019-11-01 01:00:14|      0|        0|   503.09|          11|       2019|         1|             4|\n",
      "|2019-11-01 00:03:...|      cart|   1005115|  apple|565865924|fd4bd6d4-bd14-4fd...|     0|electronics|smartphone|       NA|   NA|2019-11-01 01:03:39|      0|        3|   949.47|          11|       2019|         1|             4|\n",
      "|2019-11-01 00:05:...|      cart|   1002542|  apple|549256216|dcbdc6e4-cd49-4ee...|     0|electronics|smartphone|       NA|   NA|2019-11-01 01:05:54|      0|        5|    486.8|          11|       2019|         1|             4|\n",
      "|2019-11-01 00:07:...|      cart|   1002542|  apple|549256216|dcbdc6e4-cd49-4ee...|     0|electronics|smartphone|       NA|   NA|2019-11-01 01:07:22|      0|        7|    486.8|          11|       2019|         1|             4|\n",
      "|2019-11-01 00:10:...|      cart|   4804056|  apple|522355747|0a1f37d1-71b7-464...|     0|electronics|     audio|headphone|   NA|2019-11-01 01:10:45|      0|       10|   160.57|          11|       2019|         1|             4|\n",
      "|2019-11-01 00:13:...|      cart|   1004873|samsung|563558500|e0729b6c-eafe-4b0...|     0|electronics|smartphone|       NA|   NA|2019-11-01 01:13:40|      0|       13|   362.29|          11|       2019|         1|             4|\n",
      "|2019-11-01 00:14:...|      cart|   1004856|samsung|513645631|8cccf28f-136d-494...|     0|electronics|smartphone|       NA|   NA|2019-11-01 01:14:09|      0|       14|   128.42|          11|       2019|         1|             4|\n",
      "|2019-11-01 00:14:...|      cart|   1004856|samsung|557839915|40304779-5050-440...|     0|electronics|smartphone|       NA|   NA|2019-11-01 01:14:23|      0|       14|   128.42|          11|       2019|         1|             4|\n",
      "|2019-11-01 00:15:...|      cart|   1005115|  apple|561713177|821f797d-f9f4-410...|     0|electronics|smartphone|       NA|   NA|2019-11-01 01:15:23|      0|       15|   949.47|          11|       2019|         1|             4|\n",
      "|2019-11-01 00:15:...|      cart|   1005116|  apple|513852314|892943dc-aacd-44d...|     0|electronics|smartphone|       NA|   NA|2019-11-01 01:15:46|      0|       15|  1013.86|          11|       2019|         1|             4|\n",
      "|2019-11-01 00:15:...|      cart|   1005116|  apple|513852314|892943dc-aacd-44d...|     0|electronics|smartphone|       NA|   NA|2019-11-01 01:15:56|      0|       15|  1013.86|          11|       2019|         1|             4|\n",
      "|2019-11-01 00:20:...|      cart|   1004870|samsung|563626542|e6e2cb92-9103-4e6...|     0|electronics|smartphone|       NA|   NA|2019-11-01 01:20:25|      0|       20|   275.25|          11|       2019|         1|             4|\n",
      "|2019-11-01 00:20:...|      cart|   1004870|samsung|563626542|e6e2cb92-9103-4e6...|     0|electronics|smartphone|       NA|   NA|2019-11-01 01:20:49|      0|       20|   275.25|          11|       2019|         1|             4|\n",
      "|2019-11-01 00:24:...|      cart|   4804295| xiaomi|550508533|fff30096-d345-43a...|     0|electronics|     audio|headphone|   NA|2019-11-01 01:24:48|      0|       24|     22.8|          11|       2019|         1|             4|\n",
      "|2019-11-01 00:25:...|      cart|   4804295| xiaomi|550508533|fff30096-d345-43a...|     0|electronics|     audio|headphone|   NA|2019-11-01 01:25:12|      0|       25|     22.8|          11|       2019|         1|             4|\n",
      "|2019-11-01 00:30:...|      cart|   1002633|  apple|557994805|b3bbf6e2-f995-448...|     0|electronics|smartphone|       NA|   NA|2019-11-01 01:30:05|      0|       30|   358.31|          11|       2019|         1|             4|\n",
      "|2019-11-01 00:30:...|      cart|   1004856|samsung|512800858|ddb1ab7a-7667-4f7...|     0|electronics|smartphone|       NA|   NA|2019-11-01 01:30:35|      0|       30|   128.42|          11|       2019|         1|             4|\n",
      "|2019-11-01 00:31:...|      cart|   1801881|samsung|566283686|771370f8-6f8e-458...|     0|electronics|     video|       tv|   NA|2019-11-01 01:31:35|      0|       31|    488.8|          11|       2019|         1|             4|\n",
      "|2019-11-01 00:33:...|      cart|   1201471|samsung|547694248|ad31f016-29a7-4d6...|     0|electronics|    tablet|       NA|   NA|2019-11-01 01:33:37|      0|       33|   469.84|          11|       2019|         1|             4|\n",
      "|2019-11-01 00:35:...|      cart|   1004767|samsung|532542999|595c35b6-269b-433...|     0|electronics|smartphone|       NA|   NA|2019-11-01 01:35:55|      0|       35|   242.63|          11|       2019|         1|             4|\n",
      "+--------------------+----------+----------+-------+---------+--------------------+------+-----------+----------+---------+-----+-------------------+-------+---------+---------+------------+-----------+----------+--------------+\n",
      "only showing top 20 rows\n",
      "\n"
     ]
    }
   ],
   "execution_count": 4
  },
  {
   "metadata": {
    "ExecuteTime": {
     "end_time": "2025-07-15T18:36:33.670222Z",
     "start_time": "2025-07-15T18:36:31.164922Z"
    }
   },
   "cell_type": "code",
   "source": "df_casted.describe(['price_int']).show()",
   "id": "f01b3b2f1eb6ff6b",
   "outputs": [
    {
     "name": "stdout",
     "output_type": "stream",
     "text": [
      "+-------+-----------------+\n",
      "|summary|        price_int|\n",
      "+-------+-----------------+\n",
      "|  count|         11495242|\n",
      "|   mean|287.9644098358388|\n",
      "| stddev|331.5377135506471|\n",
      "|    min|              0.0|\n",
      "|    max|          2574.07|\n",
      "+-------+-----------------+\n",
      "\n"
     ]
    }
   ],
   "execution_count": 6
  },
  {
   "metadata": {
    "ExecuteTime": {
     "end_time": "2025-07-15T18:36:34.552862Z",
     "start_time": "2025-07-15T18:36:33.750010Z"
    }
   },
   "cell_type": "code",
   "source": "df_casted.agg({'price_int': 'mean'}).collect()",
   "id": "bc7fa0de39c69a81",
   "outputs": [
    {
     "data": {
      "text/plain": [
       "[Row(avg(price_int)=287.9644098358388)]"
      ]
     },
     "execution_count": 7,
     "metadata": {},
     "output_type": "execute_result"
    }
   ],
   "execution_count": 7
  },
  {
   "metadata": {
    "ExecuteTime": {
     "end_time": "2025-07-15T18:08:24.907850Z",
     "start_time": "2025-07-15T18:08:23.681130Z"
    }
   },
   "cell_type": "code",
   "source": "df_casted.cov('price_int', 'ts_month_int')",
   "id": "2d7e3adeb05a353b",
   "outputs": [
    {
     "data": {
      "text/plain": [
       "-14.229403072645727"
      ]
     },
     "execution_count": 10,
     "metadata": {},
     "output_type": "execute_result"
    }
   ],
   "execution_count": 10
  },
  {
   "metadata": {
    "ExecuteTime": {
     "end_time": "2025-07-15T18:08:26.543841Z",
     "start_time": "2025-07-15T18:08:25.967383Z"
    }
   },
   "cell_type": "code",
   "source": "df_casted.count()",
   "id": "10c6730d8c69c1c1",
   "outputs": [
    {
     "data": {
      "text/plain": [
       "11495242"
      ]
     },
     "execution_count": 11,
     "metadata": {},
     "output_type": "execute_result"
    }
   ],
   "execution_count": 11
  },
  {
   "metadata": {
    "ExecuteTime": {
     "end_time": "2025-07-15T18:08:27.591823Z",
     "start_time": "2025-07-15T18:08:27.348475Z"
    }
   },
   "cell_type": "code",
   "source": "df_casted.sample(False, 0.5, 42).count()",
   "id": "9b980356502cdaee",
   "outputs": [
    {
     "data": {
      "text/plain": [
       "5747189"
      ]
     },
     "execution_count": 12,
     "metadata": {},
     "output_type": "execute_result"
    }
   ],
   "execution_count": 12
  },
  {
   "metadata": {
    "ExecuteTime": {
     "end_time": "2025-07-15T18:09:11.494950Z",
     "start_time": "2025-07-15T18:08:29.398815Z"
    }
   },
   "cell_type": "code",
   "source": [
    "import seaborn as sns\n",
    "\n",
    "sample_df = df_casted.select('price_int').sample(False, 0.5, 42)\n",
    "\n",
    "pandas_df = sample_df.toPandas()\n",
    "sns.distplot(pandas_df)"
   ],
   "id": "286ae22c4a22e97",
   "outputs": [
    {
     "name": "stderr",
     "output_type": "stream",
     "text": [
      "C:\\Users\\kizer\\AppData\\Local\\Temp\\ipykernel_54004\\1783027884.py:6: UserWarning: \n",
      "\n",
      "`distplot` is a deprecated function and will be removed in seaborn v0.14.0.\n",
      "\n",
      "Please adapt your code to use either `displot` (a figure-level function with\n",
      "similar flexibility) or `histplot` (an axes-level function for histograms).\n",
      "\n",
      "For a guide to updating your code to use the new functions, please see\n",
      "https://gist.github.com/mwaskom/de44147ed2974457ad6372750bbe5751\n",
      "\n",
      "  sns.distplot(pandas_df)\n"
     ]
    },
    {
     "data": {
      "text/plain": [
       "<Axes: ylabel='Density'>"
      ]
     },
     "execution_count": 13,
     "metadata": {},
     "output_type": "execute_result"
    },
    {
     "data": {
      "text/plain": [
       "<Figure size 640x480 with 1 Axes>"
      ],
      "image/png": "[encoded data removed]"
     },
     "metadata": {},
     "output_type": "display_data"
    }
   ],
   "execution_count": 13
  },
  {
   "metadata": {
    "ExecuteTime": {
     "end_time": "2025-07-15T18:09:14.521754Z",
     "start_time": "2025-07-15T18:09:11.531852Z"
    }
   },
   "cell_type": "code",
   "source": [
    "s_df = df_casted.select(['price_int', 'ts_weekday_int'])\n",
    "s_df = s_df.sample(False, 0.1, 42)\n",
    "pandas_df_s = s_df.toPandas()"
   ],
   "id": "5135d4ae55cd8e11",
   "outputs": [],
   "execution_count": 14
  },
  {
   "metadata": {
    "ExecuteTime": {
     "end_time": "2025-07-15T18:10:55.263998Z",
     "start_time": "2025-07-15T18:09:14.552648Z"
    }
   },
   "cell_type": "code",
   "source": "sns.lmplot(x='ts_weekday_int', y='price_int', data=pandas_df_s)",
   "id": "25be392ac5c735e5",
   "outputs": [
    {
     "data": {
      "text/plain": [
       "<seaborn.axisgrid.FacetGrid at 0x29e83762f50>"
      ]
     },
     "execution_count": 15,
     "metadata": {},
     "output_type": "execute_result"
    },
    {
     "data": {
      "text/plain": [
       "<Figure size 500x500 with 1 Axes>"
      ],
      "image/png": "[encoded data removed]"
     },
     "metadata": {},
     "output_type": "display_data"
    }
   ],
   "execution_count": 15
  },
  {
   "metadata": {
    "ExecuteTime": {
     "end_time": "2025-07-16T07:55:16.918547Z",
     "start_time": "2025-07-16T07:55:09.461491Z"
    }
   },
   "cell_type": "code",
   "source": [
    "#value filtering data using 3 std distance\n",
    "std_val = df_casted.agg({'price_int': 'stddev'}).collect()[0][0]\n",
    "mean_val = df_casted.agg({'price_int': 'mean'}).collect()[0][0]\n",
    "\n",
    "hi_bound = mean_val+(3*std_val)\n",
    "low_bound = mean_val-(3*std_val)\n",
    "\n",
    "df_filtered = df_casted.where((df_casted['price_int'] < hi_bound) & (df_casted['price_int'] > low_bound))\n",
    "num_rows = df_filtered.count()\n",
    "print(df_casted.count())\n",
    "print(num_rows)\n",
    "#df_filtered.show()"
   ],
   "id": "4b30f260f180dcda",
   "outputs": [
    {
     "name": "stdout",
     "output_type": "stream",
     "text": [
      "11495242\n",
      "11203806\n"
     ]
    }
   ],
   "execution_count": 6
  },
  {
   "metadata": {
    "ExecuteTime": {
     "end_time": "2025-07-15T18:12:09.148387Z",
     "start_time": "2025-07-15T18:12:09.124450Z"
    }
   },
   "cell_type": "code",
   "source": [
    "df_casted.dropna(how='any', thresh=50, subset=['ts_weekday_int']) #if in how 'any' than drop a record if it contains any nulls.\n",
    "# If 'all' drop a record only if all its values are null\n",
    "#thresh: int, if specified drop records that have less than tresh non-null values, overwrites the how parameter\n",
    "#subset: optional list of column names to consider"
   ],
   "id": "35cdebb45502b57e",
   "outputs": [
    {
     "data": {
      "text/plain": [
       "DataFrame[event_time: string, event_type: string, product_id: string, brand: string, user_id: string, user_session: string, target: bigint, cat_0: string, cat_1: string, cat_2: string, cat_3: string, timestamp: timestamp, ts_hour: smallint, ts_minute: smallint, price_int: double, ts_month_int: int, ts_year_int: int, ts_day_int: int, ts_weekday_int: int]"
      ]
     },
     "execution_count": 19,
     "metadata": {},
     "output_type": "execute_result"
    }
   ],
   "execution_count": 19
  },
  {
   "metadata": {
    "ExecuteTime": {
     "end_time": "2025-07-16T07:55:23.307460Z",
     "start_time": "2025-07-16T07:55:19.866661Z"
    }
   },
   "cell_type": "code",
   "source": [
    "# MinMax scaling\n",
    "# we take variable to be scaled, substract by minimum value and divide by substaction of max and min value\n",
    "# Xi,j* = (Xi,j - Xj MIN) / (Xj MAX - Xj MIN) \n",
    "\n",
    "max_price = df_casted.agg({'price_int': 'max'}).collect()[0][0]\n",
    "min_price = df_casted.agg({'price_int': 'min'}).collect()[0][0]\n",
    "\n",
    "df_casted = df_casted.withColumn(\"scaled_price\",\n",
    "                                 (df_casted['price_int'] - min_price) / (max_price - min_price))\n",
    "df_casted[['scaled_price']].show(5)"
   ],
   "id": "f38263249034b6f5",
   "outputs": [
    {
     "name": "stdout",
     "output_type": "stream",
     "text": [
      "+-------------------+\n",
      "|       scaled_price|\n",
      "+-------------------+\n",
      "| 0.1954453453091796|\n",
      "| 0.3688594327271597|\n",
      "| 0.1891168460842168|\n",
      "| 0.1891168460842168|\n",
      "|0.06237981096085187|\n",
      "+-------------------+\n",
      "only showing top 5 rows\n",
      "\n"
     ]
    }
   ],
   "execution_count": 7
  },
  {
   "metadata": {
    "ExecuteTime": {
     "end_time": "2025-07-16T07:55:24.428462Z",
     "start_time": "2025-07-16T07:55:23.532858Z"
    }
   },
   "cell_type": "code",
   "source": [
    "# Standardization - transforming data to standard normal distribution, mean = 0 and std = 1\n",
    "df_casted = df_casted.withColumn(\"ztrans_price\",\n",
    "                                 (df_casted['price_int'] - mean_val) / std_val)\n",
    "df_casted.agg({'ztrans_price': 'mean'}).collect()"
   ],
   "id": "c484afc0be00a86a",
   "outputs": [
    {
     "data": {
      "text/plain": [
       "[Row(avg(ztrans_price)=-2.4421258171688696e-14)]"
      ]
     },
     "execution_count": 8,
     "metadata": {},
     "output_type": "execute_result"
    }
   ],
   "execution_count": 8
  },
  {
   "metadata": {
    "ExecuteTime": {
     "end_time": "2025-07-15T18:12:22.249232Z",
     "start_time": "2025-07-15T18:12:21.209973Z"
    }
   },
   "cell_type": "code",
   "source": "df_casted.agg({'ztrans_price': 'stddev'}).collect()",
   "id": "5c9cbe5c08d7a134",
   "outputs": [
    {
     "data": {
      "text/plain": [
       "[Row(stddev(ztrans_price)=0.9999999999999991)]"
      ]
     },
     "execution_count": 22,
     "metadata": {},
     "output_type": "execute_result"
    }
   ],
   "execution_count": 22
  },
  {
   "metadata": {
    "ExecuteTime": {
     "end_time": "2025-07-15T18:12:53.758963Z",
     "start_time": "2025-07-15T18:12:27.193682Z"
    }
   },
   "cell_type": "code",
   "source": [
    "sam_df = df_casted.select('ztrans_price').sample(False, 0.5, 42)\n",
    "\n",
    "pan_df = sam_df.toPandas()\n",
    "sns.histplot(pan_df)"
   ],
   "id": "7358999b1604272d",
   "outputs": [
    {
     "data": {
      "text/plain": [
       "<Axes: ylabel='Count'>"
      ]
     },
     "execution_count": 23,
     "metadata": {},
     "output_type": "execute_result"
    },
    {
     "data": {
      "text/plain": [
       "<Figure size 640x480 with 1 Axes>"
      ],
      "image/png": "[encoded data removed]"
     },
     "metadata": {},
     "output_type": "display_data"
    }
   ],
   "execution_count": 23
  },
  {
   "metadata": {
    "ExecuteTime": {
     "end_time": "2025-07-15T18:13:16.570506Z",
     "start_time": "2025-07-15T18:12:53.778888Z"
    }
   },
   "cell_type": "code",
   "source": [
    "#log scaling\n",
    "from pyspark.sql.functions import log\n",
    "\n",
    "df_casted = df_casted.withColumn('log_price', log(df_casted['price_int']))\n",
    "\n",
    "sa_df = df_casted.select('log_price').sample(False, 0.5, 42)\n",
    "\n",
    "pa_df = sa_df.toPandas()\n",
    "sns.histplot(pa_df)"
   ],
   "id": "bab79ef9d3d33c7",
   "outputs": [
    {
     "data": {
      "text/plain": [
       "<Axes: ylabel='Count'>"
      ]
     },
     "execution_count": 24,
     "metadata": {},
     "output_type": "execute_result"
    },
    {
     "data": {
      "text/plain": [
       "<Figure size 640x480 with 1 Axes>"
      ],
      "image/png": "[encoded data removed]"
     },
     "metadata": {},
     "output_type": "display_data"
    }
   ],
   "execution_count": 24
  },
  {
   "metadata": {
    "ExecuteTime": {
     "end_time": "2025-07-15T18:13:17.265155Z",
     "start_time": "2025-07-15T18:13:16.601421Z"
    }
   },
   "cell_type": "code",
   "source": [
    "# How to deal with missing values?\n",
    "# Process of replacing missing values:\n",
    "# rule based:\n",
    "#   Value based on business logic\n",
    "# Statistics based:\n",
    "#       Using mean, median, etc\n",
    "# Model Based:\n",
    "#   Use model to predict value\n",
    "\n",
    "df_casted.where(df_casted['price_int'].isNull()).count()\n",
    "\n",
    "#imputation of missing valuesL\n",
    "df_casted.fillna(0, subset=['price_int']) #filling missing values with 0\n",
    "df_casted.fillna(mean_val, subset=['price_int']) #filling with mean value"
   ],
   "id": "835ae22862668913",
   "outputs": [
    {
     "data": {
      "text/plain": [
       "DataFrame[event_time: string, event_type: string, product_id: string, brand: string, user_id: string, user_session: string, target: bigint, cat_0: string, cat_1: string, cat_2: string, cat_3: string, timestamp: timestamp, ts_hour: smallint, ts_minute: smallint, price_int: double, ts_month_int: int, ts_year_int: int, ts_day_int: int, ts_weekday_int: int, scaled_price: double, ztrans_price: double, log_price: double]"
      ]
     },
     "execution_count": 25,
     "metadata": {},
     "output_type": "execute_result"
    }
   ],
   "execution_count": 25
  },
  {
   "metadata": {
    "ExecuteTime": {
     "end_time": "2025-07-15T18:13:17.310036Z",
     "start_time": "2025-07-15T18:13:17.282110Z"
    }
   },
   "cell_type": "code",
   "source": [
    "# types of JOINS:\n",
    "# INNER JOIN (only values present in both datasets)\n",
    "# FULL JOIN ( everything)\n",
    "# LEFT JOIN ( left dataset with values which are present in both datasets)\n",
    "# RIGHT JOIN ( right dataset with common values of both datasets )\n",
    "# if left data set is our starting data set we want to keep it so always use left join!\n",
    "\n",
    "# spark method join:\n",
    "DataFrame.join(\n",
    "    other,  # other dataFrame to merge \n",
    "    on=None,    # the kys to join on\n",
    "    how=None    # type of join to perform (default is 'inner')\n",
    ")\n",
    "\n",
    "#SQL join type:\n",
    "\n",
    "#create temp table:\n",
    "df_casted.createOrReplaceTempView('df_casted')\n",
    "otherDataFrame.createOrReplaceTempView('otherDataFrame')\n",
    "\n",
    "sql_df = spark.sql(\"\"\"\n",
    "                    SELECT * FROM df_casted\n",
    "                    LEFT JOIN otherDataFrame\n",
    "                    ON df_casted.id = otherDataFrame.id\n",
    "                    \"\"\")"
   ],
   "id": "2c5f7405566a791d",
   "outputs": [
    {
     "ename": "NameError",
     "evalue": "name 'DataFrame' is not defined",
     "output_type": "error",
     "traceback": [
      "\u001B[1;31m---------------------------------------------------------------------------\u001B[0m",
      "\u001B[1;31mNameError\u001B[0m                                 Traceback (most recent call last)",
      "Cell \u001B[1;32mIn[26], line 9\u001B[0m\n\u001B[0;32m      1\u001B[0m \u001B[38;5;66;03m# types of JOINS:\u001B[39;00m\n\u001B[0;32m      2\u001B[0m \u001B[38;5;66;03m# INNER JOIN (only values present in both datasets)\u001B[39;00m\n\u001B[0;32m      3\u001B[0m \u001B[38;5;66;03m# FULL JOIN ( everything)\u001B[39;00m\n\u001B[1;32m   (...)\u001B[0m\n\u001B[0;32m      7\u001B[0m \n\u001B[0;32m      8\u001B[0m \u001B[38;5;66;03m# spark method join:\u001B[39;00m\n\u001B[1;32m----> 9\u001B[0m \u001B[43mDataFrame\u001B[49m\u001B[38;5;241m.\u001B[39mjoin(\n\u001B[0;32m     10\u001B[0m     other,  \u001B[38;5;66;03m# other dataFrame to merge \u001B[39;00m\n\u001B[0;32m     11\u001B[0m     on\u001B[38;5;241m=\u001B[39m\u001B[38;5;28;01mNone\u001B[39;00m,    \u001B[38;5;66;03m# the kys to join on\u001B[39;00m\n\u001B[0;32m     12\u001B[0m     how\u001B[38;5;241m=\u001B[39m\u001B[38;5;28;01mNone\u001B[39;00m    \u001B[38;5;66;03m# type of join to perform (default is 'inner')\u001B[39;00m\n\u001B[0;32m     13\u001B[0m )\n\u001B[0;32m     15\u001B[0m \u001B[38;5;66;03m#SQL join type:\u001B[39;00m\n\u001B[0;32m     16\u001B[0m \n\u001B[0;32m     17\u001B[0m \u001B[38;5;66;03m#create temp table:\u001B[39;00m\n\u001B[0;32m     18\u001B[0m df_casted\u001B[38;5;241m.\u001B[39mcreateOrReplaceTempView(\u001B[38;5;124m'\u001B[39m\u001B[38;5;124mdf_casted\u001B[39m\u001B[38;5;124m'\u001B[39m)\n",
      "\u001B[1;31mNameError\u001B[0m: name 'DataFrame' is not defined"
     ]
    }
   ],
   "execution_count": 26
  },
  {
   "metadata": {
    "ExecuteTime": {
     "end_time": "2025-07-15T18:36:35.442719Z",
     "start_time": "2025-07-15T18:36:34.570814Z"
    }
   },
   "cell_type": "code",
   "source": [
    "#feature generation\n",
    "# as we divide, sum, subtract or multiply some variables in our dataframe we could obtain some new, good features\n",
    "# libraries for automation of features: featureTools & TSFresh\n",
    "import featuretools as ft\n",
    "\n",
    "es = ft.demo.load_mock_customer(return_entityset=True)\n",
    "es.plot()"
   ],
   "id": "f8e9a7e05fdb4532",
   "outputs": [
    {
     "name": "stderr",
     "output_type": "stream",
     "text": [
      "C:\\Users\\kizer\\miniconda3\\envs\\spark354_env\\lib\\site-packages\\woodwork\\type_sys\\utils.py:33: UserWarning: Could not infer format, so each element will be parsed individually, falling back to `dateutil`. To ensure parsing is consistent and as-expected, please specify a format.\n",
      "  pd.to_datetime(\n",
      "C:\\Users\\kizer\\miniconda3\\envs\\spark354_env\\lib\\site-packages\\woodwork\\type_sys\\utils.py:33: UserWarning: Could not infer format, so each element will be parsed individually, falling back to `dateutil`. To ensure parsing is consistent and as-expected, please specify a format.\n",
      "  pd.to_datetime(\n",
      "C:\\Users\\kizer\\miniconda3\\envs\\spark354_env\\lib\\site-packages\\woodwork\\type_sys\\utils.py:33: UserWarning: Could not infer format, so each element will be parsed individually, falling back to `dateutil`. To ensure parsing is consistent and as-expected, please specify a format.\n",
      "  pd.to_datetime(\n",
      "C:\\Users\\kizer\\miniconda3\\envs\\spark354_env\\lib\\site-packages\\woodwork\\type_sys\\utils.py:33: UserWarning: Could not infer format, so each element will be parsed individually, falling back to `dateutil`. To ensure parsing is consistent and as-expected, please specify a format.\n",
      "  pd.to_datetime(\n"
     ]
    },
    {
     "data": {
      "image/svg+xml": "<?xml version=\"1.0\" encoding=\"UTF-8\" standalone=\"no\"?>\n<!DOCTYPE svg PUBLIC \"-//W3C//DTD SVG 1.1//EN\"\n \"http://www.w3.org/Graphics/SVG/1.1/DTD/svg11.dtd\">\n<!-- Generated by graphviz version 13.1.0 (20250701.0955)\n -->\n<!-- Title: transactions Pages: 1 -->\n<svg width=\"514pt\" height=\"445pt\"\n viewBox=\"0.00 0.00 514.00 445.00\" xmlns=\"http://www.w3.org/2000/svg\" xmlns:xlink=\"http://www.w3.org/1999/xlink\">\n<g id=\"graph0\" class=\"graph\" transform=\"scale(1 1) rotate(0) translate(4 440.5)\">\n<title>transactions</title>\n<polygon fill=\"white\" stroke=\"none\" points=\"-4,4 -4,-440.5 510,-440.5 510,4 -4,4\"/>\n<!-- transactions -->\n<g id=\"node1\" class=\"node\">\n<title>transactions</title>\n<polygon fill=\"none\" stroke=\"black\" points=\"131,-304.5 131,-436 375,-436 375,-304.5 131,-304.5\"/>\n<text xml:space=\"preserve\" text-anchor=\"middle\" x=\"253\" y=\"-418.7\" font-family=\"Times New Roman,serif\" font-size=\"14.00\">transactions (500 rows)</text>\n<polyline fill=\"none\" stroke=\"black\" points=\"131,-411.5 375,-411.5\"/>\n<text xml:space=\"preserve\" text-anchor=\"start\" x=\"139\" y=\"-394.2\" font-family=\"Times New Roman,serif\" font-size=\"14.00\">transaction_id : Integer; index</text>\n<text xml:space=\"preserve\" text-anchor=\"start\" x=\"139\" y=\"-377.7\" font-family=\"Times New Roman,serif\" font-size=\"14.00\">session_id : Integer; foreign_key</text>\n<text xml:space=\"preserve\" text-anchor=\"start\" x=\"139\" y=\"-361.2\" font-family=\"Times New Roman,serif\" font-size=\"14.00\">transaction_time : Datetime; time_index</text>\n<text xml:space=\"preserve\" text-anchor=\"start\" x=\"139\" y=\"-344.7\" font-family=\"Times New Roman,serif\" font-size=\"14.00\">product_id : Categorical; foreign_key</text>\n<text xml:space=\"preserve\" text-anchor=\"start\" x=\"139\" y=\"-328.2\" font-family=\"Times New Roman,serif\" font-size=\"14.00\">amount : Double</text>\n<text xml:space=\"preserve\" text-anchor=\"start\" x=\"139\" y=\"-311.7\" font-family=\"Times New Roman,serif\" font-size=\"14.00\">_ft_last_time : Datetime; last_time_index</text>\n</g>\n<!-- products -->\n<g id=\"node2\" class=\"node\">\n<title>products</title>\n<polygon fill=\"none\" stroke=\"black\" points=\"0,-169 0,-251 244,-251 244,-169 0,-169\"/>\n<text xml:space=\"preserve\" text-anchor=\"middle\" x=\"122\" y=\"-233.7\" font-family=\"Times New Roman,serif\" font-size=\"14.00\">products (5 rows)</text>\n<polyline fill=\"none\" stroke=\"black\" points=\"0,-226.5 244,-226.5\"/>\n<text xml:space=\"preserve\" text-anchor=\"start\" x=\"8\" y=\"-209.2\" font-family=\"Times New Roman,serif\" font-size=\"14.00\">product_id : Categorical; index</text>\n<text xml:space=\"preserve\" text-anchor=\"start\" x=\"8\" y=\"-192.7\" font-family=\"Times New Roman,serif\" font-size=\"14.00\">brand : Unknown</text>\n<text xml:space=\"preserve\" text-anchor=\"start\" x=\"8\" y=\"-176.2\" font-family=\"Times New Roman,serif\" font-size=\"14.00\">_ft_last_time : Datetime; last_time_index</text>\n</g>\n<!-- transactions&#45;&gt;products -->\n<g id=\"edge1\" class=\"edge\">\n<title>transactions&#45;&gt;products</title>\n<path fill=\"none\" stroke=\"black\" d=\"M187.5,-304.14C187.5,-304.14 187.5,-262.7 187.5,-262.7\"/>\n<polygon fill=\"black\" stroke=\"black\" points=\"191,-262.7 187.5,-252.7 184,-262.7 191,-262.7\"/>\n<text xml:space=\"preserve\" text-anchor=\"middle\" x=\"158.25\" y=\"-286.62\" font-family=\"Times New Roman,serif\" font-size=\"14.00\">product_id</text>\n</g>\n<!-- sessions -->\n<g id=\"node3\" class=\"node\">\n<title>sessions</title>\n<polygon fill=\"none\" stroke=\"black\" points=\"262,-152.5 262,-267.5 506,-267.5 506,-152.5 262,-152.5\"/>\n<text xml:space=\"preserve\" text-anchor=\"middle\" x=\"384\" y=\"-250.2\" font-family=\"Times New Roman,serif\" font-size=\"14.00\">sessions (35 rows)</text>\n<polyline fill=\"none\" stroke=\"black\" points=\"262,-243 506,-243\"/>\n<text xml:space=\"preserve\" text-anchor=\"start\" x=\"270\" y=\"-225.7\" font-family=\"Times New Roman,serif\" font-size=\"14.00\">session_id : Integer; index</text>\n<text xml:space=\"preserve\" text-anchor=\"start\" x=\"270\" y=\"-209.2\" font-family=\"Times New Roman,serif\" font-size=\"14.00\">customer_id : Integer; foreign_key</text>\n<text xml:space=\"preserve\" text-anchor=\"start\" x=\"270\" y=\"-192.7\" font-family=\"Times New Roman,serif\" font-size=\"14.00\">device : Categorical</text>\n<text xml:space=\"preserve\" text-anchor=\"start\" x=\"270\" y=\"-176.2\" font-family=\"Times New Roman,serif\" font-size=\"14.00\">session_start : Datetime; time_index</text>\n<text xml:space=\"preserve\" text-anchor=\"start\" x=\"270\" y=\"-159.7\" font-family=\"Times New Roman,serif\" font-size=\"14.00\">_ft_last_time : Datetime; last_time_index</text>\n</g>\n<!-- transactions&#45;&gt;sessions -->\n<g id=\"edge2\" class=\"edge\">\n<title>transactions&#45;&gt;sessions</title>\n<path fill=\"none\" stroke=\"black\" d=\"M318.5,-304.14C318.5,-304.14 318.5,-279.28 318.5,-279.28\"/>\n<polygon fill=\"black\" stroke=\"black\" points=\"322,-279.28 318.5,-269.28 315,-279.28 322,-279.28\"/>\n<text xml:space=\"preserve\" text-anchor=\"middle\" x=\"290.38\" y=\"-278.41\" font-family=\"Times New Roman,serif\" font-size=\"14.00\">session_id</text>\n</g>\n<!-- customers -->\n<g id=\"node4\" class=\"node\">\n<title>customers</title>\n<polygon fill=\"none\" stroke=\"black\" points=\"262,-0.5 262,-115.5 506,-115.5 506,-0.5 262,-0.5\"/>\n<text xml:space=\"preserve\" text-anchor=\"middle\" x=\"384\" y=\"-98.2\" font-family=\"Times New Roman,serif\" font-size=\"14.00\">customers (5 rows)</text>\n<polyline fill=\"none\" stroke=\"black\" points=\"262,-91 506,-91\"/>\n<text xml:space=\"preserve\" text-anchor=\"start\" x=\"270\" y=\"-73.7\" font-family=\"Times New Roman,serif\" font-size=\"14.00\">customer_id : Integer; index</text>\n<text xml:space=\"preserve\" text-anchor=\"start\" x=\"270\" y=\"-57.2\" font-family=\"Times New Roman,serif\" font-size=\"14.00\">zip_code : PostalCode</text>\n<text xml:space=\"preserve\" text-anchor=\"start\" x=\"270\" y=\"-40.7\" font-family=\"Times New Roman,serif\" font-size=\"14.00\">join_date : Datetime; time_index</text>\n<text xml:space=\"preserve\" text-anchor=\"start\" x=\"270\" y=\"-24.2\" font-family=\"Times New Roman,serif\" font-size=\"14.00\">birthday : Datetime</text>\n<text xml:space=\"preserve\" text-anchor=\"start\" x=\"270\" y=\"-7.7\" font-family=\"Times New Roman,serif\" font-size=\"14.00\">_ft_last_time : Datetime; last_time_index</text>\n</g>\n<!-- sessions&#45;&gt;customers -->\n<g id=\"edge3\" class=\"edge\">\n<title>sessions&#45;&gt;customers</title>\n<path fill=\"none\" stroke=\"black\" d=\"M384,-152.1C384,-152.1 384,-127.5 384,-127.5\"/>\n<polygon fill=\"black\" stroke=\"black\" points=\"387.5,-127.5 384,-117.5 380.5,-127.5 387.5,-127.5\"/>\n<text xml:space=\"preserve\" text-anchor=\"middle\" x=\"350.25\" y=\"-126.5\" font-family=\"Times New Roman,serif\" font-size=\"14.00\">customer_id</text>\n</g>\n</g>\n</svg>\n",
      "text/plain": [
       "<graphviz.graphs.Digraph at 0x1317ad897e0>"
      ]
     },
     "execution_count": 8,
     "metadata": {},
     "output_type": "execute_result"
    }
   ],
   "execution_count": 8
  },
  {
   "metadata": {
    "ExecuteTime": {
     "end_time": "2025-07-15T18:37:36.815504Z",
     "start_time": "2025-07-15T18:37:35.570835Z"
    }
   },
   "cell_type": "code",
   "source": [
    "from tsfresh.examples.robot_execution_failures import download_robot_execution_failures, \\\n",
    "    load_robot_execution_failures\n",
    "download_robot_execution_failures()\n",
    "timeseries, y = load_robot_execution_failures()\n",
    "print(timeseries.head())"
   ],
   "id": "7359edf0c1b50d00",
   "outputs": [
    {
     "name": "stdout",
     "output_type": "stream",
     "text": [
      "   id  time  F_x  F_y  F_z  T_x  T_y  T_z\n",
      "0   1     0   -1   -1   63   -3   -1    0\n",
      "1   1     1    0    0   62   -3   -1    0\n",
      "2   1     2   -1   -1   61   -3    0    0\n",
      "3   1     3   -1   -1   63   -2   -1    0\n",
      "4   1     4   -1   -1   63   -3   -1    0\n"
     ]
    }
   ],
   "execution_count": 9
  },
  {
   "metadata": {
    "ExecuteTime": {
     "end_time": "2025-07-15T18:37:50.421372Z",
     "start_time": "2025-07-15T18:37:49.430993Z"
    }
   },
   "cell_type": "code",
   "source": [
    "import matplotlib.pyplot as plt\n",
    "timeseries[timeseries['id'] == 3].plot(subplots=True, sharex=True, figsize=(10,10))\n",
    "plt.show()"
   ],
   "id": "36c52240e9c1a435",
   "outputs": [
    {
     "data": {
      "text/plain": [
       "<Figure size 1000x1000 with 8 Axes>"
      ],
      "image/png": "[encoded data removed]"
     },
     "metadata": {},
     "output_type": "display_data"
    }
   ],
   "execution_count": 10
  },
  {
   "metadata": {
    "ExecuteTime": {
     "end_time": "2025-07-20T08:05:30.537502Z",
     "start_time": "2025-07-20T08:05:30.367331Z"
    }
   },
   "cell_type": "code",
   "source": [
    "#time features\n",
    "from pyspark.sql.functions import to_timestamp\n",
    "from pyspark.sql.functions import col\n",
    "df_casted = df_casted.withColumn(\"c\", to_timestamp(col(\"event_time\"), \"yyyy-MM-dd HH:mm:ss z\"))\n",
    "df_casted[['c']].show()\n",
    "df_casted.printSchema()\n",
    "#df_casted.describe()"
   ],
   "id": "3ec07d1db81ba787",
   "outputs": [
    {
     "name": "stdout",
     "output_type": "stream",
     "text": [
      "+-------------------+\n",
      "|                  c|\n",
      "+-------------------+\n",
      "|2019-11-01 01:00:14|\n",
      "|2019-11-01 01:03:39|\n",
      "|2019-11-01 01:05:54|\n",
      "|2019-11-01 01:07:22|\n",
      "|2019-11-01 01:10:45|\n",
      "|2019-11-01 01:13:40|\n",
      "|2019-11-01 01:14:09|\n",
      "|2019-11-01 01:14:23|\n",
      "|2019-11-01 01:15:23|\n",
      "|2019-11-01 01:15:46|\n",
      "|2019-11-01 01:15:56|\n",
      "|2019-11-01 01:20:25|\n",
      "|2019-11-01 01:20:49|\n",
      "|2019-11-01 01:24:48|\n",
      "|2019-11-01 01:25:12|\n",
      "|2019-11-01 01:30:05|\n",
      "|2019-11-01 01:30:35|\n",
      "|2019-11-01 01:31:35|\n",
      "|2019-11-01 01:33:37|\n",
      "|2019-11-01 01:35:55|\n",
      "+-------------------+\n",
      "only showing top 20 rows\n",
      "\n",
      "root\n",
      " |-- event_time: string (nullable = true)\n",
      " |-- event_type: string (nullable = true)\n",
      " |-- product_id: string (nullable = true)\n",
      " |-- brand: string (nullable = true)\n",
      " |-- user_id: string (nullable = true)\n",
      " |-- user_session: string (nullable = true)\n",
      " |-- target: long (nullable = true)\n",
      " |-- cat_0: string (nullable = true)\n",
      " |-- cat_1: string (nullable = true)\n",
      " |-- cat_2: string (nullable = true)\n",
      " |-- cat_3: string (nullable = true)\n",
      " |-- timestamp: timestamp (nullable = true)\n",
      " |-- ts_hour: short (nullable = true)\n",
      " |-- ts_minute: short (nullable = true)\n",
      " |-- price_int: double (nullable = true)\n",
      " |-- ts_month_int: integer (nullable = true)\n",
      " |-- ts_year_int: integer (nullable = true)\n",
      " |-- ts_day_int: integer (nullable = true)\n",
      " |-- ts_weekday_int: integer (nullable = true)\n",
      " |-- date: string (nullable = true)\n",
      " |-- c: timestamp (nullable = true)\n",
      "\n"
     ]
    }
   ],
   "execution_count": 14
  },
  {
   "metadata": {
    "ExecuteTime": {
     "end_time": "2025-07-16T08:27:40.214674Z",
     "start_time": "2025-07-16T08:27:40.099978Z"
    }
   },
   "cell_type": "code",
   "source": [
    "from pyspark.sql.functions import regexp_extract\n",
    "\n",
    "df_casted = df_casted.withColumn(\"timezone\", regexp_extract(col('event_time'), r'(\\w+)$', 1))\n",
    "df_casted[['timezone']].show()"
   ],
   "id": "1ee913fc6f558b75",
   "outputs": [
    {
     "name": "stdout",
     "output_type": "stream",
     "text": [
      "+--------+\n",
      "|timezone|\n",
      "+--------+\n",
      "|     UTC|\n",
      "|     UTC|\n",
      "|     UTC|\n",
      "|     UTC|\n",
      "|     UTC|\n",
      "|     UTC|\n",
      "|     UTC|\n",
      "|     UTC|\n",
      "|     UTC|\n",
      "|     UTC|\n",
      "|     UTC|\n",
      "|     UTC|\n",
      "|     UTC|\n",
      "|     UTC|\n",
      "|     UTC|\n",
      "|     UTC|\n",
      "|     UTC|\n",
      "|     UTC|\n",
      "|     UTC|\n",
      "|     UTC|\n",
      "+--------+\n",
      "only showing top 20 rows\n",
      "\n"
     ]
    }
   ],
   "execution_count": 32
  },
  {
   "metadata": {
    "ExecuteTime": {
     "end_time": "2025-07-16T08:28:31.129630Z",
     "start_time": "2025-07-16T08:28:30.532256Z"
    }
   },
   "cell_type": "code",
   "source": [
    "from pyspark.sql.functions import year, month, dayofmonth, weekofyear, hour, dayofweek\n",
    "\n",
    "df_casted = df_casted.withColumn('extracted_year', year('c'))\n",
    "df_casted = df_casted.withColumn('extracted_month', month('c'))\n",
    "df_casted = df_casted.withColumn('extracted_day_month', dayofmonth('c'))\n",
    "df_casted = df_casted.withColumn('extracted_week_year', weekofyear('c'))\n",
    "df_casted.show()"
   ],
   "id": "2342db4d56dd7141",
   "outputs": [
    {
     "name": "stdout",
     "output_type": "stream",
     "text": [
      "+--------------------+----------+----------+-------+---------+--------------------+------+-----------+----------+---------+-----+-------------------+-------+---------+---------+------------+-----------+----------+--------------+--------------------+--------------------+-------------------+-------------------+--------------+---------------+-------------------+-------------------+--------+\n",
      "|          event_time|event_type|product_id|  brand|  user_id|        user_session|target|      cat_0|     cat_1|    cat_2|cat_3|          timestamp|ts_hour|ts_minute|price_int|ts_month_int|ts_year_int|ts_day_int|ts_weekday_int|        scaled_price|        ztrans_price|    event_time_corr|                  c|extracted_year|extracted_month|extracted_day_month|extracted_week_year|timezone|\n",
      "+--------------------+----------+----------+-------+---------+--------------------+------+-----------+----------+---------+-----+-------------------+-------+---------+---------+------------+-----------+----------+--------------+--------------------+--------------------+-------------------+-------------------+--------------+---------------+-------------------+-------------------+--------+\n",
      "|2019-11-01 00:00:...|      cart|   1005014|samsung|533326659|6b928be2-2bce-464...|     0|electronics|smartphone|       NA|   NA|2019-11-01 01:00:14|      0|        0|   503.09|          11|       2019|         1|             4|  0.1954453453091796|  0.6488721535183589|2019-11-01 00:00:14|2019-11-01 01:00:14|          2019|             11|                  1|                 44|     UTC|\n",
      "|2019-11-01 00:03:...|      cart|   1005115|  apple|565865924|fd4bd6d4-bd14-4fd...|     0|electronics|smartphone|       NA|   NA|2019-11-01 01:03:39|      0|        3|   949.47|          11|       2019|         1|             4|  0.3688594327271597|   1.995264982314318|2019-11-01 00:03:39|2019-11-01 01:03:39|          2019|             11|                  1|                 44|     UTC|\n",
      "|2019-11-01 00:05:...|      cart|   1002542|  apple|549256216|dcbdc6e4-cd49-4ee...|     0|electronics|smartphone|       NA|   NA|2019-11-01 01:05:54|      0|        5|    486.8|          11|       2019|         1|             4|  0.1891168460842168|  0.5997374718993659|2019-11-01 00:05:54|2019-11-01 01:05:54|          2019|             11|                  1|                 44|     UTC|\n",
      "|2019-11-01 00:07:...|      cart|   1002542|  apple|549256216|dcbdc6e4-cd49-4ee...|     0|electronics|smartphone|       NA|   NA|2019-11-01 01:07:22|      0|        7|    486.8|          11|       2019|         1|             4|  0.1891168460842168|  0.5997374718993659|2019-11-01 00:07:22|2019-11-01 01:07:22|          2019|             11|                  1|                 44|     UTC|\n",
      "|2019-11-01 00:10:...|      cart|   4804056|  apple|522355747|0a1f37d1-71b7-464...|     0|electronics|     audio|headphone|   NA|2019-11-01 01:10:45|      0|       10|   160.57|          11|       2019|         1|             4| 0.06237981096085187| -0.3842531471653451|2019-11-01 00:10:45|2019-11-01 01:10:45|          2019|             11|                  1|                 44|     UTC|\n",
      "|2019-11-01 00:13:...|      cart|   1004873|samsung|563558500|e0729b6c-eafe-4b0...|     0|electronics|smartphone|       NA|   NA|2019-11-01 01:13:40|      0|       13|   362.29|          11|       2019|         1|             4| 0.14074597815910211| 0.22418442043338435|2019-11-01 00:13:40|2019-11-01 01:13:40|          2019|             11|                  1|                 44|     UTC|\n",
      "|2019-11-01 00:14:...|      cart|   1004856|samsung|513645631|8cccf28f-136d-494...|     0|electronics|smartphone|       NA|   NA|2019-11-01 01:14:09|      0|       14|   128.42|          11|       2019|         1|             4| 0.04988986313503517| -0.4812255237184838|2019-11-01 00:14:09|2019-11-01 01:14:09|          2019|             11|                  1|                 44|     UTC|\n",
      "|2019-11-01 00:14:...|      cart|   1004856|samsung|557839915|40304779-5050-440...|     0|electronics|smartphone|       NA|   NA|2019-11-01 01:14:23|      0|       14|   128.42|          11|       2019|         1|             4| 0.04988986313503517| -0.4812255237184838|2019-11-01 00:14:23|2019-11-01 01:14:23|          2019|             11|                  1|                 44|     UTC|\n",
      "|2019-11-01 00:15:...|      cart|   1005115|  apple|561713177|821f797d-f9f4-410...|     0|electronics|smartphone|       NA|   NA|2019-11-01 01:15:23|      0|       15|   949.47|          11|       2019|         1|             4|  0.3688594327271597|   1.995264982314318|2019-11-01 00:15:23|2019-11-01 01:15:23|          2019|             11|                  1|                 44|     UTC|\n",
      "|2019-11-01 00:15:...|      cart|   1005116|  apple|513852314|892943dc-aacd-44d...|     0|electronics|smartphone|       NA|   NA|2019-11-01 01:15:46|      0|       15|  1013.86|          11|       2019|         1|             4|  0.3938742924629089|   2.189481197749982|2019-11-01 00:15:46|2019-11-01 01:15:46|          2019|             11|                  1|                 44|     UTC|\n",
      "|2019-11-01 00:15:...|      cart|   1005116|  apple|513852314|892943dc-aacd-44d...|     0|electronics|smartphone|       NA|   NA|2019-11-01 01:15:56|      0|       15|  1013.86|          11|       2019|         1|             4|  0.3938742924629089|   2.189481197749982|2019-11-01 00:15:56|2019-11-01 01:15:56|          2019|             11|                  1|                 44|     UTC|\n",
      "|2019-11-01 00:20:...|      cart|   1004870|samsung|563626542|e6e2cb92-9103-4e6...|     0|electronics|smartphone|       NA|   NA|2019-11-01 01:20:25|      0|       20|   275.25|          11|       2019|         1|             4| 0.10693182392087239|-0.03834981456460006|2019-11-01 00:20:25|2019-11-01 01:20:25|          2019|             11|                  1|                 44|     UTC|\n",
      "|2019-11-01 00:20:...|      cart|   1004870|samsung|563626542|e6e2cb92-9103-4e6...|     0|electronics|smartphone|       NA|   NA|2019-11-01 01:20:49|      0|       20|   275.25|          11|       2019|         1|             4| 0.10693182392087239|-0.03834981456460006|2019-11-01 00:20:49|2019-11-01 01:20:49|          2019|             11|                  1|                 44|     UTC|\n",
      "|2019-11-01 00:24:...|      cart|   4804295| xiaomi|550508533|fff30096-d345-43a...|     0|electronics|     audio|headphone|   NA|2019-11-01 01:24:48|      0|       24|     22.8|          11|       2019|         1|             4|0.008857567976006868| -0.7998016484943007|2019-11-01 00:24:48|2019-11-01 01:24:48|          2019|             11|                  1|                 44|     UTC|\n",
      "|2019-11-01 00:25:...|      cart|   4804295| xiaomi|550508533|fff30096-d345-43a...|     0|electronics|     audio|headphone|   NA|2019-11-01 01:25:12|      0|       25|     22.8|          11|       2019|         1|             4|0.008857567976006868| -0.7998016484943007|2019-11-01 00:25:12|2019-11-01 01:25:12|          2019|             11|                  1|                 44|     UTC|\n",
      "|2019-11-01 00:30:...|      cart|   1002633|  apple|557994805|b3bbf6e2-f995-448...|     0|electronics|smartphone|       NA|   NA|2019-11-01 01:30:05|      0|       30|   358.31|          11|       2019|         1|             4|   0.139199788661536| 0.21217975297828345|2019-11-01 00:30:05|2019-11-01 01:30:05|          2019|             11|                  1|                 44|     UTC|\n",
      "|2019-11-01 00:30:...|      cart|   1004856|samsung|512800858|ddb1ab7a-7667-4f7...|     0|electronics|smartphone|       NA|   NA|2019-11-01 01:30:35|      0|       30|   128.42|          11|       2019|         1|             4| 0.04988986313503517| -0.4812255237184838|2019-11-01 00:30:35|2019-11-01 01:30:35|          2019|             11|                  1|                 44|     UTC|\n",
      "|2019-11-01 00:31:...|      cart|   1801881|samsung|566283686|771370f8-6f8e-458...|     0|electronics|     video|       tv|   NA|2019-11-01 01:31:35|      0|       31|    488.8|          11|       2019|         1|             4| 0.18989382573123495|  0.6057699681079592|2019-11-01 00:31:35|2019-11-01 01:31:35|          2019|             11|                  1|                 44|     UTC|\n",
      "|2019-11-01 00:33:...|      cart|   1201471|samsung|547694248|ad31f016-29a7-4d6...|     0|electronics|    tablet|       NA|   NA|2019-11-01 01:33:37|      0|       33|   469.84|          11|       2019|         1|             4|  0.1825280586775029|  0.5485819040504938|2019-11-01 00:33:37|2019-11-01 01:33:37|          2019|             11|                  1|                 44|     UTC|\n",
      "|2019-11-01 00:35:...|      cart|   1004767|samsung|532542999|595c35b6-269b-433...|     0|electronics|smartphone|       NA|   NA|2019-11-01 01:35:55|      0|       35|   242.63|          11|       2019|         1|             4| 0.09425928587800642|-0.13673982772675827|2019-11-01 00:35:55|2019-11-01 01:35:55|          2019|             11|                  1|                 44|     UTC|\n",
      "+--------------------+----------+----------+-------+---------+--------------------+------+-----------+----------+---------+-----+-------------------+-------+---------+---------+------------+-----------+----------+--------------+--------------------+--------------------+-------------------+-------------------+--------------+---------------+-------------------+-------------------+--------+\n",
      "only showing top 20 rows\n",
      "\n"
     ]
    }
   ],
   "execution_count": 34
  },
  {
   "metadata": {
    "ExecuteTime": {
     "end_time": "2025-07-16T08:35:40.393626Z",
     "start_time": "2025-07-16T08:34:52.912120Z"
    }
   },
   "cell_type": "code",
   "source": [
    "from pyspark.sql.functions import datediff #function to calculate difference between two date fields\n",
    "\n",
    "# Lagging features \n",
    "# window() return a record based off a group of records\n",
    "# lag(col, count=1)\n",
    "# returns the value that is offset by rows before the current row\n",
    "\n",
    "from pyspark.sql.functions import lag\n",
    "from pyspark.sql.window import Window\n",
    "\n",
    "w = Window().orderBy(df_casted['c'])\n",
    "\n",
    "df_casted = df_casted.withColumn('price-1wk', lag('price_int', 1).over(w))\n",
    "df_casted.show()"
   ],
   "id": "2564c71bfa7971c3",
   "outputs": [
    {
     "name": "stdout",
     "output_type": "stream",
     "text": [
      "+--------------------+----------+----------+-------+---------+--------------------+------+-----------+-----------+---------+-----+-------------------+-------+---------+---------+------------+-----------+----------+--------------+--------------------+--------------------+-------------------+-------------------+--------------+---------------+-------------------+-------------------+--------+---------+\n",
      "|          event_time|event_type|product_id|  brand|  user_id|        user_session|target|      cat_0|      cat_1|    cat_2|cat_3|          timestamp|ts_hour|ts_minute|price_int|ts_month_int|ts_year_int|ts_day_int|ts_weekday_int|        scaled_price|        ztrans_price|    event_time_corr|                  c|extracted_year|extracted_month|extracted_day_month|extracted_week_year|timezone|price-1wk|\n",
      "+--------------------+----------+----------+-------+---------+--------------------+------+-----------+-----------+---------+-----+-------------------+-------+---------+---------+------------+-----------+----------+--------------+--------------------+--------------------+-------------------+-------------------+--------------+---------------+-------------------+-------------------+--------+---------+\n",
      "|2019-10-01 00:05:...|      cart|   5100816| xiaomi|550121407|6f623695-9581-463...|     0|         NA|         NA|       NA|   NA|2019-10-01 02:05:14|      0|        5|    29.51|          10|       2019|         1|             1| 0.01146433469175275| -0.7795626237144699|2019-10-01 00:05:14|2019-10-01 02:05:14|          2019|             10|                  1|                 40|     UTC|     NULL|\n",
      "|2019-10-01 00:10:...|  purchase|   1002524|  apple|524325294|0b74a829-f9d7-465...|     1|electronics| smartphone|       NA|   NA|2019-10-01 02:10:08|      0|       10|   515.67|          10|       2019|         1|             1| 0.20033254728892375|  0.6868165546704113|2019-10-01 00:10:08|2019-10-01 02:10:08|          2019|             10|                  1|                 40|     UTC|    29.51|\n",
      "|2019-10-01 00:11:...|      cart|   4804056|  apple|533624186|e5ac3caa-e6d5-4d6...|     0|electronics|      audio|headphone|   NA|2019-10-01 02:11:00|      0|       11|   161.98|          10|       2019|         1|             1| 0.06292758161199967|-0.38000023733828675|2019-10-01 00:11:00|2019-10-01 02:11:00|          2019|             10|                  1|                 40|     UTC|   515.67|\n",
      "|2019-10-01 02:17:...|      cart|   1004833|samsung|536415846|685b5b42-f597-4a6...|     0|electronics| smartphone|       NA|   NA|2019-10-01 04:17:59|      2|       17|   174.76|          10|       2019|         1|             1| 0.06789248155644562|-0.34145258656537497|2019-10-01 02:17:59|2019-10-01 04:17:59|          2019|             10|                  1|                 40|     UTC|   161.98|\n",
      "|2019-10-01 02:20:...|      cart|   1004709| huawei|513852171|e48800b3-61fc-4b8...|     0|electronics| smartphone|       NA|   NA|2019-10-01 04:20:32|      2|       20|   155.77|          10|       2019|         1|             1| 0.06051505980800833|-0.39873113806596916|2019-10-01 02:20:32|2019-10-01 04:20:32|          2019|             10|                  1|                 40|     UTC|   174.76|\n",
      "|2019-10-01 02:21:...|  purchase|   1004659|samsung|555168263|d068d08f-aaf3-494...|     1|electronics| smartphone|       NA|   NA|2019-10-01 04:21:02|      2|       21|   787.18|          10|       2019|         1|             1|  0.3058114192698722|  1.5057580774680068|2019-10-01 02:21:02|2019-10-01 04:21:02|          2019|             10|                  1|                 40|     UTC|   155.77|\n",
      "|2019-10-01 02:21:...|      cart|   1004247|  apple|519840569|d5de76ec-7ef2-4d7...|     0|electronics| smartphone|       NA|   NA|2019-10-01 04:21:16|      2|       21|   809.72|          10|       2019|         1|             1|  0.3145679798917667|  1.5737443097388548|2019-10-01 02:21:16|2019-10-01 04:21:16|          2019|             10|                  1|                 40|     UTC|   787.18|\n",
      "|2019-10-01 02:21:...|      cart|  17301342| lanvin|520186557|88ede59b-8c8d-454...|     0|         NA|         NA|       NA|   NA|2019-10-01 04:21:18|      2|       21|    33.46|          10|       2019|         1|             1|0.012998869494613588|  -0.767648443702498|2019-10-01 02:21:18|2019-10-01 04:21:18|          2019|             10|                  1|                 40|     UTC|   809.72|\n",
      "|2019-10-01 02:22:...|  purchase|   1004750|samsung|555110488|ce885079-4d92-4fe...|     1|electronics| smartphone|       NA|   NA|2019-10-01 04:22:11|      2|       22|   197.43|          10|       2019|         1|             1| 0.07669954585539632|-0.27307424204096886|2019-10-01 02:22:11|2019-10-01 04:22:11|          2019|             10|                  1|                 40|     UTC|    33.46|\n",
      "|2019-10-01 02:22:...|      cart|   1005144|  apple|554507659|79642286-cb41-44f...|     0|electronics| smartphone|       NA|   NA|2019-10-01 04:22:14|      2|       22|  1747.79|          10|       2019|         1|             1|   0.678998628630923|   4.403196168936455|2019-10-01 02:22:14|2019-10-01 04:22:14|          2019|             10|                  1|                 40|     UTC|   197.43|\n",
      "|2019-10-01 02:22:...|  purchase|   1500021|  epson|513489079|63de1120-9d48-45d...|     1|  computers|peripherals|  printer|   NA|2019-10-01 04:22:29|      2|       22|   116.73|          10|       2019|         1|             1| 0.04534841709821411| -0.5164854640577121|2019-10-01 02:22:29|2019-10-01 04:22:29|          2019|             10|                  1|                 40|     UTC|  1747.79|\n",
      "|2019-10-01 02:22:...|  purchase|   5100719|samsung|549614436|129d379f-0137-4bd...|     1|electronics|     clocks|       NA|   NA|2019-10-01 04:22:31|      2|       22|   151.61|          10|       2019|         1|             1|0.058898942142210586| -0.4112787301798434|2019-10-01 02:22:31|2019-10-01 04:22:31|          2019|             10|                  1|                 40|     UTC|   116.73|\n",
      "|2019-10-01 02:22:...|      cart|   1005126|  apple|512766455|b8cd87dd-b12c-4dc...|     0|electronics| smartphone|       NA|   NA|2019-10-01 04:22:42|      2|       22|  1413.16|          10|       2019|         1|             1|  0.5489982789900818|  3.3938690657956525|2019-10-01 02:22:42|2019-10-01 04:22:42|          2019|             10|                  1|                 40|     UTC|   151.61|\n",
      "|2019-10-01 02:22:...|      cart|   1005126|  apple|512766455|b8cd87dd-b12c-4dc...|     0|electronics| smartphone|       NA|   NA|2019-10-01 04:22:43|      2|       22|  1413.16|          10|       2019|         1|             1|  0.5489982789900818|  3.3938690657956525|2019-10-01 02:22:43|2019-10-01 04:22:43|          2019|             10|                  1|                 40|     UTC|  1413.16|\n",
      "|2019-10-01 02:23:...|  purchase|   1005135|  apple|515384420|7f82b450-6c45-434...|     1|electronics| smartphone|       NA|   NA|2019-10-01 04:23:25|      2|       23|  1747.79|          10|       2019|         1|             1|   0.678998628630923|   4.403196168936455|2019-10-01 02:23:25|2019-10-01 04:23:25|          2019|             10|                  1|                 40|     UTC|  1413.16|\n",
      "|2019-10-01 02:23:...|      cart|   1004659|samsung|514659549|d76892db-0bc7-4f7...|     0|electronics| smartphone|       NA|   NA|2019-10-01 04:23:59|      2|       23|   787.18|          10|       2019|         1|             1|  0.3058114192698722|  1.5057580774680068|2019-10-01 02:23:59|2019-10-01 04:23:59|          2019|             10|                  1|                 40|     UTC|  1747.79|\n",
      "|2019-10-01 02:24:...|      cart|   1004836|samsung|519405363|5282f124-e62b-462...|     0|electronics| smartphone|       NA|   NA|2019-10-01 04:24:23|      2|       24|   241.19|          10|       2019|         1|             1| 0.09369986053215336| -0.1410832249969455|2019-10-01 02:24:23|2019-10-01 04:24:23|          2019|             10|                  1|                 40|     UTC|   787.18|\n",
      "|2019-10-01 02:25:...|      cart|   1004833|samsung|536229871|e2674777-f9e9-483...|     0|electronics| smartphone|       NA|   NA|2019-10-01 04:25:04|      2|       25|   174.76|          10|       2019|         1|             1| 0.06789248155644562|-0.34145258656537497|2019-10-01 02:25:04|2019-10-01 04:25:04|          2019|             10|                  1|                 40|     UTC|   241.19|\n",
      "|2019-10-01 02:25:...|  purchase|   1004856|samsung|555110488|ce885079-4d92-4fe...|     1|electronics| smartphone|       NA|   NA|2019-10-01 04:25:04|      2|       25|   130.76|          10|       2019|         1|             1|  0.0507989293220464|-0.47416750315442957|2019-10-01 02:25:04|2019-10-01 04:25:04|          2019|             10|                  1|                 40|     UTC|   174.76|\n",
      "|2019-10-01 02:25:...|  purchase|   5100816| xiaomi|549614436|6f43be89-497c-4be...|     1|         NA|         NA|       NA|   NA|2019-10-01 04:25:07|      2|       25|    29.51|          10|       2019|         1|             1| 0.01146433469175275| -0.7795626237144699|2019-10-01 02:25:07|2019-10-01 04:25:07|          2019|             10|                  1|                 40|     UTC|   130.76|\n",
      "+--------------------+----------+----------+-------+---------+--------------------+------+-----------+-----------+---------+-----+-------------------+-------+---------+---------+------------+-----------+----------+--------------+--------------------+--------------------+-------------------+-------------------+--------------+---------------+-------------------+-------------------+--------+---------+\n",
      "only showing top 20 rows\n",
      "\n"
     ]
    }
   ],
   "execution_count": 36
  },
  {
   "metadata": {},
   "cell_type": "code",
   "outputs": [],
   "execution_count": null,
   "source": [
    "from pyspark.sql.functions import when\n",
    "find_in_text = df_casted['user_session'].like('%text_to_find%') # looking for specific text in whole text in column where this text is stored\n",
    "df_casted = df.withColumn('new_column', (when(find_in_text, 1)).otherwise(0))"
   ],
   "id": "454919f9c1551d1c"
  },
  {
   "metadata": {
    "ExecuteTime": {
     "end_time": "2025-07-20T07:53:33.457817Z",
     "start_time": "2025-07-20T07:53:33.264334Z"
    }
   },
   "cell_type": "code",
   "source": [
    "from pyspark.sql.functions import split\n",
    "\n",
    "split_col = split(df_casted['event_time'], ' ')\n",
    "df_casted = df_casted.withColumn('date', split_col.getItem(0))\n",
    "df_casted[['event_time', 'date']].show()"
   ],
   "id": "c7a01d645e043e88",
   "outputs": [
    {
     "name": "stdout",
     "output_type": "stream",
     "text": [
      "+--------------------+----------+\n",
      "|          event_time|      date|\n",
      "+--------------------+----------+\n",
      "|2019-11-01 00:00:...|2019-11-01|\n",
      "|2019-11-01 00:03:...|2019-11-01|\n",
      "|2019-11-01 00:05:...|2019-11-01|\n",
      "|2019-11-01 00:07:...|2019-11-01|\n",
      "|2019-11-01 00:10:...|2019-11-01|\n",
      "|2019-11-01 00:13:...|2019-11-01|\n",
      "|2019-11-01 00:14:...|2019-11-01|\n",
      "|2019-11-01 00:14:...|2019-11-01|\n",
      "|2019-11-01 00:15:...|2019-11-01|\n",
      "|2019-11-01 00:15:...|2019-11-01|\n",
      "|2019-11-01 00:15:...|2019-11-01|\n",
      "|2019-11-01 00:20:...|2019-11-01|\n",
      "|2019-11-01 00:20:...|2019-11-01|\n",
      "|2019-11-01 00:24:...|2019-11-01|\n",
      "|2019-11-01 00:25:...|2019-11-01|\n",
      "|2019-11-01 00:30:...|2019-11-01|\n",
      "|2019-11-01 00:30:...|2019-11-01|\n",
      "|2019-11-01 00:31:...|2019-11-01|\n",
      "|2019-11-01 00:33:...|2019-11-01|\n",
      "|2019-11-01 00:35:...|2019-11-01|\n",
      "+--------------------+----------+\n",
      "only showing top 20 rows\n",
      "\n"
     ]
    }
   ],
   "execution_count": 6
  },
  {
   "metadata": {
    "ExecuteTime": {
     "end_time": "2025-07-20T08:11:51.258741Z",
     "start_time": "2025-07-20T08:11:51.093183Z"
    }
   },
   "cell_type": "code",
   "source": "df_casted.describe()",
   "id": "fd8dd3037a36c979",
   "outputs": [
    {
     "data": {
      "text/plain": [
       "DataFrame[summary: string, event_time: string, event_type: string, product_id: string, brand: string, user_id: string, user_session: string, target: string, cat_0: string, cat_1: string, cat_2: string, cat_3: string, ts_hour: string, ts_minute: string, price_int: string, ts_month_int: string, ts_year_int: string, ts_day_int: string, ts_weekday_int: string, date: string]"
      ]
     },
     "execution_count": 21,
     "metadata": {},
     "output_type": "execute_result"
    }
   ],
   "execution_count": 21
  },
  {
   "metadata": {
    "ExecuteTime": {
     "end_time": "2025-07-20T08:10:15.905562Z",
     "start_time": "2025-07-20T08:10:15.714073Z"
    }
   },
   "cell_type": "code",
   "source": [
    "from pyspark.sql.functions import to_date\n",
    "df_casted = df_casted.withColumn('prop_date', to_date(df_casted['date'], 'yyyy-MM-dd'))\n",
    "df_casted[['prop_date']].show()"
   ],
   "id": "14f93b3d02812674",
   "outputs": [
    {
     "name": "stdout",
     "output_type": "stream",
     "text": [
      "+----------+\n",
      "| prop_date|\n",
      "+----------+\n",
      "|2019-11-01|\n",
      "|2019-11-01|\n",
      "|2019-11-01|\n",
      "|2019-11-01|\n",
      "|2019-11-01|\n",
      "|2019-11-01|\n",
      "|2019-11-01|\n",
      "|2019-11-01|\n",
      "|2019-11-01|\n",
      "|2019-11-01|\n",
      "|2019-11-01|\n",
      "|2019-11-01|\n",
      "|2019-11-01|\n",
      "|2019-11-01|\n",
      "|2019-11-01|\n",
      "|2019-11-01|\n",
      "|2019-11-01|\n",
      "|2019-11-01|\n",
      "|2019-11-01|\n",
      "|2019-11-01|\n",
      "+----------+\n",
      "only showing top 20 rows\n",
      "\n"
     ]
    }
   ],
   "execution_count": 18
  },
  {
   "metadata": {
    "ExecuteTime": {
     "end_time": "2025-07-18T16:29:01.316701Z",
     "start_time": "2025-07-18T16:29:01.071365Z"
    }
   },
   "cell_type": "code",
   "source": [
    "sample_df = df_casted.sample(False, 0.0008, 42)\n",
    "sample_df.count()"
   ],
   "id": "f7b906f9b46bfde2",
   "outputs": [
    {
     "data": {
      "text/plain": [
       "9322"
      ]
     },
     "execution_count": 10,
     "metadata": {},
     "output_type": "execute_result"
    }
   ],
   "execution_count": 10
  },
  {
   "metadata": {
    "ExecuteTime": {
     "end_time": "2025-07-18T16:49:55.866552Z",
     "start_time": "2025-07-18T16:49:55.834156Z"
    }
   },
   "cell_type": "code",
   "source": [
    "from pyspark.sql.functions import split, explode, lit,coalesce, first\n",
    "\n",
    "sample_df = sample_df.withColumn('date_list', split(sample_df['event_time'], ' '))\n",
    "ex_df = sample_df.withColumn('ex_date_list', explode(sample_df['date_list']))\n",
    "ex_df = ex_df.withColumn('constant_value', lit(1))\n",
    "#piv_df = ex_df.groupBy('cat_1').pivot('ex_date_list').agg(coalesce(first('constant_value')))"
   ],
   "id": "d4f413e5b2a4ce64",
   "outputs": [],
   "execution_count": 21
  },
  {
   "metadata": {},
   "cell_type": "code",
   "outputs": [],
   "execution_count": null,
   "source": [
    "#binarizing\n",
    "\n",
    "from pyspark.ml.feature import Binarizer\n",
    "\n",
    "# using Binarizer we set anythin over 0 to be converted to 1 and 0 to 0. we need double  type of data\n",
    "\n",
    "bin = Binarizer(threshold=0.0, inputCol='target', outputCol='target_t') # doesn't make sens in my case\n",
    "df_casted = bin.transform(df_casted)"
   ],
   "id": "1c5fc9dc0c29cb91"
  },
  {
   "metadata": {
    "ExecuteTime": {
     "end_time": "2025-07-18T19:32:06.940083Z",
     "start_time": "2025-07-18T19:32:06.851320Z"
    }
   },
   "cell_type": "code",
   "source": [
    "#Bucketing\n",
    "from pyspark.ml.feature import Bucketizer\n",
    "\n",
    "splits = [0,1,2, float('Inf')]\n",
    "\n",
    "buck = Bucketizer(splits=splits, inputCol='price_int', outputCol='price_bucket')\n",
    "df = buck.transform(df_casted)\n",
    "\n",
    "df[['price_int', 'price_bucket']].show()"
   ],
   "id": "a690ef2f06ff9eb0",
   "outputs": [
    {
     "name": "stdout",
     "output_type": "stream",
     "text": [
      "+---------+------------+\n",
      "|price_int|price_bucket|\n",
      "+---------+------------+\n",
      "|   503.09|         2.0|\n",
      "|   949.47|         2.0|\n",
      "|    486.8|         2.0|\n",
      "|    486.8|         2.0|\n",
      "|   160.57|         2.0|\n",
      "|   362.29|         2.0|\n",
      "|   128.42|         2.0|\n",
      "|   128.42|         2.0|\n",
      "|   949.47|         2.0|\n",
      "|  1013.86|         2.0|\n",
      "|  1013.86|         2.0|\n",
      "|   275.25|         2.0|\n",
      "|   275.25|         2.0|\n",
      "|     22.8|         2.0|\n",
      "|     22.8|         2.0|\n",
      "|   358.31|         2.0|\n",
      "|   128.42|         2.0|\n",
      "|    488.8|         2.0|\n",
      "|   469.84|         2.0|\n",
      "|   242.63|         2.0|\n",
      "+---------+------------+\n",
      "only showing top 20 rows\n",
      "\n"
     ]
    }
   ],
   "execution_count": 36
  },
  {
   "metadata": {
    "ExecuteTime": {
     "end_time": "2025-07-18T19:38:46.144245Z",
     "start_time": "2025-07-18T19:38:44.801834Z"
    }
   },
   "cell_type": "code",
   "source": [
    "df_casted[['brand']].distinct().count()\n",
    "\n",
    "sample_df = df_casted.sample(False, 0.000008, 42)\n",
    "sample_df[['brand']].distinct().count()"
   ],
   "id": "2f460b4e6990b59a",
   "outputs": [
    {
     "data": {
      "text/plain": [
       "40"
      ]
     },
     "execution_count": 46,
     "metadata": {},
     "output_type": "execute_result"
    }
   ],
   "execution_count": 46
  },
  {
   "metadata": {
    "ExecuteTime": {
     "end_time": "2025-07-18T19:48:07.579255Z",
     "start_time": "2025-07-18T19:48:06.890099Z"
    }
   },
   "cell_type": "code",
   "source": [
    "from pyspark.ml.feature import OneHotEncoder, StringIndexer\n",
    "\n",
    "\n",
    "stringIndexer = StringIndexer(inputCol='brand', outputCol='brand_index')\n",
    "\n",
    "model = stringIndexer.fit(sample_df)\n",
    "\n",
    "indexed = model.transform(sample_df)\n",
    "\n",
    "encoder = OneHotEncoder(inputCol='brand_index', outputCol='brand_vec')\n",
    "encoder_model = encoder.fit(indexed)\n",
    "encoded_df = encoder_model.transform(indexed)\n",
    "encoded_df[['brand', 'brand_index', 'brand_vec']].show()"
   ],
   "id": "4516f413ecc3a3cd",
   "outputs": [
    {
     "name": "stdout",
     "output_type": "stream",
     "text": [
      "+--------+-----------+---------------+\n",
      "|   brand|brand_index|      brand_vec|\n",
      "+--------+-----------+---------------+\n",
      "| samsung|        0.0| (39,[0],[1.0])|\n",
      "|cordiant|       14.0|(39,[14],[1.0])|\n",
      "|  xiaomi|        3.0| (39,[3],[1.0])|\n",
      "| samsung|        0.0| (39,[0],[1.0])|\n",
      "|  xiaomi|        3.0| (39,[3],[1.0])|\n",
      "| respect|       33.0|(39,[33],[1.0])|\n",
      "| samsung|        0.0| (39,[0],[1.0])|\n",
      "|   apple|        1.0| (39,[1],[1.0])|\n",
      "| samsung|        0.0| (39,[0],[1.0])|\n",
      "|hausmann|       21.0|(39,[21],[1.0])|\n",
      "|   apple|        1.0| (39,[1],[1.0])|\n",
      "|  maxxis|       27.0|(39,[27],[1.0])|\n",
      "| samsung|        0.0| (39,[0],[1.0])|\n",
      "|   apple|        1.0| (39,[1],[1.0])|\n",
      "| samsung|        0.0| (39,[0],[1.0])|\n",
      "|      NA|        2.0| (39,[2],[1.0])|\n",
      "|      lg|        6.0| (39,[6],[1.0])|\n",
      "|  xiaomi|        3.0| (39,[3],[1.0])|\n",
      "|   apple|        1.0| (39,[1],[1.0])|\n",
      "|    sony|       35.0|(39,[35],[1.0])|\n",
      "+--------+-----------+---------------+\n",
      "only showing top 20 rows\n",
      "\n"
     ]
    }
   ],
   "execution_count": 51
  },
  {
   "metadata": {
    "ExecuteTime": {
     "end_time": "2025-07-18T19:52:19.799844Z",
     "start_time": "2025-07-18T19:52:18.976055Z"
    }
   },
   "cell_type": "code",
   "source": [
    "#Could be done by pipeline, chaining estimator(stringIndexer and oneHotEncoder) together\n",
    "\n",
    "from pyspark.ml import Pipeline\n",
    "\n",
    "pipeline = Pipeline(stages=[stringIndexer, encoder])\n",
    "pipeline_model = pipeline.fit(sample_df)\n",
    "encoded_df = pipeline_model.transform(sample_df)\n",
    "encoded_df[['brand', 'brand_index', 'brand_vec']].show()"
   ],
   "id": "de0e19eb0404ce84",
   "outputs": [
    {
     "name": "stdout",
     "output_type": "stream",
     "text": [
      "+--------+-----------+---------------+\n",
      "|   brand|brand_index|      brand_vec|\n",
      "+--------+-----------+---------------+\n",
      "| samsung|        0.0| (39,[0],[1.0])|\n",
      "|cordiant|       14.0|(39,[14],[1.0])|\n",
      "|  xiaomi|        3.0| (39,[3],[1.0])|\n",
      "| samsung|        0.0| (39,[0],[1.0])|\n",
      "|  xiaomi|        3.0| (39,[3],[1.0])|\n",
      "| respect|       33.0|(39,[33],[1.0])|\n",
      "| samsung|        0.0| (39,[0],[1.0])|\n",
      "|   apple|        1.0| (39,[1],[1.0])|\n",
      "| samsung|        0.0| (39,[0],[1.0])|\n",
      "|hausmann|       21.0|(39,[21],[1.0])|\n",
      "|   apple|        1.0| (39,[1],[1.0])|\n",
      "|  maxxis|       27.0|(39,[27],[1.0])|\n",
      "| samsung|        0.0| (39,[0],[1.0])|\n",
      "|   apple|        1.0| (39,[1],[1.0])|\n",
      "| samsung|        0.0| (39,[0],[1.0])|\n",
      "|      NA|        2.0| (39,[2],[1.0])|\n",
      "|      lg|        6.0| (39,[6],[1.0])|\n",
      "|  xiaomi|        3.0| (39,[3],[1.0])|\n",
      "|   apple|        1.0| (39,[1],[1.0])|\n",
      "|    sony|       35.0|(39,[35],[1.0])|\n",
      "+--------+-----------+---------------+\n",
      "only showing top 20 rows\n",
      "\n"
     ]
    }
   ],
   "execution_count": 52
  },
  {
   "metadata": {
    "ExecuteTime": {
     "end_time": "2025-07-20T09:00:39.152531Z",
     "start_time": "2025-07-20T09:00:29.902271Z"
    }
   },
   "cell_type": "code",
   "source": [
    "#                                                           PySpark ML\n",
    "#                                                               |                               \n",
    "#                           ------------------------------------|----------------------------------------\n",
    "#                           |                                   |                                       |\n",
    "#                    Predict Category                   Predict Quantity                        Predict Similarity\n",
    "#                           |                                   |                                       |\n",
    "#               ------------|-----------                        |                          -------------|---------------\n",
    "#               |                      |                        |                           |                           | \n",
    "#           Unlabeled Data         Labeled Data                 |                       Basket Based                User Based\n",
    "#               |                       |                       |                           |                           |\n",
    "#          Clustering               Classification          Regression                  Association Rules           Collaborative Filtering\n",
    "#               |                       |                       |                           |                           |   \n",
    "#            ml.clustering          ml.classification       ml.regression               ml.fpm                          ml.recommendation\n",
    "#                                                               |\n",
    "#                                                         methods:\n",
    "#                                                   GeneralizedLinearRegression, IsotonicRegression, LinearRegression\n",
    "#                                                   DecisionTreeeRegression, GBTRegression, RandomForestRegression\n",
    "# Test and train Splits for time Series\n",
    "# 1st split and training sahould be done in earliest time period and we should move in time while testing\n",
    "from pyspark.sql.functions import min, max, datediff\n",
    "max_date = df_casted.agg({'prop_date': 'max'}).collect()[0][0]\n",
    "min_date = df_casted.agg({'prop_date': 'min'}).collect()[0][0]\n",
    "print(\"max: \", max_date, \"min: \", min_date)\n",
    "date_range_df = df_casted.agg(\n",
    "    datediff(max('prop_date'), min('prop_date')).alias(\"range_in_days\")\n",
    ")\n",
    "\n",
    "date_range_df.show()"
   ],
   "id": "332fa81008cc6d67",
   "outputs": [
    {
     "name": "stdout",
     "output_type": "stream",
     "text": [
      "max:  2020-02-29 min:  2019-10-01\n",
      "+-------------+\n",
      "|range_in_days|\n",
      "+-------------+\n",
      "|          151|\n",
      "+-------------+\n",
      "\n"
     ]
    }
   ],
   "execution_count": 48
  },
  {
   "metadata": {
    "ExecuteTime": {
     "end_time": "2025-07-20T08:34:20.668013Z",
     "start_time": "2025-07-20T08:34:20.640089Z"
    }
   },
   "cell_type": "code",
   "source": [
    "range_in_days = date_range_df.collect()[0]['range_in_days']\n",
    "print(range_in_days)"
   ],
   "id": "27d459a9ecb3d848",
   "outputs": [
    {
     "name": "stdout",
     "output_type": "stream",
     "text": [
      "151\n"
     ]
    }
   ],
   "execution_count": 45
  },
  {
   "metadata": {
    "ExecuteTime": {
     "end_time": "2025-07-20T08:33:50.492926Z",
     "start_time": "2025-07-20T08:33:50.481931Z"
    }
   },
   "cell_type": "code",
   "source": [
    "# find date to split on\n",
    "from pyspark.sql.functions import date_add\n",
    "import datetime\n",
    "split_in_days = round(range_in_days * 0.8) # 80%, 20% split\n",
    "print(type(split_in_days))\n"
   ],
   "id": "ae9a356feb7d4a59",
   "outputs": [
    {
     "name": "stdout",
     "output_type": "stream",
     "text": [
      "<class 'int'>\n"
     ]
    }
   ],
   "execution_count": 42
  },
  {
   "metadata": {
    "ExecuteTime": {
     "end_time": "2025-07-20T09:00:39.182451Z",
     "start_time": "2025-07-20T09:00:39.160511Z"
    }
   },
   "cell_type": "code",
   "source": [
    "split_date = min_date+ datetime.timedelta(days=split_in_days)\n",
    "#splitting data:\n",
    "train_df = df_casted.where(df_casted['date'] < split_date)\n",
    "test_df = df_casted.where(df_casted['date'] >= split_date)"
   ],
   "id": "bee86bdbfc693c74",
   "outputs": [],
   "execution_count": 49
  },
  {
   "metadata": {
    "ExecuteTime": {
     "end_time": "2025-07-20T09:02:20.327734Z",
     "start_time": "2025-07-20T09:02:16.314206Z"
    }
   },
   "cell_type": "code",
   "source": [
    "max_date_check = train_df.agg({'date': 'max'}).collect()[0][0]\n",
    "min_date_check = test_df.agg({'date': 'min'}).collect()[0][0]\n",
    "print(\"max: \", max_date_check, \"min: \", min_date_check)"
   ],
   "id": "78895a1c5e71a205",
   "outputs": [
    {
     "name": "stdout",
     "output_type": "stream",
     "text": [
      "max:  2020-01-29 min:  2020-01-30\n"
     ]
    }
   ],
   "execution_count": 51
  }
 ],
 "metadata": {
  "kernelspec": {
   "display_name": "Python 3",
   "language": "python",
   "name": "python3"
  },
  "language_info": {
   "codemirror_mode": {
    "name": "ipython",
    "version": 2
   },
   "file_extension": ".py",
   "mimetype": "text/x-python",
   "name": "python",
   "nbconvert_exporter": "python",
   "pygments_lexer": "ipython2",
   "version": "2.7.6"
  }
 },
 "nbformat": 4,
 "nbformat_minor": 5
}
