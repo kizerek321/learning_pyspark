{
 "cells": [
  {
   "metadata": {},
   "cell_type": "markdown",
   "source": [
    "# FEATURE ENGINEERING WITH PYSPARK\n",
    "## important aspect of machine learning\n",
    "### before diving to analysis\n",
    "    -- Become your own expert \n",
    "    -- define your goals for analysis and how the output might be used\n",
    "    -- research data \n",
    "    -- be curious\n",
    "### data science project\n",
    "#### Project Scoping / Data collection -> Exploratory ANalysis -> Data cleaning -> Feature Engineering -> model treining -> Project delivery / insights"
   ],
   "id": "742a2611d26733c8"
  },
  {
   "cell_type": "code",
   "id": "initial_id",
   "metadata": {
    "collapsed": true,
    "ExecuteTime": {
     "end_time": "2025-07-14T06:30:32.606044Z",
     "start_time": "2025-07-14T06:30:27.828664Z"
    }
   },
   "source": [
    "from pyspark.sql import SparkSession\n",
    "\n",
    "spark = SparkSession.builder.appName(\"feature_eng\").getOrCreate()"
   ],
   "outputs": [],
   "execution_count": 1
  },
  {
   "metadata": {
    "ExecuteTime": {
     "end_time": "2025-07-13T05:37:59.207795Z",
     "start_time": "2025-07-13T05:37:59.186851Z"
    }
   },
   "cell_type": "code",
   "source": [
    "import sys\n",
    "print(\"spark version: \", spark.version)\n",
    "print(\"python version: \", sys.version_info)"
   ],
   "id": "539f7dae659af8fc",
   "outputs": [
    {
     "name": "stdout",
     "output_type": "stream",
     "text": [
      "spark version:  3.5.4\n",
      "python version:  sys.version_info(major=3, minor=10, micro=18, releaselevel='final', serial=0)\n"
     ]
    }
   ],
   "execution_count": 3
  },
  {
   "metadata": {},
   "cell_type": "markdown",
   "source": [
    "# advantage of parquet data format\n",
    "   - ## Stored Column-wise\n",
    "        - ### Fast to query column subsets\n",
    "   - ## Structured, defined schema\n",
    "        - ### Fields and data types defined\n",
    "        - ### Great for messy text data\n",
    "   - ## industry adopted"
   ],
   "id": "e37884175a3d98c"
  },
  {
   "metadata": {
    "ExecuteTime": {
     "end_time": "2025-07-13T06:11:46.652109Z",
     "start_time": "2025-07-13T06:10:56.544433Z"
    }
   },
   "cell_type": "code",
   "source": [
    "import kagglehub\n",
    "\n",
    "# Download latest version\n",
    "path = kagglehub.dataset_download(\"dschettler8845/recsys-2020-ecommerce-dataset\")\n",
    "\n",
    "print(\"Path to dataset files:\", path)"
   ],
   "id": "74d663070609e5e0",
   "outputs": [
    {
     "name": "stderr",
     "output_type": "stream",
     "text": [
      "C:\\Users\\kizer\\miniconda3\\envs\\spark354_env\\lib\\site-packages\\tqdm\\auto.py:21: TqdmWarning: IProgress not found. Please update jupyter and ipywidgets. See https://ipywidgets.readthedocs.io/en/stable/user_install.html\n",
      "  from .autonotebook import tqdm as notebook_tqdm\n"
     ]
    },
    {
     "name": "stdout",
     "output_type": "stream",
     "text": [
      "Warning: Looks like you're using an outdated `kagglehub` version, please consider updating (latest version: 0.3.12)\n",
      "Downloading from https://www.kaggle.com/api/v1/datasets/download/dschettler8845/recsys-2020-ecommerce-dataset?dataset_version_number=1...\n"
     ]
    },
    {
     "name": "stderr",
     "output_type": "stream",
     "text": [
      "100%|██████████| 629M/629M [00:42<00:00, 15.5MB/s] "
     ]
    },
    {
     "name": "stdout",
     "output_type": "stream",
     "text": [
      "Extracting model files...\n"
     ]
    },
    {
     "name": "stderr",
     "output_type": "stream",
     "text": [
      "\n"
     ]
    },
    {
     "name": "stdout",
     "output_type": "stream",
     "text": [
      "Path to dataset files: C:\\Users\\kizer\\.cache\\kagglehub\\datasets\\dschettler8845\\recsys-2020-ecommerce-dataset\\versions\\1\n"
     ]
    }
   ],
   "execution_count": 4
  },
  {
   "metadata": {
    "ExecuteTime": {
     "end_time": "2025-07-14T06:30:51.248275Z",
     "start_time": "2025-07-14T06:30:51.228303Z"
    }
   },
   "cell_type": "code",
   "source": [
    "whole_path_test = \"C:\\\\Users\\\\kizer\\\\.cache\\\\kagglehub\\\\datasets\\\\dschettler8845\\\\recsys-2020-ecommerce-dataset\\\\versions\\\\1\\\\test.parquet\"\n",
    "whole_path_train = \"C:\\\\Users\\\\kizer\\\\.cache\\\\kagglehub\\\\datasets\\\\dschettler8845\\\\recsys-2020-ecommerce-dataset\\\\versions\\\\1\\\\train.parquet\""
   ],
   "id": "1fa80a064ef59ccf",
   "outputs": [],
   "execution_count": 2
  },
  {
   "metadata": {
    "ExecuteTime": {
     "end_time": "2025-07-14T06:30:57.492192Z",
     "start_time": "2025-07-14T06:30:52.256441Z"
    }
   },
   "cell_type": "code",
   "source": [
    "df = spark.read.parquet(whole_path_train)\n",
    "df.show()"
   ],
   "id": "1ee31844e9be3f33",
   "outputs": [
    {
     "name": "stdout",
     "output_type": "stream",
     "text": [
      "+--------------------+----------+----------+-------+-------+---------+--------------------+------+-----------+----------+---------+-----+-------------------+-------+---------+----------+------+--------+-------+\n",
      "|          event_time|event_type|product_id|  brand|  price|  user_id|        user_session|target|      cat_0|     cat_1|    cat_2|cat_3|          timestamp|ts_hour|ts_minute|ts_weekday|ts_day|ts_month|ts_year|\n",
      "+--------------------+----------+----------+-------+-------+---------+--------------------+------+-----------+----------+---------+-----+-------------------+-------+---------+----------+------+--------+-------+\n",
      "|2019-11-01 00:00:...|      cart|   1005014|samsung| 503.09|533326659|6b928be2-2bce-464...|     0|electronics|smartphone|       NA|   NA|2019-11-01 01:00:14|      0|        0|         4|     1|      11|   2019|\n",
      "|2019-11-01 00:03:...|      cart|   1005115|  apple| 949.47|565865924|fd4bd6d4-bd14-4fd...|     0|electronics|smartphone|       NA|   NA|2019-11-01 01:03:39|      0|        3|         4|     1|      11|   2019|\n",
      "|2019-11-01 00:05:...|      cart|   1002542|  apple| 486.80|549256216|dcbdc6e4-cd49-4ee...|     0|electronics|smartphone|       NA|   NA|2019-11-01 01:05:54|      0|        5|         4|     1|      11|   2019|\n",
      "|2019-11-01 00:07:...|      cart|   1002542|  apple| 486.80|549256216|dcbdc6e4-cd49-4ee...|     0|electronics|smartphone|       NA|   NA|2019-11-01 01:07:22|      0|        7|         4|     1|      11|   2019|\n",
      "|2019-11-01 00:10:...|      cart|   4804056|  apple| 160.57|522355747|0a1f37d1-71b7-464...|     0|electronics|     audio|headphone|   NA|2019-11-01 01:10:45|      0|       10|         4|     1|      11|   2019|\n",
      "|2019-11-01 00:13:...|      cart|   1004873|samsung| 362.29|563558500|e0729b6c-eafe-4b0...|     0|electronics|smartphone|       NA|   NA|2019-11-01 01:13:40|      0|       13|         4|     1|      11|   2019|\n",
      "|2019-11-01 00:14:...|      cart|   1004856|samsung| 128.42|513645631|8cccf28f-136d-494...|     0|electronics|smartphone|       NA|   NA|2019-11-01 01:14:09|      0|       14|         4|     1|      11|   2019|\n",
      "|2019-11-01 00:14:...|      cart|   1004856|samsung| 128.42|557839915|40304779-5050-440...|     0|electronics|smartphone|       NA|   NA|2019-11-01 01:14:23|      0|       14|         4|     1|      11|   2019|\n",
      "|2019-11-01 00:15:...|      cart|   1005115|  apple| 949.47|561713177|821f797d-f9f4-410...|     0|electronics|smartphone|       NA|   NA|2019-11-01 01:15:23|      0|       15|         4|     1|      11|   2019|\n",
      "|2019-11-01 00:15:...|      cart|   1005116|  apple|1013.86|513852314|892943dc-aacd-44d...|     0|electronics|smartphone|       NA|   NA|2019-11-01 01:15:46|      0|       15|         4|     1|      11|   2019|\n",
      "|2019-11-01 00:15:...|      cart|   1005116|  apple|1013.86|513852314|892943dc-aacd-44d...|     0|electronics|smartphone|       NA|   NA|2019-11-01 01:15:56|      0|       15|         4|     1|      11|   2019|\n",
      "|2019-11-01 00:20:...|      cart|   1004870|samsung| 275.25|563626542|e6e2cb92-9103-4e6...|     0|electronics|smartphone|       NA|   NA|2019-11-01 01:20:25|      0|       20|         4|     1|      11|   2019|\n",
      "|2019-11-01 00:20:...|      cart|   1004870|samsung| 275.25|563626542|e6e2cb92-9103-4e6...|     0|electronics|smartphone|       NA|   NA|2019-11-01 01:20:49|      0|       20|         4|     1|      11|   2019|\n",
      "|2019-11-01 00:24:...|      cart|   4804295| xiaomi|  22.80|550508533|fff30096-d345-43a...|     0|electronics|     audio|headphone|   NA|2019-11-01 01:24:48|      0|       24|         4|     1|      11|   2019|\n",
      "|2019-11-01 00:25:...|      cart|   4804295| xiaomi|  22.80|550508533|fff30096-d345-43a...|     0|electronics|     audio|headphone|   NA|2019-11-01 01:25:12|      0|       25|         4|     1|      11|   2019|\n",
      "|2019-11-01 00:30:...|      cart|   1002633|  apple| 358.31|557994805|b3bbf6e2-f995-448...|     0|electronics|smartphone|       NA|   NA|2019-11-01 01:30:05|      0|       30|         4|     1|      11|   2019|\n",
      "|2019-11-01 00:30:...|      cart|   1004856|samsung| 128.42|512800858|ddb1ab7a-7667-4f7...|     0|electronics|smartphone|       NA|   NA|2019-11-01 01:30:35|      0|       30|         4|     1|      11|   2019|\n",
      "|2019-11-01 00:31:...|      cart|   1801881|samsung| 488.80|566283686|771370f8-6f8e-458...|     0|electronics|     video|       tv|   NA|2019-11-01 01:31:35|      0|       31|         4|     1|      11|   2019|\n",
      "|2019-11-01 00:33:...|      cart|   1201471|samsung| 469.84|547694248|ad31f016-29a7-4d6...|     0|electronics|    tablet|       NA|   NA|2019-11-01 01:33:37|      0|       33|         4|     1|      11|   2019|\n",
      "|2019-11-01 00:35:...|      cart|   1004767|samsung| 242.63|532542999|595c35b6-269b-433...|     0|electronics|smartphone|       NA|   NA|2019-11-01 01:35:55|      0|       35|         4|     1|      11|   2019|\n",
      "+--------------------+----------+----------+-------+-------+---------+--------------------+------+-----------+----------+---------+-----+-------------------+-------+---------+----------+------+--------+-------+\n",
      "only showing top 20 rows\n",
      "\n"
     ]
    }
   ],
   "execution_count": 3
  },
  {
   "metadata": {
    "ExecuteTime": {
     "end_time": "2025-07-14T06:32:21.562301Z",
     "start_time": "2025-07-14T06:32:21.438571Z"
    }
   },
   "cell_type": "code",
   "source": "df.describe()",
   "id": "78a8776ff8799b47",
   "outputs": [
    {
     "data": {
      "text/plain": [
       "DataFrame[summary: string, event_time: string, event_type: string, product_id: string, brand: string, price: string, user_id: string, user_session: string, target: string, cat_0: string, cat_1: string, cat_2: string, cat_3: string, ts_hour: string, ts_minute: string, ts_weekday: string, ts_day: string, ts_month: string, ts_year: string]"
      ]
     },
     "execution_count": 8,
     "metadata": {},
     "output_type": "execute_result"
    }
   ],
   "execution_count": 8
  },
  {
   "metadata": {
    "ExecuteTime": {
     "end_time": "2025-07-14T06:49:09.974990Z",
     "start_time": "2025-07-14T06:49:09.649859Z"
    }
   },
   "cell_type": "code",
   "source": [
    "from pyspark.sql.types import DateType, IntegerType, DoubleType\n",
    "from pyspark.sql.functions import to_timestamp\n",
    "df_casted = df.withColumn(\"price_int\", df[\"price\"].cast(DoubleType())).withColumn(\"ts_month_int\", df[\"ts_month\"].cast(IntegerType())).withColumn(\"ts_year_int\", df[\"ts_year\"].cast(IntegerType())).withColumn(\"ts_day_int\", df[\"ts_day\"].cast(IntegerType())).withColumn(\"ts_weekday_int\", df[\"ts_weekday\"].cast(IntegerType()))\n",
    "columns_to_drop = ['ts_month', 'price', 'ts_year', 'ts_day', 'ts_weekday']\n",
    "df_casted = df_casted.drop(*columns_to_drop)\n",
    "#df_casted = df_casted.withColumn(\"event_time_corr\", to_timestamp(df[\"event_time\"], \"yyyy-MM-dd HH:mm:ss\"))\n",
    "df_casted.show()"
   ],
   "id": "93e1b60b09df9218",
   "outputs": [
    {
     "name": "stdout",
     "output_type": "stream",
     "text": [
      "+--------------------+----------+----------+-------+---------+--------------------+------+-----------+----------+---------+-----+-------------------+-------+---------+---------+------------+-----------+----------+--------------+\n",
      "|          event_time|event_type|product_id|  brand|  user_id|        user_session|target|      cat_0|     cat_1|    cat_2|cat_3|          timestamp|ts_hour|ts_minute|price_int|ts_month_int|ts_year_int|ts_day_int|ts_weekday_int|\n",
      "+--------------------+----------+----------+-------+---------+--------------------+------+-----------+----------+---------+-----+-------------------+-------+---------+---------+------------+-----------+----------+--------------+\n",
      "|2019-11-01 00:00:...|      cart|   1005014|samsung|533326659|6b928be2-2bce-464...|     0|electronics|smartphone|       NA|   NA|2019-11-01 01:00:14|      0|        0|   503.09|          11|       2019|         1|             4|\n",
      "|2019-11-01 00:03:...|      cart|   1005115|  apple|565865924|fd4bd6d4-bd14-4fd...|     0|electronics|smartphone|       NA|   NA|2019-11-01 01:03:39|      0|        3|   949.47|          11|       2019|         1|             4|\n",
      "|2019-11-01 00:05:...|      cart|   1002542|  apple|549256216|dcbdc6e4-cd49-4ee...|     0|electronics|smartphone|       NA|   NA|2019-11-01 01:05:54|      0|        5|    486.8|          11|       2019|         1|             4|\n",
      "|2019-11-01 00:07:...|      cart|   1002542|  apple|549256216|dcbdc6e4-cd49-4ee...|     0|electronics|smartphone|       NA|   NA|2019-11-01 01:07:22|      0|        7|    486.8|          11|       2019|         1|             4|\n",
      "|2019-11-01 00:10:...|      cart|   4804056|  apple|522355747|0a1f37d1-71b7-464...|     0|electronics|     audio|headphone|   NA|2019-11-01 01:10:45|      0|       10|   160.57|          11|       2019|         1|             4|\n",
      "|2019-11-01 00:13:...|      cart|   1004873|samsung|563558500|e0729b6c-eafe-4b0...|     0|electronics|smartphone|       NA|   NA|2019-11-01 01:13:40|      0|       13|   362.29|          11|       2019|         1|             4|\n",
      "|2019-11-01 00:14:...|      cart|   1004856|samsung|513645631|8cccf28f-136d-494...|     0|electronics|smartphone|       NA|   NA|2019-11-01 01:14:09|      0|       14|   128.42|          11|       2019|         1|             4|\n",
      "|2019-11-01 00:14:...|      cart|   1004856|samsung|557839915|40304779-5050-440...|     0|electronics|smartphone|       NA|   NA|2019-11-01 01:14:23|      0|       14|   128.42|          11|       2019|         1|             4|\n",
      "|2019-11-01 00:15:...|      cart|   1005115|  apple|561713177|821f797d-f9f4-410...|     0|electronics|smartphone|       NA|   NA|2019-11-01 01:15:23|      0|       15|   949.47|          11|       2019|         1|             4|\n",
      "|2019-11-01 00:15:...|      cart|   1005116|  apple|513852314|892943dc-aacd-44d...|     0|electronics|smartphone|       NA|   NA|2019-11-01 01:15:46|      0|       15|  1013.86|          11|       2019|         1|             4|\n",
      "|2019-11-01 00:15:...|      cart|   1005116|  apple|513852314|892943dc-aacd-44d...|     0|electronics|smartphone|       NA|   NA|2019-11-01 01:15:56|      0|       15|  1013.86|          11|       2019|         1|             4|\n",
      "|2019-11-01 00:20:...|      cart|   1004870|samsung|563626542|e6e2cb92-9103-4e6...|     0|electronics|smartphone|       NA|   NA|2019-11-01 01:20:25|      0|       20|   275.25|          11|       2019|         1|             4|\n",
      "|2019-11-01 00:20:...|      cart|   1004870|samsung|563626542|e6e2cb92-9103-4e6...|     0|electronics|smartphone|       NA|   NA|2019-11-01 01:20:49|      0|       20|   275.25|          11|       2019|         1|             4|\n",
      "|2019-11-01 00:24:...|      cart|   4804295| xiaomi|550508533|fff30096-d345-43a...|     0|electronics|     audio|headphone|   NA|2019-11-01 01:24:48|      0|       24|     22.8|          11|       2019|         1|             4|\n",
      "|2019-11-01 00:25:...|      cart|   4804295| xiaomi|550508533|fff30096-d345-43a...|     0|electronics|     audio|headphone|   NA|2019-11-01 01:25:12|      0|       25|     22.8|          11|       2019|         1|             4|\n",
      "|2019-11-01 00:30:...|      cart|   1002633|  apple|557994805|b3bbf6e2-f995-448...|     0|electronics|smartphone|       NA|   NA|2019-11-01 01:30:05|      0|       30|   358.31|          11|       2019|         1|             4|\n",
      "|2019-11-01 00:30:...|      cart|   1004856|samsung|512800858|ddb1ab7a-7667-4f7...|     0|electronics|smartphone|       NA|   NA|2019-11-01 01:30:35|      0|       30|   128.42|          11|       2019|         1|             4|\n",
      "|2019-11-01 00:31:...|      cart|   1801881|samsung|566283686|771370f8-6f8e-458...|     0|electronics|     video|       tv|   NA|2019-11-01 01:31:35|      0|       31|    488.8|          11|       2019|         1|             4|\n",
      "|2019-11-01 00:33:...|      cart|   1201471|samsung|547694248|ad31f016-29a7-4d6...|     0|electronics|    tablet|       NA|   NA|2019-11-01 01:33:37|      0|       33|   469.84|          11|       2019|         1|             4|\n",
      "|2019-11-01 00:35:...|      cart|   1004767|samsung|532542999|595c35b6-269b-433...|     0|electronics|smartphone|       NA|   NA|2019-11-01 01:35:55|      0|       35|   242.63|          11|       2019|         1|             4|\n",
      "+--------------------+----------+----------+-------+---------+--------------------+------+-----------+----------+---------+-----+-------------------+-------+---------+---------+------------+-----------+----------+--------------+\n",
      "only showing top 20 rows\n",
      "\n"
     ]
    }
   ],
   "execution_count": 12
  },
  {
   "metadata": {
    "ExecuteTime": {
     "end_time": "2025-07-14T06:49:53.957927Z",
     "start_time": "2025-07-14T06:49:52.951618Z"
    }
   },
   "cell_type": "code",
   "source": "df_casted.describe(['price_int']).show()",
   "id": "f01b3b2f1eb6ff6b",
   "outputs": [
    {
     "name": "stdout",
     "output_type": "stream",
     "text": [
      "+-------+-----------------+\n",
      "|summary|        price_int|\n",
      "+-------+-----------------+\n",
      "|  count|         11495242|\n",
      "|   mean|287.9644098358388|\n",
      "| stddev|331.5377135506471|\n",
      "|    min|              0.0|\n",
      "|    max|          2574.07|\n",
      "+-------+-----------------+\n",
      "\n"
     ]
    }
   ],
   "execution_count": 14
  },
  {
   "metadata": {
    "ExecuteTime": {
     "end_time": "2025-07-14T06:50:01.723192Z",
     "start_time": "2025-07-14T06:50:01.054979Z"
    }
   },
   "cell_type": "code",
   "source": "df_casted.agg({'price_int': 'mean'}).collect()",
   "id": "bc7fa0de39c69a81",
   "outputs": [
    {
     "data": {
      "text/plain": [
       "[Row(avg(price_int)=287.9644098358388)]"
      ]
     },
     "execution_count": 15,
     "metadata": {},
     "output_type": "execute_result"
    }
   ],
   "execution_count": 15
  },
  {
   "metadata": {
    "ExecuteTime": {
     "end_time": "2025-07-14T06:50:08.662366Z",
     "start_time": "2025-07-14T06:50:07.976942Z"
    }
   },
   "cell_type": "code",
   "source": "df_casted.cov('price_int', 'ts_month_int')",
   "id": "2d7e3adeb05a353b",
   "outputs": [
    {
     "data": {
      "text/plain": [
       "-14.229403072645727"
      ]
     },
     "execution_count": 16,
     "metadata": {},
     "output_type": "execute_result"
    }
   ],
   "execution_count": 16
  },
  {
   "metadata": {
    "ExecuteTime": {
     "end_time": "2025-07-14T07:09:27.633139Z",
     "start_time": "2025-07-14T07:09:27.429684Z"
    }
   },
   "cell_type": "code",
   "source": "df_casted.count()",
   "id": "10c6730d8c69c1c1",
   "outputs": [
    {
     "data": {
      "text/plain": [
       "11495242"
      ]
     },
     "execution_count": 18,
     "metadata": {},
     "output_type": "execute_result"
    }
   ],
   "execution_count": 18
  },
  {
   "metadata": {
    "ExecuteTime": {
     "end_time": "2025-07-14T07:10:49.742486Z",
     "start_time": "2025-07-14T07:10:49.511557Z"
    }
   },
   "cell_type": "code",
   "source": "df_casted.sample(False, 0.5, 42).count()",
   "id": "9b980356502cdaee",
   "outputs": [
    {
     "data": {
      "text/plain": [
       "5747189"
      ]
     },
     "execution_count": 19,
     "metadata": {},
     "output_type": "execute_result"
    }
   ],
   "execution_count": 19
  },
  {
   "metadata": {
    "ExecuteTime": {
     "end_time": "2025-07-14T07:15:54.137122Z",
     "start_time": "2025-07-14T07:15:15.993674Z"
    }
   },
   "cell_type": "code",
   "source": [
    "import seaborn as sns\n",
    "\n",
    "sample_df = df_casted.select('price_int').sample(False, 0.5, 42)\n",
    "\n",
    "pandas_df = sample_df.toPandas()\n",
    "sns.distplot(pandas_df)"
   ],
   "id": "286ae22c4a22e97",
   "outputs": [
    {
     "name": "stderr",
     "output_type": "stream",
     "text": [
      "C:\\Users\\kizer\\AppData\\Local\\Temp\\ipykernel_54912\\1783027884.py:6: UserWarning: \n",
      "\n",
      "`distplot` is a deprecated function and will be removed in seaborn v0.14.0.\n",
      "\n",
      "Please adapt your code to use either `displot` (a figure-level function with\n",
      "similar flexibility) or `histplot` (an axes-level function for histograms).\n",
      "\n",
      "For a guide to updating your code to use the new functions, please see\n",
      "https://gist.github.com/mwaskom/de44147ed2974457ad6372750bbe5751\n",
      "\n",
      "  sns.distplot(pandas_df)\n"
     ]
    },
    {
     "data": {
      "text/plain": [
       "<Axes: ylabel='Density'>"
      ]
     },
     "execution_count": 26,
     "metadata": {},
     "output_type": "execute_result"
    },
    {
     "data": {
      "text/plain": [
       "<Figure size 640x480 with 1 Axes>"
      ],
      "image/png": "[encoded data removed]"
     },
     "metadata": {},
     "output_type": "display_data"
    }
   ],
   "execution_count": 26
  },
  {
   "metadata": {
    "ExecuteTime": {
     "end_time": "2025-07-14T07:28:27.868355Z",
     "start_time": "2025-07-14T07:28:18.107840Z"
    }
   },
   "cell_type": "code",
   "source": [
    "s_df = df_casted.select(['price_int', 'ts_weekday_int'])\n",
    "s_df = s_df.sample(False, 0.1, 42)\n",
    "pandas_df_s = s_df.toPandas()"
   ],
   "id": "5135d4ae55cd8e11",
   "outputs": [
    {
     "ename": "KeyboardInterrupt",
     "evalue": "",
     "output_type": "error",
     "traceback": [
      "\u001B[1;31m---------------------------------------------------------------------------\u001B[0m",
      "\u001B[1;31mKeyboardInterrupt\u001B[0m                         Traceback (most recent call last)",
      "Cell \u001B[1;32mIn[31], line 4\u001B[0m\n\u001B[0;32m      2\u001B[0m s_df \u001B[38;5;241m=\u001B[39m s_df\u001B[38;5;241m.\u001B[39msample(\u001B[38;5;28;01mFalse\u001B[39;00m, \u001B[38;5;241m0.1\u001B[39m, \u001B[38;5;241m42\u001B[39m)\n\u001B[0;32m      3\u001B[0m pandas_df_s \u001B[38;5;241m=\u001B[39m s_df\u001B[38;5;241m.\u001B[39mtoPandas()\n\u001B[1;32m----> 4\u001B[0m \u001B[43msns\u001B[49m\u001B[38;5;241;43m.\u001B[39;49m\u001B[43mlmplot\u001B[49m\u001B[43m(\u001B[49m\u001B[43mx\u001B[49m\u001B[38;5;241;43m=\u001B[39;49m\u001B[38;5;124;43m'\u001B[39;49m\u001B[38;5;124;43mts_weekday_int\u001B[39;49m\u001B[38;5;124;43m'\u001B[39;49m\u001B[43m,\u001B[49m\u001B[43m \u001B[49m\u001B[43my\u001B[49m\u001B[38;5;241;43m=\u001B[39;49m\u001B[38;5;124;43m'\u001B[39;49m\u001B[38;5;124;43mprice_int\u001B[39;49m\u001B[38;5;124;43m'\u001B[39;49m\u001B[43m,\u001B[49m\u001B[43m \u001B[49m\u001B[43mdata\u001B[49m\u001B[38;5;241;43m=\u001B[39;49m\u001B[43mpandas_df_s\u001B[49m\u001B[43m)\u001B[49m\n",
      "File \u001B[1;32m~\\miniconda3\\envs\\spark354_env\\lib\\site-packages\\seaborn\\regression.py:651\u001B[0m, in \u001B[0;36mlmplot\u001B[1;34m(data, x, y, hue, col, row, palette, col_wrap, height, aspect, markers, sharex, sharey, hue_order, col_order, row_order, legend, legend_out, x_estimator, x_bins, x_ci, scatter, fit_reg, ci, n_boot, units, seed, order, logistic, lowess, robust, logx, x_partial, y_partial, truncate, x_jitter, y_jitter, scatter_kws, line_kws, facet_kws)\u001B[0m\n\u001B[0;32m    642\u001B[0m \u001B[38;5;66;03m# Draw the regression plot on each facet\u001B[39;00m\n\u001B[0;32m    643\u001B[0m regplot_kws \u001B[38;5;241m=\u001B[39m \u001B[38;5;28mdict\u001B[39m(\n\u001B[0;32m    644\u001B[0m     x_estimator\u001B[38;5;241m=\u001B[39mx_estimator, x_bins\u001B[38;5;241m=\u001B[39mx_bins, x_ci\u001B[38;5;241m=\u001B[39mx_ci,\n\u001B[0;32m    645\u001B[0m     scatter\u001B[38;5;241m=\u001B[39mscatter, fit_reg\u001B[38;5;241m=\u001B[39mfit_reg, ci\u001B[38;5;241m=\u001B[39mci, n_boot\u001B[38;5;241m=\u001B[39mn_boot, units\u001B[38;5;241m=\u001B[39munits,\n\u001B[1;32m   (...)\u001B[0m\n\u001B[0;32m    649\u001B[0m     scatter_kws\u001B[38;5;241m=\u001B[39mscatter_kws, line_kws\u001B[38;5;241m=\u001B[39mline_kws,\n\u001B[0;32m    650\u001B[0m )\n\u001B[1;32m--> 651\u001B[0m facets\u001B[38;5;241m.\u001B[39mmap_dataframe(regplot, x\u001B[38;5;241m=\u001B[39mx, y\u001B[38;5;241m=\u001B[39my, \u001B[38;5;241m*\u001B[39m\u001B[38;5;241m*\u001B[39mregplot_kws)\n\u001B[0;32m    652\u001B[0m facets\u001B[38;5;241m.\u001B[39mset_axis_labels(x, y)\n\u001B[0;32m    654\u001B[0m \u001B[38;5;66;03m# Add a legend\u001B[39;00m\n",
      "File \u001B[1;32m~\\miniconda3\\envs\\spark354_env\\lib\\site-packages\\seaborn\\axisgrid.py:825\u001B[0m, in \u001B[0;36mFacetGrid.map_dataframe\u001B[1;34m(self, func, *args, **kwargs)\u001B[0m\n\u001B[0;32m    822\u001B[0m     kwargs[\u001B[38;5;124m\"\u001B[39m\u001B[38;5;124mdata\u001B[39m\u001B[38;5;124m\"\u001B[39m] \u001B[38;5;241m=\u001B[39m data_ijk\n\u001B[0;32m    824\u001B[0m     \u001B[38;5;66;03m# Draw the plot\u001B[39;00m\n\u001B[1;32m--> 825\u001B[0m     \u001B[38;5;28;43mself\u001B[39;49m\u001B[38;5;241;43m.\u001B[39;49m\u001B[43m_facet_plot\u001B[49m\u001B[43m(\u001B[49m\u001B[43mfunc\u001B[49m\u001B[43m,\u001B[49m\u001B[43m \u001B[49m\u001B[43max\u001B[49m\u001B[43m,\u001B[49m\u001B[43m \u001B[49m\u001B[43margs\u001B[49m\u001B[43m,\u001B[49m\u001B[43m \u001B[49m\u001B[43mkwargs\u001B[49m\u001B[43m)\u001B[49m\n\u001B[0;32m    827\u001B[0m \u001B[38;5;66;03m# For axis labels, prefer to use positional args for backcompat\u001B[39;00m\n\u001B[0;32m    828\u001B[0m \u001B[38;5;66;03m# but also extract the x/y kwargs and use if no corresponding arg\u001B[39;00m\n\u001B[0;32m    829\u001B[0m axis_labels \u001B[38;5;241m=\u001B[39m [kwargs\u001B[38;5;241m.\u001B[39mget(\u001B[38;5;124m\"\u001B[39m\u001B[38;5;124mx\u001B[39m\u001B[38;5;124m\"\u001B[39m, \u001B[38;5;28;01mNone\u001B[39;00m), kwargs\u001B[38;5;241m.\u001B[39mget(\u001B[38;5;124m\"\u001B[39m\u001B[38;5;124my\u001B[39m\u001B[38;5;124m\"\u001B[39m, \u001B[38;5;28;01mNone\u001B[39;00m)]\n",
      "File \u001B[1;32m~\\miniconda3\\envs\\spark354_env\\lib\\site-packages\\seaborn\\axisgrid.py:854\u001B[0m, in \u001B[0;36mFacetGrid._facet_plot\u001B[1;34m(self, func, ax, plot_args, plot_kwargs)\u001B[0m\n\u001B[0;32m    852\u001B[0m     plot_args \u001B[38;5;241m=\u001B[39m []\n\u001B[0;32m    853\u001B[0m     plot_kwargs[\u001B[38;5;124m\"\u001B[39m\u001B[38;5;124max\u001B[39m\u001B[38;5;124m\"\u001B[39m] \u001B[38;5;241m=\u001B[39m ax\n\u001B[1;32m--> 854\u001B[0m func(\u001B[38;5;241m*\u001B[39mplot_args, \u001B[38;5;241m*\u001B[39m\u001B[38;5;241m*\u001B[39mplot_kwargs)\n\u001B[0;32m    856\u001B[0m \u001B[38;5;66;03m# Sort out the supporting information\u001B[39;00m\n\u001B[0;32m    857\u001B[0m \u001B[38;5;28mself\u001B[39m\u001B[38;5;241m.\u001B[39m_update_legend_data(ax)\n",
      "File \u001B[1;32m~\\miniconda3\\envs\\spark354_env\\lib\\site-packages\\seaborn\\regression.py:775\u001B[0m, in \u001B[0;36mregplot\u001B[1;34m(data, x, y, x_estimator, x_bins, x_ci, scatter, fit_reg, ci, n_boot, units, seed, order, logistic, lowess, robust, logx, x_partial, y_partial, truncate, dropna, x_jitter, y_jitter, label, color, marker, scatter_kws, line_kws, ax)\u001B[0m\n\u001B[0;32m    773\u001B[0m scatter_kws[\u001B[38;5;124m\"\u001B[39m\u001B[38;5;124mmarker\u001B[39m\u001B[38;5;124m\"\u001B[39m] \u001B[38;5;241m=\u001B[39m marker\n\u001B[0;32m    774\u001B[0m line_kws \u001B[38;5;241m=\u001B[39m {} \u001B[38;5;28;01mif\u001B[39;00m line_kws \u001B[38;5;129;01mis\u001B[39;00m \u001B[38;5;28;01mNone\u001B[39;00m \u001B[38;5;28;01melse\u001B[39;00m copy\u001B[38;5;241m.\u001B[39mcopy(line_kws)\n\u001B[1;32m--> 775\u001B[0m \u001B[43mplotter\u001B[49m\u001B[38;5;241;43m.\u001B[39;49m\u001B[43mplot\u001B[49m\u001B[43m(\u001B[49m\u001B[43max\u001B[49m\u001B[43m,\u001B[49m\u001B[43m \u001B[49m\u001B[43mscatter_kws\u001B[49m\u001B[43m,\u001B[49m\u001B[43m \u001B[49m\u001B[43mline_kws\u001B[49m\u001B[43m)\u001B[49m\n\u001B[0;32m    776\u001B[0m \u001B[38;5;28;01mreturn\u001B[39;00m ax\n",
      "File \u001B[1;32m~\\miniconda3\\envs\\spark354_env\\lib\\site-packages\\seaborn\\regression.py:384\u001B[0m, in \u001B[0;36m_RegressionPlotter.plot\u001B[1;34m(self, ax, scatter_kws, line_kws)\u001B[0m\n\u001B[0;32m    381\u001B[0m     \u001B[38;5;28mself\u001B[39m\u001B[38;5;241m.\u001B[39mscatterplot(ax, scatter_kws)\n\u001B[0;32m    383\u001B[0m \u001B[38;5;28;01mif\u001B[39;00m \u001B[38;5;28mself\u001B[39m\u001B[38;5;241m.\u001B[39mfit_reg:\n\u001B[1;32m--> 384\u001B[0m     \u001B[38;5;28;43mself\u001B[39;49m\u001B[38;5;241;43m.\u001B[39;49m\u001B[43mlineplot\u001B[49m\u001B[43m(\u001B[49m\u001B[43max\u001B[49m\u001B[43m,\u001B[49m\u001B[43m \u001B[49m\u001B[43mline_kws\u001B[49m\u001B[43m)\u001B[49m\n\u001B[0;32m    386\u001B[0m \u001B[38;5;66;03m# Label the axes\u001B[39;00m\n\u001B[0;32m    387\u001B[0m \u001B[38;5;28;01mif\u001B[39;00m \u001B[38;5;28mhasattr\u001B[39m(\u001B[38;5;28mself\u001B[39m\u001B[38;5;241m.\u001B[39mx, \u001B[38;5;124m\"\u001B[39m\u001B[38;5;124mname\u001B[39m\u001B[38;5;124m\"\u001B[39m):\n",
      "File \u001B[1;32m~\\miniconda3\\envs\\spark354_env\\lib\\site-packages\\seaborn\\regression.py:429\u001B[0m, in \u001B[0;36m_RegressionPlotter.lineplot\u001B[1;34m(self, ax, kws)\u001B[0m\n\u001B[0;32m    427\u001B[0m \u001B[38;5;250m\u001B[39m\u001B[38;5;124;03m\"\"\"Draw the model.\"\"\"\u001B[39;00m\n\u001B[0;32m    428\u001B[0m \u001B[38;5;66;03m# Fit the regression model\u001B[39;00m\n\u001B[1;32m--> 429\u001B[0m grid, yhat, err_bands \u001B[38;5;241m=\u001B[39m \u001B[38;5;28;43mself\u001B[39;49m\u001B[38;5;241;43m.\u001B[39;49m\u001B[43mfit_regression\u001B[49m\u001B[43m(\u001B[49m\u001B[43max\u001B[49m\u001B[43m)\u001B[49m\n\u001B[0;32m    430\u001B[0m edges \u001B[38;5;241m=\u001B[39m grid[\u001B[38;5;241m0\u001B[39m], grid[\u001B[38;5;241m-\u001B[39m\u001B[38;5;241m1\u001B[39m]\n\u001B[0;32m    432\u001B[0m \u001B[38;5;66;03m# Get set default aesthetics\u001B[39;00m\n",
      "File \u001B[1;32m~\\miniconda3\\envs\\spark354_env\\lib\\site-packages\\seaborn\\regression.py:229\u001B[0m, in \u001B[0;36m_RegressionPlotter.fit_regression\u001B[1;34m(self, ax, x_range, grid)\u001B[0m\n\u001B[0;32m    227\u001B[0m     yhat, yhat_boots \u001B[38;5;241m=\u001B[39m \u001B[38;5;28mself\u001B[39m\u001B[38;5;241m.\u001B[39mfit_logx(grid)\n\u001B[0;32m    228\u001B[0m \u001B[38;5;28;01melse\u001B[39;00m:\n\u001B[1;32m--> 229\u001B[0m     yhat, yhat_boots \u001B[38;5;241m=\u001B[39m \u001B[38;5;28;43mself\u001B[39;49m\u001B[38;5;241;43m.\u001B[39;49m\u001B[43mfit_fast\u001B[49m\u001B[43m(\u001B[49m\u001B[43mgrid\u001B[49m\u001B[43m)\u001B[49m\n\u001B[0;32m    231\u001B[0m \u001B[38;5;66;03m# Compute the confidence interval at each grid point\u001B[39;00m\n\u001B[0;32m    232\u001B[0m \u001B[38;5;28;01mif\u001B[39;00m ci \u001B[38;5;129;01mis\u001B[39;00m \u001B[38;5;28;01mNone\u001B[39;00m:\n",
      "File \u001B[1;32m~\\miniconda3\\envs\\spark354_env\\lib\\site-packages\\seaborn\\regression.py:250\u001B[0m, in \u001B[0;36m_RegressionPlotter.fit_fast\u001B[1;34m(self, grid)\u001B[0m\n\u001B[0;32m    247\u001B[0m \u001B[38;5;28;01mif\u001B[39;00m \u001B[38;5;28mself\u001B[39m\u001B[38;5;241m.\u001B[39mci \u001B[38;5;129;01mis\u001B[39;00m \u001B[38;5;28;01mNone\u001B[39;00m:\n\u001B[0;32m    248\u001B[0m     \u001B[38;5;28;01mreturn\u001B[39;00m yhat, \u001B[38;5;28;01mNone\u001B[39;00m\n\u001B[1;32m--> 250\u001B[0m beta_boots \u001B[38;5;241m=\u001B[39m \u001B[43malgo\u001B[49m\u001B[38;5;241;43m.\u001B[39;49m\u001B[43mbootstrap\u001B[49m\u001B[43m(\u001B[49m\u001B[43mX\u001B[49m\u001B[43m,\u001B[49m\u001B[43m \u001B[49m\u001B[43my\u001B[49m\u001B[43m,\u001B[49m\n\u001B[0;32m    251\u001B[0m \u001B[43m                            \u001B[49m\u001B[43mfunc\u001B[49m\u001B[38;5;241;43m=\u001B[39;49m\u001B[43mreg_func\u001B[49m\u001B[43m,\u001B[49m\n\u001B[0;32m    252\u001B[0m \u001B[43m                            \u001B[49m\u001B[43mn_boot\u001B[49m\u001B[38;5;241;43m=\u001B[39;49m\u001B[38;5;28;43mself\u001B[39;49m\u001B[38;5;241;43m.\u001B[39;49m\u001B[43mn_boot\u001B[49m\u001B[43m,\u001B[49m\n\u001B[0;32m    253\u001B[0m \u001B[43m                            \u001B[49m\u001B[43munits\u001B[49m\u001B[38;5;241;43m=\u001B[39;49m\u001B[38;5;28;43mself\u001B[39;49m\u001B[38;5;241;43m.\u001B[39;49m\u001B[43munits\u001B[49m\u001B[43m,\u001B[49m\n\u001B[0;32m    254\u001B[0m \u001B[43m                            \u001B[49m\u001B[43mseed\u001B[49m\u001B[38;5;241;43m=\u001B[39;49m\u001B[38;5;28;43mself\u001B[39;49m\u001B[38;5;241;43m.\u001B[39;49m\u001B[43mseed\u001B[49m\u001B[43m)\u001B[49m\u001B[38;5;241m.\u001B[39mT\n\u001B[0;32m    255\u001B[0m yhat_boots \u001B[38;5;241m=\u001B[39m grid\u001B[38;5;241m.\u001B[39mdot(beta_boots)\u001B[38;5;241m.\u001B[39mT\n\u001B[0;32m    256\u001B[0m \u001B[38;5;28;01mreturn\u001B[39;00m yhat, yhat_boots\n",
      "File \u001B[1;32m~\\miniconda3\\envs\\spark354_env\\lib\\site-packages\\seaborn\\algorithms.py:99\u001B[0m, in \u001B[0;36mbootstrap\u001B[1;34m(*args, **kwargs)\u001B[0m\n\u001B[0;32m     97\u001B[0m \u001B[38;5;28;01mfor\u001B[39;00m i \u001B[38;5;129;01min\u001B[39;00m \u001B[38;5;28mrange\u001B[39m(\u001B[38;5;28mint\u001B[39m(n_boot)):\n\u001B[0;32m     98\u001B[0m     resampler \u001B[38;5;241m=\u001B[39m integers(\u001B[38;5;241m0\u001B[39m, n, n, dtype\u001B[38;5;241m=\u001B[39mnp\u001B[38;5;241m.\u001B[39mintp)  \u001B[38;5;66;03m# intp is indexing dtype\u001B[39;00m\n\u001B[1;32m---> 99\u001B[0m     sample \u001B[38;5;241m=\u001B[39m [a\u001B[38;5;241m.\u001B[39mtake(resampler, axis\u001B[38;5;241m=\u001B[39m\u001B[38;5;241m0\u001B[39m) \u001B[38;5;28;01mfor\u001B[39;00m a \u001B[38;5;129;01min\u001B[39;00m args]\n\u001B[0;32m    100\u001B[0m     boot_dist\u001B[38;5;241m.\u001B[39mappend(f(\u001B[38;5;241m*\u001B[39msample, \u001B[38;5;241m*\u001B[39m\u001B[38;5;241m*\u001B[39mfunc_kwargs))\n\u001B[0;32m    101\u001B[0m \u001B[38;5;28;01mreturn\u001B[39;00m np\u001B[38;5;241m.\u001B[39marray(boot_dist)\n",
      "File \u001B[1;32m~\\miniconda3\\envs\\spark354_env\\lib\\site-packages\\seaborn\\algorithms.py:99\u001B[0m, in \u001B[0;36m<listcomp>\u001B[1;34m(.0)\u001B[0m\n\u001B[0;32m     97\u001B[0m \u001B[38;5;28;01mfor\u001B[39;00m i \u001B[38;5;129;01min\u001B[39;00m \u001B[38;5;28mrange\u001B[39m(\u001B[38;5;28mint\u001B[39m(n_boot)):\n\u001B[0;32m     98\u001B[0m     resampler \u001B[38;5;241m=\u001B[39m integers(\u001B[38;5;241m0\u001B[39m, n, n, dtype\u001B[38;5;241m=\u001B[39mnp\u001B[38;5;241m.\u001B[39mintp)  \u001B[38;5;66;03m# intp is indexing dtype\u001B[39;00m\n\u001B[1;32m---> 99\u001B[0m     sample \u001B[38;5;241m=\u001B[39m [\u001B[43ma\u001B[49m\u001B[38;5;241;43m.\u001B[39;49m\u001B[43mtake\u001B[49m\u001B[43m(\u001B[49m\u001B[43mresampler\u001B[49m\u001B[43m,\u001B[49m\u001B[43m \u001B[49m\u001B[43maxis\u001B[49m\u001B[38;5;241;43m=\u001B[39;49m\u001B[38;5;241;43m0\u001B[39;49m\u001B[43m)\u001B[49m \u001B[38;5;28;01mfor\u001B[39;00m a \u001B[38;5;129;01min\u001B[39;00m args]\n\u001B[0;32m    100\u001B[0m     boot_dist\u001B[38;5;241m.\u001B[39mappend(f(\u001B[38;5;241m*\u001B[39msample, \u001B[38;5;241m*\u001B[39m\u001B[38;5;241m*\u001B[39mfunc_kwargs))\n\u001B[0;32m    101\u001B[0m \u001B[38;5;28;01mreturn\u001B[39;00m np\u001B[38;5;241m.\u001B[39marray(boot_dist)\n",
      "\u001B[1;31mKeyboardInterrupt\u001B[0m: "
     ]
    },
    {
     "data": {
      "text/plain": [
       "<Figure size 500x500 with 1 Axes>"
      ],
      "image/png": "[encoded data removed]"
     },
     "metadata": {},
     "output_type": "display_data"
    }
   ],
   "execution_count": 31
  },
  {
   "metadata": {
    "ExecuteTime": {
     "end_time": "2025-07-14T07:30:16.464061Z",
     "start_time": "2025-07-14T07:28:38.446046Z"
    }
   },
   "cell_type": "code",
   "source": "sns.lmplot(x='ts_weekday_int', y='price_int', data=pandas_df_s)",
   "id": "25be392ac5c735e5",
   "outputs": [
    {
     "data": {
      "text/plain": [
       "<seaborn.axisgrid.FacetGrid at 0x2e35f708ee0>"
      ]
     },
     "execution_count": 32,
     "metadata": {},
     "output_type": "execute_result"
    },
    {
     "data": {
      "text/plain": [
       "<Figure size 500x500 with 1 Axes>"
      ],
      "image/png": "[encoded data removed]"
     },
     "metadata": {},
     "output_type": "display_data"
    }
   ],
   "execution_count": 32
  },
  {
   "metadata": {
    "ExecuteTime": {
     "end_time": "2025-07-14T07:40:50.814536Z",
     "start_time": "2025-07-14T07:40:48.825831Z"
    }
   },
   "cell_type": "code",
   "source": [
    "#value filtering data using 3 std distance\n",
    "std_val = df_casted.agg({'price_int': 'stddev'}).collect()[0][0]\n",
    "mean_val = df_casted.agg({'price_int': 'mean'}).collect()[0][0]\n",
    "\n",
    "hi_bound = mean_val+(3*std_val)\n",
    "low_bound = mean_val-(3*std_val)\n",
    "\n",
    "df_filtered = df_casted.where((df_casted['price_int'] < hi_bound) & (df_casted['price_int'] > low_bound))\n",
    "num_rows = df_filtered.count()\n",
    "print(df_casted.count())\n",
    "print(num_rows)\n",
    "#df_filtered.show()"
   ],
   "id": "4b30f260f180dcda",
   "outputs": [
    {
     "name": "stdout",
     "output_type": "stream",
     "text": [
      "11495242\n",
      "11203806\n"
     ]
    }
   ],
   "execution_count": 37
  },
  {
   "metadata": {},
   "cell_type": "code",
   "outputs": [],
   "execution_count": null,
   "source": [
    "df.dropna(how='any', tresh=50, subset=['ts_weekday_int']) #if in how 'any' than drop a record if it contains any nulls.\n",
    "# If 'all' drop a record only if all its values are null\n",
    "#thresh: int, if specified drop records that have less than tresh non-null values, overwrites the how parameter\n",
    "#subset: optional list of column names to consider"
   ],
   "id": "35cdebb45502b57e"
  }
 ],
 "metadata": {
  "kernelspec": {
   "display_name": "Python 3",
   "language": "python",
   "name": "python3"
  },
  "language_info": {
   "codemirror_mode": {
    "name": "ipython",
    "version": 2
   },
   "file_extension": ".py",
   "mimetype": "text/x-python",
   "name": "python",
   "nbconvert_exporter": "python",
   "pygments_lexer": "ipython2",
   "version": "2.7.6"
  }
 },
 "nbformat": 4,
 "nbformat_minor": 5
}
