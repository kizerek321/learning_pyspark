{
 "cells": [
  {
   "metadata": {},
   "cell_type": "markdown",
   "source": [
    "# FEATURE ENGINEERING WITH PYSPARK\n",
    "## important aspect of machine learning\n",
    "### before diving to analysis\n",
    "    -- Become your own expert \n",
    "    -- define your goals for analysis and how the output might be used\n",
    "    -- research data \n",
    "    -- be curious\n",
    "### data science project\n",
    "#### Project Scoping / Data collection -> Exploratory ANalysis -> Data cleaning -> Feature Engineering -> model treining -> Project delivery / insights"
   ],
   "id": "742a2611d26733c8"
  },
  {
   "cell_type": "code",
   "id": "initial_id",
   "metadata": {
    "collapsed": true,
    "ExecuteTime": {
     "end_time": "2025-07-13T05:36:58.477315Z",
     "start_time": "2025-07-13T05:36:53.554053Z"
    }
   },
   "source": [
    "import pyspark.sql.functions\n",
    "from pyspark.pandas.internal import InternalField\n",
    "from pyspark.sql import SparkSession\n",
    "\n",
    "spark = SparkSession.builder.appName(\"feature_eng\").getOrCreate()"
   ],
   "outputs": [],
   "execution_count": 2
  },
  {
   "metadata": {
    "ExecuteTime": {
     "end_time": "2025-07-13T05:37:59.207795Z",
     "start_time": "2025-07-13T05:37:59.186851Z"
    }
   },
   "cell_type": "code",
   "source": [
    "import sys\n",
    "print(\"spark version: \", spark.version)\n",
    "print(\"python version: \", sys.version_info)"
   ],
   "id": "539f7dae659af8fc",
   "outputs": [
    {
     "name": "stdout",
     "output_type": "stream",
     "text": [
      "spark version:  3.5.4\n",
      "python version:  sys.version_info(major=3, minor=10, micro=18, releaselevel='final', serial=0)\n"
     ]
    }
   ],
   "execution_count": 3
  },
  {
   "metadata": {},
   "cell_type": "markdown",
   "source": [
    "# advantage of parquet data format\n",
    "   - ## Stored Column-wise\n",
    "        - ### Fast to query column subsets\n",
    "   - ## Structured, defined schema\n",
    "        - ### Fields and data types defined\n",
    "        - ### Great for messy text data\n",
    "   - ## industry adopted"
   ],
   "id": "e37884175a3d98c"
  },
  {
   "metadata": {
    "ExecuteTime": {
     "end_time": "2025-07-13T06:11:46.652109Z",
     "start_time": "2025-07-13T06:10:56.544433Z"
    }
   },
   "cell_type": "code",
   "source": [
    "import kagglehub\n",
    "\n",
    "# Download latest version\n",
    "path = kagglehub.dataset_download(\"dschettler8845/recsys-2020-ecommerce-dataset\")\n",
    "\n",
    "print(\"Path to dataset files:\", path)"
   ],
   "id": "74d663070609e5e0",
   "outputs": [
    {
     "name": "stderr",
     "output_type": "stream",
     "text": [
      "C:\\Users\\kizer\\miniconda3\\envs\\spark354_env\\lib\\site-packages\\tqdm\\auto.py:21: TqdmWarning: IProgress not found. Please update jupyter and ipywidgets. See https://ipywidgets.readthedocs.io/en/stable/user_install.html\n",
      "  from .autonotebook import tqdm as notebook_tqdm\n"
     ]
    },
    {
     "name": "stdout",
     "output_type": "stream",
     "text": [
      "Warning: Looks like you're using an outdated `kagglehub` version, please consider updating (latest version: 0.3.12)\n",
      "Downloading from https://www.kaggle.com/api/v1/datasets/download/dschettler8845/recsys-2020-ecommerce-dataset?dataset_version_number=1...\n"
     ]
    },
    {
     "name": "stderr",
     "output_type": "stream",
     "text": [
      "100%|██████████| 629M/629M [00:42<00:00, 15.5MB/s] "
     ]
    },
    {
     "name": "stdout",
     "output_type": "stream",
     "text": [
      "Extracting model files...\n"
     ]
    },
    {
     "name": "stderr",
     "output_type": "stream",
     "text": [
      "\n"
     ]
    },
    {
     "name": "stdout",
     "output_type": "stream",
     "text": [
      "Path to dataset files: C:\\Users\\kizer\\.cache\\kagglehub\\datasets\\dschettler8845\\recsys-2020-ecommerce-dataset\\versions\\1\n"
     ]
    }
   ],
   "execution_count": 4
  },
  {
   "metadata": {
    "ExecuteTime": {
     "end_time": "2025-07-13T06:14:06.120839Z",
     "start_time": "2025-07-13T06:14:06.101932Z"
    }
   },
   "cell_type": "code",
   "source": [
    "whole_path_test = \"C:\\\\Users\\\\kizer\\\\.cache\\\\kagglehub\\\\datasets\\\\dschettler8845\\\\recsys-2020-ecommerce-dataset\\\\versions\\\\1\\\\test.parquet\"\n",
    "whole_path_train = \"C:\\\\Users\\\\kizer\\\\.cache\\\\kagglehub\\\\datasets\\\\dschettler8845\\\\recsys-2020-ecommerce-dataset\\\\versions\\\\1\\\\train.parquet\""
   ],
   "id": "1fa80a064ef59ccf",
   "outputs": [],
   "execution_count": 5
  },
  {
   "metadata": {
    "ExecuteTime": {
     "end_time": "2025-07-13T06:14:24.471904Z",
     "start_time": "2025-07-13T06:14:19.248491Z"
    }
   },
   "cell_type": "code",
   "source": [
    "df = spark.read.parquet(whole_path_train)\n",
    "df.show()"
   ],
   "id": "1ee31844e9be3f33",
   "outputs": [
    {
     "name": "stdout",
     "output_type": "stream",
     "text": [
      "+--------------------+----------+----------+-------+-------+---------+--------------------+------+-----------+----------+---------+-----+-------------------+-------+---------+----------+------+--------+-------+\n",
      "|          event_time|event_type|product_id|  brand|  price|  user_id|        user_session|target|      cat_0|     cat_1|    cat_2|cat_3|          timestamp|ts_hour|ts_minute|ts_weekday|ts_day|ts_month|ts_year|\n",
      "+--------------------+----------+----------+-------+-------+---------+--------------------+------+-----------+----------+---------+-----+-------------------+-------+---------+----------+------+--------+-------+\n",
      "|2019-11-01 00:00:...|      cart|   1005014|samsung| 503.09|533326659|6b928be2-2bce-464...|     0|electronics|smartphone|       NA|   NA|2019-11-01 01:00:14|      0|        0|         4|     1|      11|   2019|\n",
      "|2019-11-01 00:03:...|      cart|   1005115|  apple| 949.47|565865924|fd4bd6d4-bd14-4fd...|     0|electronics|smartphone|       NA|   NA|2019-11-01 01:03:39|      0|        3|         4|     1|      11|   2019|\n",
      "|2019-11-01 00:05:...|      cart|   1002542|  apple| 486.80|549256216|dcbdc6e4-cd49-4ee...|     0|electronics|smartphone|       NA|   NA|2019-11-01 01:05:54|      0|        5|         4|     1|      11|   2019|\n",
      "|2019-11-01 00:07:...|      cart|   1002542|  apple| 486.80|549256216|dcbdc6e4-cd49-4ee...|     0|electronics|smartphone|       NA|   NA|2019-11-01 01:07:22|      0|        7|         4|     1|      11|   2019|\n",
      "|2019-11-01 00:10:...|      cart|   4804056|  apple| 160.57|522355747|0a1f37d1-71b7-464...|     0|electronics|     audio|headphone|   NA|2019-11-01 01:10:45|      0|       10|         4|     1|      11|   2019|\n",
      "|2019-11-01 00:13:...|      cart|   1004873|samsung| 362.29|563558500|e0729b6c-eafe-4b0...|     0|electronics|smartphone|       NA|   NA|2019-11-01 01:13:40|      0|       13|         4|     1|      11|   2019|\n",
      "|2019-11-01 00:14:...|      cart|   1004856|samsung| 128.42|513645631|8cccf28f-136d-494...|     0|electronics|smartphone|       NA|   NA|2019-11-01 01:14:09|      0|       14|         4|     1|      11|   2019|\n",
      "|2019-11-01 00:14:...|      cart|   1004856|samsung| 128.42|557839915|40304779-5050-440...|     0|electronics|smartphone|       NA|   NA|2019-11-01 01:14:23|      0|       14|         4|     1|      11|   2019|\n",
      "|2019-11-01 00:15:...|      cart|   1005115|  apple| 949.47|561713177|821f797d-f9f4-410...|     0|electronics|smartphone|       NA|   NA|2019-11-01 01:15:23|      0|       15|         4|     1|      11|   2019|\n",
      "|2019-11-01 00:15:...|      cart|   1005116|  apple|1013.86|513852314|892943dc-aacd-44d...|     0|electronics|smartphone|       NA|   NA|2019-11-01 01:15:46|      0|       15|         4|     1|      11|   2019|\n",
      "|2019-11-01 00:15:...|      cart|   1005116|  apple|1013.86|513852314|892943dc-aacd-44d...|     0|electronics|smartphone|       NA|   NA|2019-11-01 01:15:56|      0|       15|         4|     1|      11|   2019|\n",
      "|2019-11-01 00:20:...|      cart|   1004870|samsung| 275.25|563626542|e6e2cb92-9103-4e6...|     0|electronics|smartphone|       NA|   NA|2019-11-01 01:20:25|      0|       20|         4|     1|      11|   2019|\n",
      "|2019-11-01 00:20:...|      cart|   1004870|samsung| 275.25|563626542|e6e2cb92-9103-4e6...|     0|electronics|smartphone|       NA|   NA|2019-11-01 01:20:49|      0|       20|         4|     1|      11|   2019|\n",
      "|2019-11-01 00:24:...|      cart|   4804295| xiaomi|  22.80|550508533|fff30096-d345-43a...|     0|electronics|     audio|headphone|   NA|2019-11-01 01:24:48|      0|       24|         4|     1|      11|   2019|\n",
      "|2019-11-01 00:25:...|      cart|   4804295| xiaomi|  22.80|550508533|fff30096-d345-43a...|     0|electronics|     audio|headphone|   NA|2019-11-01 01:25:12|      0|       25|         4|     1|      11|   2019|\n",
      "|2019-11-01 00:30:...|      cart|   1002633|  apple| 358.31|557994805|b3bbf6e2-f995-448...|     0|electronics|smartphone|       NA|   NA|2019-11-01 01:30:05|      0|       30|         4|     1|      11|   2019|\n",
      "|2019-11-01 00:30:...|      cart|   1004856|samsung| 128.42|512800858|ddb1ab7a-7667-4f7...|     0|electronics|smartphone|       NA|   NA|2019-11-01 01:30:35|      0|       30|         4|     1|      11|   2019|\n",
      "|2019-11-01 00:31:...|      cart|   1801881|samsung| 488.80|566283686|771370f8-6f8e-458...|     0|electronics|     video|       tv|   NA|2019-11-01 01:31:35|      0|       31|         4|     1|      11|   2019|\n",
      "|2019-11-01 00:33:...|      cart|   1201471|samsung| 469.84|547694248|ad31f016-29a7-4d6...|     0|electronics|    tablet|       NA|   NA|2019-11-01 01:33:37|      0|       33|         4|     1|      11|   2019|\n",
      "|2019-11-01 00:35:...|      cart|   1004767|samsung| 242.63|532542999|595c35b6-269b-433...|     0|electronics|smartphone|       NA|   NA|2019-11-01 01:35:55|      0|       35|         4|     1|      11|   2019|\n",
      "+--------------------+----------+----------+-------+-------+---------+--------------------+------+-----------+----------+---------+-----+-------------------+-------+---------+----------+------+--------+-------+\n",
      "only showing top 20 rows\n",
      "\n"
     ]
    }
   ],
   "execution_count": 6
  }
 ],
 "metadata": {
  "kernelspec": {
   "display_name": "Python 3",
   "language": "python",
   "name": "python3"
  },
  "language_info": {
   "codemirror_mode": {
    "name": "ipython",
    "version": 2
   },
   "file_extension": ".py",
   "mimetype": "text/x-python",
   "name": "python",
   "nbconvert_exporter": "python",
   "pygments_lexer": "ipython2",
   "version": "2.7.6"
  }
 },
 "nbformat": 4,
 "nbformat_minor": 5
}
