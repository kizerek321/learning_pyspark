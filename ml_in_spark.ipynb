{
 "cells": [
  {
   "cell_type": "code",
   "id": "initial_id",
   "metadata": {
    "collapsed": true,
    "ExecuteTime": {
     "end_time": "2025-07-22T16:43:51.426954Z",
     "start_time": "2025-07-22T16:43:46.514534Z"
    }
   },
   "source": [
    "from pyspark.sql import SparkSession\n",
    "\n",
    "spark = SparkSession.builder.appName(\"ml_in_spark\").getOrCreate()"
   ],
   "outputs": [],
   "execution_count": 1
  },
  {
   "metadata": {},
   "cell_type": "markdown",
   "source": [
    "# Nodes in spark:\n",
    "## Computer with CPU, RAM and physical storage\n",
    "### - CLUSTER MANAGER ALLOCATES RESOURCES AND COORDICANTES activity across the cluster\n",
    "### - On each node Spark starts an executor process which persists for the duration of the application\n",
    "### - work divided up into tasks - units of compuitatation"
   ],
   "id": "aa7fe6988a1bc151"
  },
  {
   "metadata": {},
   "cell_type": "markdown",
   "source": [
    "## Sub-modules of spark:\n",
    "- ####  pyspark.sql - structured data\n",
    "- ####  pyspark.streaming - streaming data\n",
    "- ####  machine learning: \n",
    "- #####  pyspark.mllib - Uses an unstructured representation of data in RDDs\n",
    "-  #####  pyspark.ml - based on structured, tabular representation of data in DataFrames"
   ],
   "id": "42c1ed38b40c0e03"
  },
  {
   "metadata": {},
   "cell_type": "code",
   "outputs": [],
   "execution_count": null,
   "source": [
    "# Remote cluster, spark URL- spark://<IP adress | DNS name>:<port>\n",
    "# example: spark://13.59.151.161:7077\n",
    "# local cluster:\n",
    "# examples: local - onlyone core, local[4] - 4cores or local[*] - all available cores"
   ],
   "id": "6bebd0b7e757b512"
  },
  {
   "metadata": {
    "ExecuteTime": {
     "end_time": "2025-07-22T16:46:25.168341Z",
     "start_time": "2025-07-22T16:46:25.157379Z"
    }
   },
   "cell_type": "code",
   "source": "spark.version",
   "id": "5e1f181300d07d4a",
   "outputs": [
    {
     "data": {
      "text/plain": [
       "'3.5.4'"
      ]
     },
     "execution_count": 2,
     "metadata": {},
     "output_type": "execute_result"
    }
   ],
   "execution_count": 2
  },
  {
   "metadata": {},
   "cell_type": "code",
   "outputs": [],
   "execution_count": null,
   "source": "spark.stop()",
   "id": "31a97c4ce055eff2"
  }
 ],
 "metadata": {
  "kernelspec": {
   "display_name": "Python 3",
   "language": "python",
   "name": "python3"
  },
  "language_info": {
   "codemirror_mode": {
    "name": "ipython",
    "version": 2
   },
   "file_extension": ".py",
   "mimetype": "text/x-python",
   "name": "python",
   "nbconvert_exporter": "python",
   "pygments_lexer": "ipython2",
   "version": "2.7.6"
  }
 },
 "nbformat": 4,
 "nbformat_minor": 5
}
