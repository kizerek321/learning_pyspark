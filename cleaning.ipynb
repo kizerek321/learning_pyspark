{
 "cells": [
  {
   "cell_type": "code",
   "id": "initial_id",
   "metadata": {
    "collapsed": true,
    "ExecuteTime": {
     "end_time": "2025-07-07T20:26:14.821696Z",
     "start_time": "2025-07-07T20:26:10.039347Z"
    }
   },
   "source": [
    "import pyspark.sql.functions\n",
    "from pyspark.pandas.internal import InternalField\n",
    "from pyspark.sql import SparkSession\n",
    "\n",
    "spark = SparkSession.builder.appName(\"cleaning\").getOrCreate()"
   ],
   "outputs": [],
   "execution_count": 2
  },
  {
   "metadata": {
    "ExecuteTime": {
     "end_time": "2025-07-07T20:26:21.537503Z",
     "start_time": "2025-07-07T20:26:20.400714Z"
    }
   },
   "cell_type": "code",
   "source": [
    "# Name of the Spark application instance\n",
    "app_name = spark.conf.get(\"spark.app.name\")\n",
    "\n",
    "# Driver TCP port\n",
    "driver_tcp_port = spark.conf.get(\"spark.driver.port\")\n",
    "\n",
    "# Number of join partitions\n",
    "num_partitions = spark.conf.get('spark.sql.shuffle.partitions')\n",
    "\n",
    "# Show the results\n",
    "print(\"Name: %s\" % app_name)\n",
    "print(\"Driver TCP port: %s\" % driver_tcp_port)\n",
    "print(\"Number of partitions: %s\" % num_partitions)"
   ],
   "id": "1f9983e5dbc228bc",
   "outputs": [
    {
     "name": "stdout",
     "output_type": "stream",
     "text": [
      "Name: cleaning\n",
      "Driver TCP port: 58844\n",
      "Number of partitions: 200\n"
     ]
    }
   ],
   "execution_count": 3
  },
  {
   "metadata": {
    "ExecuteTime": {
     "end_time": "2025-07-07T20:31:45.430773Z",
     "start_time": "2025-07-07T20:31:44.171732Z"
    }
   },
   "cell_type": "code",
   "source": [
    "import kagglehub\n",
    "\n",
    "# Download latest version\n",
    "path = kagglehub.dataset_download(\"abdulwadood11220/usa-house-sales-data\")\n",
    "\n",
    "print(\"Path to dataset files:\", path)\n",
    "fileName_path = path + \"\\\\us_house_Sales_data.csv\"\n",
    "print(fileName_path)"
   ],
   "id": "2353d053b7d461d4",
   "outputs": [
    {
     "name": "stderr",
     "output_type": "stream",
     "text": [
      "C:\\Users\\kizer\\miniconda3\\envs\\spark354_env\\lib\\site-packages\\tqdm\\auto.py:21: TqdmWarning: IProgress not found. Please update jupyter and ipywidgets. See https://ipywidgets.readthedocs.io/en/stable/user_install.html\n",
      "  from .autonotebook import tqdm as notebook_tqdm\n"
     ]
    },
    {
     "name": "stdout",
     "output_type": "stream",
     "text": [
      "Warning: Looks like you're using an outdated `kagglehub` version, please consider updating (latest version: 0.3.12)\n",
      "Path to dataset files: C:\\Users\\kizer\\.cache\\kagglehub\\datasets\\abdulwadood11220\\usa-house-sales-data\\versions\\1\n",
      "C:\\Users\\kizer\\.cache\\kagglehub\\datasets\\abdulwadood11220\\usa-house-sales-data\\versions\\1\\us_house_Sales_data.csv\n"
     ]
    }
   ],
   "execution_count": 5
  },
  {
   "metadata": {
    "ExecuteTime": {
     "end_time": "2025-07-07T20:31:48.218087Z",
     "start_time": "2025-07-07T20:31:46.809923Z"
    }
   },
   "cell_type": "code",
   "source": [
    "from pyspark.sql.types import *\n",
    "fileSchema= StructType([\n",
    "    StructField(\"Price\", StringType(), True),\n",
    "    StructField(\"Address\", StringType(), True),\n",
    "    StructField(\"City\", StringType(), True),\n",
    "    StructField(\"Zipcode\", IntegerType(), True),\n",
    "    StructField(\"State\", StringType(), True),\n",
    "    StructField(\"Bedrooms\", StringType(), True), #need to be changed to integer and remove bds from data\n",
    "    StructField(\"Bathrooms\", StringType(), True), #need to be changed to integer and remove ba from data\n",
    "    StructField(\"Area (Sqft)\", StringType(), True), # need to be changed to integer and remove sqft in data\n",
    "    StructField(\"Lot Size\", StringType(), True), # need to be changed to integer and remove sqft in data\n",
    "    StructField(\"Year Built\", IntegerType(), True),\n",
    "    StructField(\"Days on Market\", IntegerType(), True),\n",
    "    StructField(\"Property Type\", StringType(), True),\n",
    "    StructField(\"MLS ID\", StringType(), True),\n",
    "    StructField(\"Listing Agent\", StringType(), True),\n",
    "    StructField(\"Status\", StringType(), True),\n",
    "    StructField(\"Listing URL\", StringType(), True),  \n",
    "])\n",
    "df = spark.read.format('csv').option(\"header\", \"true\").load(fileName_path, schema=fileSchema)"
   ],
   "id": "a07a119b7650ba64",
   "outputs": [],
   "execution_count": 6
  },
  {
   "metadata": {
    "ExecuteTime": {
     "end_time": "2025-07-07T20:31:51.572627Z",
     "start_time": "2025-07-07T20:31:48.958593Z"
    }
   },
   "cell_type": "code",
   "source": "df.show()",
   "id": "97b4cb0ca4a388ce",
   "outputs": [
    {
     "name": "stdout",
     "output_type": "stream",
     "text": [
      "+----------+--------------------+-------------+-------+-----+--------+---------+-----------+---------+----------+--------------+-------------+-------+--------------------+--------+--------------------+\n",
      "|     Price|             Address|         City|Zipcode|State|Bedrooms|Bathrooms|Area (Sqft)| Lot Size|Year Built|Days on Market|Property Type| MLS ID|       Listing Agent|  Status|         Listing URL|\n",
      "+----------+--------------------+-------------+-------+-----+--------+---------+-----------+---------+----------+--------------+-------------+-------+--------------------+--------+--------------------+\n",
      "|  $554,217|5926 Oak Ave, San...|    San Diego|  65383|   CA|   1 bds|     3 ba|   772 sqft|4757 sqft|      1959|           101|    Townhouse|Z104635|Alex Johnson - Co...|For Sale|https://www.zillo...|\n",
      "|  $164,454|9583 Oak Ave, Fre...|       Fresno|  79339|   IL|   1 bds|     1 ba|  2348 sqft|3615 sqft|      1969|            46|    Apartment|Z535721|Emily Davis - Cen...|    Sold|https://www.zillo...|\n",
      "|$1,249,331|8224 Oak Ave, Sac...|   Sacramento|  87393|   TX|   6 bds|     1 ba|  3630 sqft|9369 sqft|      1990|            59|    Townhouse|Z900458|Mike Lee - Coldwe...|For Sale|https://www.zillo...|\n",
      "|  $189,267|232 Oak Ave, Fres...|       Fresno|  38666|   TX|   2 bds|     1 ba|   605 sqft|8804 sqft|      1958|           119|    Apartment|Z318589|   John Doe - RE/MAX| Pending|https://www.zillo...|\n",
      "|  $465,778|5446 Pine Rd, Los...|  Los Angeles|  23989|   CA|   3 bds|     2 ba|  1711 sqft|9260 sqft|      2020|            26|    Townhouse|Z899716|   John Doe - RE/MAX| Pending|https://www.zillo...|\n",
      "|  $738,357|9202 Maple Dr, Sa...|   Sacramento|  71318|   NY|   5 bds|     3 ba|  1177 sqft|8317 sqft|      2015|            35| Multi-Family|Z865468|Jane Smith - Kell...| Pending|https://www.zillo...|\n",
      "|$1,325,395|2698 Elm St, Sacr...|   Sacramento|  57421|   NY|   6 bds|     1 ba|  1990 sqft|5592 sqft|      2012|            94|    Townhouse|Z689873|Alex Johnson - Co...| Pending|https://www.zillo...|\n",
      "|$1,158,003|2118 Main St, San...|    San Diego|  64361|   IL|   2 bds|     2 ba|  1008 sqft|6010 sqft|      1975|            75|    Townhouse|Z329631|   John Doe - RE/MAX|For Sale|https://www.zillo...|\n",
      "|  $240,095|9474 Main St, San...|San Francisco|  13227|   FL|   6 bds|     2 ba|   929 sqft|5449 sqft|      1975|            79|    Townhouse|Z839936|   John Doe - RE/MAX| Pending|https://www.zillo...|\n",
      "|$1,356,448|8803 Maple Dr, Sa...|    San Diego|  57397|   NY|   2 bds|     3 ba|  2094 sqft|2179 sqft|      1970|           111| Multi-Family|Z264011|   John Doe - RE/MAX| Pending|https://www.zillo...|\n",
      "|  $678,604|7535 Elm St, San ...|    San Diego|  70072|   FL|   3 bds|     3 ba|  2350 sqft|3341 sqft|      2013|            25| Multi-Family|Z298501|   John Doe - RE/MAX| Pending|https://www.zillo...|\n",
      "|$1,264,926|413 Main St, Fres...|       Fresno|  57401|   CA|   3 bds|     1 ba|  2407 sqft|2609 sqft|      1989|            79|    Apartment|Z282442|Emily Davis - Cen...|    Sold|https://www.zillo...|\n",
      "|  $645,962|9692 Maple Dr, Lo...|  Los Angeles|  91395|   CA|   4 bds|     3 ba|  2746 sqft|8256 sqft|      2008|            11|        Condo|Z855977|Emily Davis - Cen...| Pending|https://www.zillo...|\n",
      "|  $575,637|905 Oak Ave, Sacr...|   Sacramento|  28568|   NY|   1 bds|     4 ba|  3387 sqft|1740 sqft|      1966|            97|        Condo|Z166677|Jane Smith - Kell...| Pending|https://www.zillo...|\n",
      "|  $507,793|8699 Elm St, Fres...|       Fresno|  29191|   CA|   5 bds|     4 ba|  3480 sqft|2022 sqft|      2007|            66| Multi-Family|Z751795|Emily Davis - Cen...|    Sold|https://www.zillo...|\n",
      "|$1,171,629|2475 Elm St, Sacr...|   Sacramento|  63853|   TX|   2 bds|     4 ba|  2351 sqft|2275 sqft|      2007|            46|        Condo|Z325594|Alex Johnson - Co...|For Sale|https://www.zillo...|\n",
      "|  $698,570|5887 Oak Ave, Sac...|   Sacramento|  57513|   CA|   3 bds|     2 ba|   722 sqft|6443 sqft|      1953|            72|    Apartment|Z502987|Mike Lee - Coldwe...|    Sold|https://www.zillo...|\n",
      "|  $534,688|3934 Elm St, San ...|San Francisco|  17359|   TX|   3 bds|     1 ba|  2356 sqft|3883 sqft|      1958|           114|    Townhouse|Z726231|   John Doe - RE/MAX| Pending|https://www.zillo...|\n",
      "|$1,108,288|3087 Maple Dr, Lo...|  Los Angeles|  11690|   NY|   6 bds|     3 ba|  1156 sqft|1218 sqft|      1958|            28|        Condo|Z302684|Emily Davis - Cen...|    Sold|https://www.zillo...|\n",
      "|$1,173,697|4360 Maple Dr, Lo...|  Los Angeles|  97442|   TX|   2 bds|     4 ba|  1554 sqft|9408 sqft|      1982|             1| Multi-Family|Z879412|Mike Lee - Coldwe...| Pending|https://www.zillo...|\n",
      "+----------+--------------------+-------------+-------+-----+--------+---------+-----------+---------+----------+--------------+-------------+-------+--------------------+--------+--------------------+\n",
      "only showing top 20 rows\n",
      "\n"
     ]
    }
   ],
   "execution_count": 7
  },
  {
   "metadata": {
    "ExecuteTime": {
     "end_time": "2025-07-07T20:31:54.067514Z",
     "start_time": "2025-07-07T20:31:53.952821Z"
    }
   },
   "cell_type": "code",
   "source": [
    "# Store the number of partitions in variable\n",
    "before = df.rdd.getNumPartitions()\n",
    "\n",
    "# Configure Spark to use 500 partitions\n",
    "spark.conf.set('spark.sql.shuffle.partitions', 500)\n",
    "\n",
    "# Recreate the DataFrame using the departures data file\n",
    "df = spark.read.format('csv').option(\"header\", \"true\").load(fileName_path, schema=fileSchema)\n",
    "\n",
    "# Print the number of partitions for each instance\n",
    "print(\"Partition count before change: %d\" %before)\n",
    "print(\"Partition count after change: %d\" % df.rdd.getNumPartitions())"
   ],
   "id": "91ad8d5eae689076",
   "outputs": [
    {
     "name": "stdout",
     "output_type": "stream",
     "text": [
      "Partition count before change: 1\n",
      "Partition count after change: 1\n"
     ]
    }
   ],
   "execution_count": 8
  },
  {
   "metadata": {
    "ExecuteTime": {
     "end_time": "2025-07-07T06:55:25.779163Z",
     "start_time": "2025-07-07T06:55:25.761189Z"
    }
   },
   "cell_type": "code",
   "source": [
    "#parquet \n",
    "#loading:\n",
    "# df = spark.rea.format('parquet').load(fileName_path).loa('filename.parquet')\n",
    "# df = spark.read.parquet('filename.parquet')\n",
    "#saving:\n",
    "# df.write.format('parquet').save('filename.parquet')\n",
    "# df.write.parquet('filename.parquet')\n",
    "\n",
    "#sql:\n",
    "# dataframe -> tempView -> sql"
   ],
   "id": "ede9f892a88506c5",
   "outputs": [],
   "execution_count": 8
  },
  {
   "metadata": {
    "ExecuteTime": {
     "end_time": "2025-07-07T06:55:26.510185Z",
     "start_time": "2025-07-07T06:55:25.892836Z"
    }
   },
   "cell_type": "code",
   "source": [
    "df_sold = df.filter( df.Status == 'Sold')\n",
    "df_sold.show()"
   ],
   "id": "ad2b8911a0426e25",
   "outputs": [
    {
     "name": "stdout",
     "output_type": "stream",
     "text": [
      "+----------+--------------------+-------------+-------+-----+--------+---------+-----------+---------+----------+--------------+-------------+-------+--------------------+------+--------------------+\n",
      "|     Price|             Address|         City|Zipcode|State|Bedrooms|Bathrooms|Area (Sqft)| Lot Size|Year Built|Days on Market|Property Type| MLS ID|       Listing Agent|Status|         Listing URL|\n",
      "+----------+--------------------+-------------+-------+-----+--------+---------+-----------+---------+----------+--------------+-------------+-------+--------------------+------+--------------------+\n",
      "|  $164,454|9583 Oak Ave, Fre...|       Fresno|  79339|   IL|   1 bds|     1 ba|  2348 sqft|3615 sqft|      1969|            46|    Apartment|Z535721|Emily Davis - Cen...|  Sold|https://www.zillo...|\n",
      "|$1,264,926|413 Main St, Fres...|       Fresno|  57401|   CA|   3 bds|     1 ba|  2407 sqft|2609 sqft|      1989|            79|    Apartment|Z282442|Emily Davis - Cen...|  Sold|https://www.zillo...|\n",
      "|  $507,793|8699 Elm St, Fres...|       Fresno|  29191|   CA|   5 bds|     4 ba|  3480 sqft|2022 sqft|      2007|            66| Multi-Family|Z751795|Emily Davis - Cen...|  Sold|https://www.zillo...|\n",
      "|  $698,570|5887 Oak Ave, Sac...|   Sacramento|  57513|   CA|   3 bds|     2 ba|   722 sqft|6443 sqft|      1953|            72|    Apartment|Z502987|Mike Lee - Coldwe...|  Sold|https://www.zillo...|\n",
      "|$1,108,288|3087 Maple Dr, Lo...|  Los Angeles|  11690|   NY|   6 bds|     3 ba|  1156 sqft|1218 sqft|      1958|            28|        Condo|Z302684|Emily Davis - Cen...|  Sold|https://www.zillo...|\n",
      "|  $980,716|8332 Oak Ave, Los...|  Los Angeles|  12888|   IL|   2 bds|     2 ba|   982 sqft|7527 sqft|      1983|            58| Multi-Family|Z433130|Jane Smith - Kell...|  Sold|https://www.zillo...|\n",
      "|$1,381,949|9953 Maple Dr, Sa...|San Francisco|  33081|   TX|   4 bds|     4 ba|  2966 sqft|2421 sqft|      1997|            38|Single Family|Z166756|Emily Davis - Cen...|  Sold|https://www.zillo...|\n",
      "|  $898,597|3530 Oak Ave, Sac...|   Sacramento|  16851|   FL|   6 bds|     3 ba|  3814 sqft|2093 sqft|      1957|            71|        Condo|Z574837|Jane Smith - Kell...|  Sold|https://www.zillo...|\n",
      "|$1,444,036|517 Elm St, San D...|    San Diego|  73665|   CA|   6 bds|     3 ba|   743 sqft|8853 sqft|      2018|            50|    Townhouse|Z964910|   John Doe - RE/MAX|  Sold|https://www.zillo...|\n",
      "|  $911,317|7675 Maple Dr, Lo...|  Los Angeles|  25618|   NY|   3 bds|     2 ba|   908 sqft|1492 sqft|      1963|            42|    Apartment|Z313548|Emily Davis - Cen...|  Sold|https://www.zillo...|\n",
      "|  $858,386|1580 Elm St, San ...|San Francisco|  11309|   FL|   2 bds|     2 ba|  1475 sqft|1926 sqft|      1983|           102| Multi-Family|Z747104|Emily Davis - Cen...|  Sold|https://www.zillo...|\n",
      "|$1,461,297|1193 Oak Ave, San...|    San Diego|  19858|   NY|   1 bds|     3 ba|  3156 sqft|2935 sqft|      1961|            61|    Apartment|Z713668|Jane Smith - Kell...|  Sold|https://www.zillo...|\n",
      "|$1,231,600|345 Elm St, San D...|    San Diego|  65902|   CA|   1 bds|     3 ba|  3640 sqft|9593 sqft|      2008|           108|Single Family|Z651394|Mike Lee - Coldwe...|  Sold|https://www.zillo...|\n",
      "|  $947,261|9129 Elm St, San ...|    San Diego|  40064|   CA|   3 bds|     1 ba|  1515 sqft|1817 sqft|      2013|             3|        Condo|Z390811|Mike Lee - Coldwe...|  Sold|https://www.zillo...|\n",
      "|$1,064,596|593 Main St, San ...|San Francisco|  88366|   FL|   5 bds|     1 ba|  2383 sqft|7954 sqft|      1995|            73|        Condo|Z348439|   John Doe - RE/MAX|  Sold|https://www.zillo...|\n",
      "|  $570,284|8985 Main St, Sac...|   Sacramento|  71760|   CA|   1 bds|     1 ba|  2654 sqft|1426 sqft|      1990|            57|        Condo|Z262315|Jane Smith - Kell...|  Sold|https://www.zillo...|\n",
      "|  $929,862|9343 Maple Dr, Sa...|   Sacramento|  27909|   NY|   3 bds|     1 ba|  1640 sqft|2571 sqft|      1950|            58| Multi-Family|Z235580|   John Doe - RE/MAX|  Sold|https://www.zillo...|\n",
      "|  $557,894|7038 Elm St, Fres...|       Fresno|  52141|   IL|   5 bds|     1 ba|  2551 sqft|3014 sqft|      2006|            76|    Townhouse|Z989654|Mike Lee - Coldwe...|  Sold|https://www.zillo...|\n",
      "|  $282,593|8789 Oak Ave, San...|San Francisco|  99388|   TX|   6 bds|     2 ba|  2153 sqft|6999 sqft|      1977|            31|Single Family|Z620042|Alex Johnson - Co...|  Sold|https://www.zillo...|\n",
      "|$1,103,898|8234 Elm St, Sacr...|   Sacramento|  36251|   TX|   2 bds|     1 ba|  1088 sqft|4186 sqft|      1983|            58| Multi-Family|Z738821|   John Doe - RE/MAX|  Sold|https://www.zillo...|\n",
      "+----------+--------------------+-------------+-------+-----+--------+---------+-----------+---------+----------+--------------+-------------+-------+--------------------+------+--------------------+\n",
      "only showing top 20 rows\n",
      "\n"
     ]
    }
   ],
   "execution_count": 9
  },
  {
   "metadata": {
    "ExecuteTime": {
     "end_time": "2025-07-07T06:55:26.910116Z",
     "start_time": "2025-07-07T06:55:26.568031Z"
    }
   },
   "cell_type": "code",
   "source": [
    "df_not_sold = df.where( df.Status != 'Sold')\n",
    "df_not_sold.show()"
   ],
   "id": "2c35569b15b9ea3a",
   "outputs": [
    {
     "name": "stdout",
     "output_type": "stream",
     "text": [
      "+----------+--------------------+-------------+-------+-----+--------+---------+-----------+---------+----------+--------------+-------------+-------+--------------------+--------+--------------------+\n",
      "|     Price|             Address|         City|Zipcode|State|Bedrooms|Bathrooms|Area (Sqft)| Lot Size|Year Built|Days on Market|Property Type| MLS ID|       Listing Agent|  Status|         Listing URL|\n",
      "+----------+--------------------+-------------+-------+-----+--------+---------+-----------+---------+----------+--------------+-------------+-------+--------------------+--------+--------------------+\n",
      "|  $554,217|5926 Oak Ave, San...|    San Diego|  65383|   CA|   1 bds|     3 ba|   772 sqft|4757 sqft|      1959|           101|    Townhouse|Z104635|Alex Johnson - Co...|For Sale|https://www.zillo...|\n",
      "|$1,249,331|8224 Oak Ave, Sac...|   Sacramento|  87393|   TX|   6 bds|     1 ba|  3630 sqft|9369 sqft|      1990|            59|    Townhouse|Z900458|Mike Lee - Coldwe...|For Sale|https://www.zillo...|\n",
      "|  $189,267|232 Oak Ave, Fres...|       Fresno|  38666|   TX|   2 bds|     1 ba|   605 sqft|8804 sqft|      1958|           119|    Apartment|Z318589|   John Doe - RE/MAX| Pending|https://www.zillo...|\n",
      "|  $465,778|5446 Pine Rd, Los...|  Los Angeles|  23989|   CA|   3 bds|     2 ba|  1711 sqft|9260 sqft|      2020|            26|    Townhouse|Z899716|   John Doe - RE/MAX| Pending|https://www.zillo...|\n",
      "|  $738,357|9202 Maple Dr, Sa...|   Sacramento|  71318|   NY|   5 bds|     3 ba|  1177 sqft|8317 sqft|      2015|            35| Multi-Family|Z865468|Jane Smith - Kell...| Pending|https://www.zillo...|\n",
      "|$1,325,395|2698 Elm St, Sacr...|   Sacramento|  57421|   NY|   6 bds|     1 ba|  1990 sqft|5592 sqft|      2012|            94|    Townhouse|Z689873|Alex Johnson - Co...| Pending|https://www.zillo...|\n",
      "|$1,158,003|2118 Main St, San...|    San Diego|  64361|   IL|   2 bds|     2 ba|  1008 sqft|6010 sqft|      1975|            75|    Townhouse|Z329631|   John Doe - RE/MAX|For Sale|https://www.zillo...|\n",
      "|  $240,095|9474 Main St, San...|San Francisco|  13227|   FL|   6 bds|     2 ba|   929 sqft|5449 sqft|      1975|            79|    Townhouse|Z839936|   John Doe - RE/MAX| Pending|https://www.zillo...|\n",
      "|$1,356,448|8803 Maple Dr, Sa...|    San Diego|  57397|   NY|   2 bds|     3 ba|  2094 sqft|2179 sqft|      1970|           111| Multi-Family|Z264011|   John Doe - RE/MAX| Pending|https://www.zillo...|\n",
      "|  $678,604|7535 Elm St, San ...|    San Diego|  70072|   FL|   3 bds|     3 ba|  2350 sqft|3341 sqft|      2013|            25| Multi-Family|Z298501|   John Doe - RE/MAX| Pending|https://www.zillo...|\n",
      "|  $645,962|9692 Maple Dr, Lo...|  Los Angeles|  91395|   CA|   4 bds|     3 ba|  2746 sqft|8256 sqft|      2008|            11|        Condo|Z855977|Emily Davis - Cen...| Pending|https://www.zillo...|\n",
      "|  $575,637|905 Oak Ave, Sacr...|   Sacramento|  28568|   NY|   1 bds|     4 ba|  3387 sqft|1740 sqft|      1966|            97|        Condo|Z166677|Jane Smith - Kell...| Pending|https://www.zillo...|\n",
      "|$1,171,629|2475 Elm St, Sacr...|   Sacramento|  63853|   TX|   2 bds|     4 ba|  2351 sqft|2275 sqft|      2007|            46|        Condo|Z325594|Alex Johnson - Co...|For Sale|https://www.zillo...|\n",
      "|  $534,688|3934 Elm St, San ...|San Francisco|  17359|   TX|   3 bds|     1 ba|  2356 sqft|3883 sqft|      1958|           114|    Townhouse|Z726231|   John Doe - RE/MAX| Pending|https://www.zillo...|\n",
      "|$1,173,697|4360 Maple Dr, Lo...|  Los Angeles|  97442|   TX|   2 bds|     4 ba|  1554 sqft|9408 sqft|      1982|             1| Multi-Family|Z879412|Mike Lee - Coldwe...| Pending|https://www.zillo...|\n",
      "|  $527,238|4702 Pine Rd, Los...|  Los Angeles|  63443|   NY|   4 bds|     4 ba|  3164 sqft|9694 sqft|      1955|            33|        Condo|Z835234|Jane Smith - Kell...| Pending|https://www.zillo...|\n",
      "|$1,469,257|1993 Maple Dr, Fr...|       Fresno|  38811|   IL|   5 bds|     3 ba|   635 sqft|1130 sqft|      1990|            42| Multi-Family|Z310222|Emily Davis - Cen...| Pending|https://www.zillo...|\n",
      "|$1,335,481|8606 Main St, Los...|  Los Angeles|  31581|   IL|   2 bds|     4 ba|  1583 sqft|6306 sqft|      1979|            30|    Apartment|Z227123|Alex Johnson - Co...|For Sale|https://www.zillo...|\n",
      "|  $831,525|982 Oak Ave, Sacr...|   Sacramento|  45375|   CA|   4 bds|     3 ba|  1165 sqft|3128 sqft|      1954|            57|    Townhouse|Z275900|Alex Johnson - Co...|For Sale|https://www.zillo...|\n",
      "|  $705,506|8382 Main St, Sac...|   Sacramento|  74703|   CA|   6 bds|     1 ba|  3892 sqft|4133 sqft|      1985|           113|    Townhouse|Z131077|Jane Smith - Kell...| Pending|https://www.zillo...|\n",
      "+----------+--------------------+-------------+-------+-----+--------+---------+-----------+---------+----------+--------------+-------------+-------+--------------------+--------+--------------------+\n",
      "only showing top 20 rows\n",
      "\n"
     ]
    }
   ],
   "execution_count": 10
  },
  {
   "metadata": {
    "ExecuteTime": {
     "end_time": "2025-07-07T06:59:30.855810Z",
     "start_time": "2025-07-07T06:59:30.731143Z"
    }
   },
   "cell_type": "code",
   "source": [
    "#column string transformations\n",
    "import pyspark.sql.functions as F\n",
    "#intermediary columns:\n",
    "df = df.withColumn('split_bedrooms', F.split('Bedrooms', ' '))\n",
    "df.show()"
   ],
   "id": "4566585f73cdd74a",
   "outputs": [
    {
     "name": "stdout",
     "output_type": "stream",
     "text": [
      "+----------+--------------------+-------------+-------+-----+--------+---------+-----------+---------+----------+--------------+-------------+-------+--------------------+--------+--------------------+--------------+\n",
      "|     Price|             Address|         City|Zipcode|State|Bedrooms|Bathrooms|Area (Sqft)| Lot Size|Year Built|Days on Market|Property Type| MLS ID|       Listing Agent|  Status|         Listing URL|split_bedrooms|\n",
      "+----------+--------------------+-------------+-------+-----+--------+---------+-----------+---------+----------+--------------+-------------+-------+--------------------+--------+--------------------+--------------+\n",
      "|  $554,217|5926 Oak Ave, San...|    San Diego|  65383|   CA|   1 bds|     3 ba|   772 sqft|4757 sqft|      1959|           101|    Townhouse|Z104635|Alex Johnson - Co...|For Sale|https://www.zillo...|      [1, bds]|\n",
      "|  $164,454|9583 Oak Ave, Fre...|       Fresno|  79339|   IL|   1 bds|     1 ba|  2348 sqft|3615 sqft|      1969|            46|    Apartment|Z535721|Emily Davis - Cen...|    Sold|https://www.zillo...|      [1, bds]|\n",
      "|$1,249,331|8224 Oak Ave, Sac...|   Sacramento|  87393|   TX|   6 bds|     1 ba|  3630 sqft|9369 sqft|      1990|            59|    Townhouse|Z900458|Mike Lee - Coldwe...|For Sale|https://www.zillo...|      [6, bds]|\n",
      "|  $189,267|232 Oak Ave, Fres...|       Fresno|  38666|   TX|   2 bds|     1 ba|   605 sqft|8804 sqft|      1958|           119|    Apartment|Z318589|   John Doe - RE/MAX| Pending|https://www.zillo...|      [2, bds]|\n",
      "|  $465,778|5446 Pine Rd, Los...|  Los Angeles|  23989|   CA|   3 bds|     2 ba|  1711 sqft|9260 sqft|      2020|            26|    Townhouse|Z899716|   John Doe - RE/MAX| Pending|https://www.zillo...|      [3, bds]|\n",
      "|  $738,357|9202 Maple Dr, Sa...|   Sacramento|  71318|   NY|   5 bds|     3 ba|  1177 sqft|8317 sqft|      2015|            35| Multi-Family|Z865468|Jane Smith - Kell...| Pending|https://www.zillo...|      [5, bds]|\n",
      "|$1,325,395|2698 Elm St, Sacr...|   Sacramento|  57421|   NY|   6 bds|     1 ba|  1990 sqft|5592 sqft|      2012|            94|    Townhouse|Z689873|Alex Johnson - Co...| Pending|https://www.zillo...|      [6, bds]|\n",
      "|$1,158,003|2118 Main St, San...|    San Diego|  64361|   IL|   2 bds|     2 ba|  1008 sqft|6010 sqft|      1975|            75|    Townhouse|Z329631|   John Doe - RE/MAX|For Sale|https://www.zillo...|      [2, bds]|\n",
      "|  $240,095|9474 Main St, San...|San Francisco|  13227|   FL|   6 bds|     2 ba|   929 sqft|5449 sqft|      1975|            79|    Townhouse|Z839936|   John Doe - RE/MAX| Pending|https://www.zillo...|      [6, bds]|\n",
      "|$1,356,448|8803 Maple Dr, Sa...|    San Diego|  57397|   NY|   2 bds|     3 ba|  2094 sqft|2179 sqft|      1970|           111| Multi-Family|Z264011|   John Doe - RE/MAX| Pending|https://www.zillo...|      [2, bds]|\n",
      "|  $678,604|7535 Elm St, San ...|    San Diego|  70072|   FL|   3 bds|     3 ba|  2350 sqft|3341 sqft|      2013|            25| Multi-Family|Z298501|   John Doe - RE/MAX| Pending|https://www.zillo...|      [3, bds]|\n",
      "|$1,264,926|413 Main St, Fres...|       Fresno|  57401|   CA|   3 bds|     1 ba|  2407 sqft|2609 sqft|      1989|            79|    Apartment|Z282442|Emily Davis - Cen...|    Sold|https://www.zillo...|      [3, bds]|\n",
      "|  $645,962|9692 Maple Dr, Lo...|  Los Angeles|  91395|   CA|   4 bds|     3 ba|  2746 sqft|8256 sqft|      2008|            11|        Condo|Z855977|Emily Davis - Cen...| Pending|https://www.zillo...|      [4, bds]|\n",
      "|  $575,637|905 Oak Ave, Sacr...|   Sacramento|  28568|   NY|   1 bds|     4 ba|  3387 sqft|1740 sqft|      1966|            97|        Condo|Z166677|Jane Smith - Kell...| Pending|https://www.zillo...|      [1, bds]|\n",
      "|  $507,793|8699 Elm St, Fres...|       Fresno|  29191|   CA|   5 bds|     4 ba|  3480 sqft|2022 sqft|      2007|            66| Multi-Family|Z751795|Emily Davis - Cen...|    Sold|https://www.zillo...|      [5, bds]|\n",
      "|$1,171,629|2475 Elm St, Sacr...|   Sacramento|  63853|   TX|   2 bds|     4 ba|  2351 sqft|2275 sqft|      2007|            46|        Condo|Z325594|Alex Johnson - Co...|For Sale|https://www.zillo...|      [2, bds]|\n",
      "|  $698,570|5887 Oak Ave, Sac...|   Sacramento|  57513|   CA|   3 bds|     2 ba|   722 sqft|6443 sqft|      1953|            72|    Apartment|Z502987|Mike Lee - Coldwe...|    Sold|https://www.zillo...|      [3, bds]|\n",
      "|  $534,688|3934 Elm St, San ...|San Francisco|  17359|   TX|   3 bds|     1 ba|  2356 sqft|3883 sqft|      1958|           114|    Townhouse|Z726231|   John Doe - RE/MAX| Pending|https://www.zillo...|      [3, bds]|\n",
      "|$1,108,288|3087 Maple Dr, Lo...|  Los Angeles|  11690|   NY|   6 bds|     3 ba|  1156 sqft|1218 sqft|      1958|            28|        Condo|Z302684|Emily Davis - Cen...|    Sold|https://www.zillo...|      [6, bds]|\n",
      "|$1,173,697|4360 Maple Dr, Lo...|  Los Angeles|  97442|   TX|   2 bds|     4 ba|  1554 sqft|9408 sqft|      1982|             1| Multi-Family|Z879412|Mike Lee - Coldwe...| Pending|https://www.zillo...|      [2, bds]|\n",
      "+----------+--------------------+-------------+-------+-----+--------+---------+-----------+---------+----------+--------------+-------------+-------+--------------------+--------+--------------------+--------------+\n",
      "only showing top 20 rows\n",
      "\n"
     ]
    }
   ],
   "execution_count": 14
  },
  {
   "metadata": {
    "ExecuteTime": {
     "end_time": "2025-07-07T07:01:07.178590Z",
     "start_time": "2025-07-07T07:01:06.973783Z"
    }
   },
   "cell_type": "code",
   "source": [
    "df = df.withColumn('bedroomsINT', df.split_bedrooms.getItem(0).cast(IntegerType()))\n",
    "df.show()"
   ],
   "id": "938b1612806bc696",
   "outputs": [
    {
     "name": "stdout",
     "output_type": "stream",
     "text": [
      "+----------+--------------------+-------------+-------+-----+--------+---------+-----------+---------+----------+--------------+-------------+-------+--------------------+--------+--------------------+--------------+-----------+\n",
      "|     Price|             Address|         City|Zipcode|State|Bedrooms|Bathrooms|Area (Sqft)| Lot Size|Year Built|Days on Market|Property Type| MLS ID|       Listing Agent|  Status|         Listing URL|split_bedrooms|bedroomsINT|\n",
      "+----------+--------------------+-------------+-------+-----+--------+---------+-----------+---------+----------+--------------+-------------+-------+--------------------+--------+--------------------+--------------+-----------+\n",
      "|  $554,217|5926 Oak Ave, San...|    San Diego|  65383|   CA|   1 bds|     3 ba|   772 sqft|4757 sqft|      1959|           101|    Townhouse|Z104635|Alex Johnson - Co...|For Sale|https://www.zillo...|      [1, bds]|          1|\n",
      "|  $164,454|9583 Oak Ave, Fre...|       Fresno|  79339|   IL|   1 bds|     1 ba|  2348 sqft|3615 sqft|      1969|            46|    Apartment|Z535721|Emily Davis - Cen...|    Sold|https://www.zillo...|      [1, bds]|          1|\n",
      "|$1,249,331|8224 Oak Ave, Sac...|   Sacramento|  87393|   TX|   6 bds|     1 ba|  3630 sqft|9369 sqft|      1990|            59|    Townhouse|Z900458|Mike Lee - Coldwe...|For Sale|https://www.zillo...|      [6, bds]|          6|\n",
      "|  $189,267|232 Oak Ave, Fres...|       Fresno|  38666|   TX|   2 bds|     1 ba|   605 sqft|8804 sqft|      1958|           119|    Apartment|Z318589|   John Doe - RE/MAX| Pending|https://www.zillo...|      [2, bds]|          2|\n",
      "|  $465,778|5446 Pine Rd, Los...|  Los Angeles|  23989|   CA|   3 bds|     2 ba|  1711 sqft|9260 sqft|      2020|            26|    Townhouse|Z899716|   John Doe - RE/MAX| Pending|https://www.zillo...|      [3, bds]|          3|\n",
      "|  $738,357|9202 Maple Dr, Sa...|   Sacramento|  71318|   NY|   5 bds|     3 ba|  1177 sqft|8317 sqft|      2015|            35| Multi-Family|Z865468|Jane Smith - Kell...| Pending|https://www.zillo...|      [5, bds]|          5|\n",
      "|$1,325,395|2698 Elm St, Sacr...|   Sacramento|  57421|   NY|   6 bds|     1 ba|  1990 sqft|5592 sqft|      2012|            94|    Townhouse|Z689873|Alex Johnson - Co...| Pending|https://www.zillo...|      [6, bds]|          6|\n",
      "|$1,158,003|2118 Main St, San...|    San Diego|  64361|   IL|   2 bds|     2 ba|  1008 sqft|6010 sqft|      1975|            75|    Townhouse|Z329631|   John Doe - RE/MAX|For Sale|https://www.zillo...|      [2, bds]|          2|\n",
      "|  $240,095|9474 Main St, San...|San Francisco|  13227|   FL|   6 bds|     2 ba|   929 sqft|5449 sqft|      1975|            79|    Townhouse|Z839936|   John Doe - RE/MAX| Pending|https://www.zillo...|      [6, bds]|          6|\n",
      "|$1,356,448|8803 Maple Dr, Sa...|    San Diego|  57397|   NY|   2 bds|     3 ba|  2094 sqft|2179 sqft|      1970|           111| Multi-Family|Z264011|   John Doe - RE/MAX| Pending|https://www.zillo...|      [2, bds]|          2|\n",
      "|  $678,604|7535 Elm St, San ...|    San Diego|  70072|   FL|   3 bds|     3 ba|  2350 sqft|3341 sqft|      2013|            25| Multi-Family|Z298501|   John Doe - RE/MAX| Pending|https://www.zillo...|      [3, bds]|          3|\n",
      "|$1,264,926|413 Main St, Fres...|       Fresno|  57401|   CA|   3 bds|     1 ba|  2407 sqft|2609 sqft|      1989|            79|    Apartment|Z282442|Emily Davis - Cen...|    Sold|https://www.zillo...|      [3, bds]|          3|\n",
      "|  $645,962|9692 Maple Dr, Lo...|  Los Angeles|  91395|   CA|   4 bds|     3 ba|  2746 sqft|8256 sqft|      2008|            11|        Condo|Z855977|Emily Davis - Cen...| Pending|https://www.zillo...|      [4, bds]|          4|\n",
      "|  $575,637|905 Oak Ave, Sacr...|   Sacramento|  28568|   NY|   1 bds|     4 ba|  3387 sqft|1740 sqft|      1966|            97|        Condo|Z166677|Jane Smith - Kell...| Pending|https://www.zillo...|      [1, bds]|          1|\n",
      "|  $507,793|8699 Elm St, Fres...|       Fresno|  29191|   CA|   5 bds|     4 ba|  3480 sqft|2022 sqft|      2007|            66| Multi-Family|Z751795|Emily Davis - Cen...|    Sold|https://www.zillo...|      [5, bds]|          5|\n",
      "|$1,171,629|2475 Elm St, Sacr...|   Sacramento|  63853|   TX|   2 bds|     4 ba|  2351 sqft|2275 sqft|      2007|            46|        Condo|Z325594|Alex Johnson - Co...|For Sale|https://www.zillo...|      [2, bds]|          2|\n",
      "|  $698,570|5887 Oak Ave, Sac...|   Sacramento|  57513|   CA|   3 bds|     2 ba|   722 sqft|6443 sqft|      1953|            72|    Apartment|Z502987|Mike Lee - Coldwe...|    Sold|https://www.zillo...|      [3, bds]|          3|\n",
      "|  $534,688|3934 Elm St, San ...|San Francisco|  17359|   TX|   3 bds|     1 ba|  2356 sqft|3883 sqft|      1958|           114|    Townhouse|Z726231|   John Doe - RE/MAX| Pending|https://www.zillo...|      [3, bds]|          3|\n",
      "|$1,108,288|3087 Maple Dr, Lo...|  Los Angeles|  11690|   NY|   6 bds|     3 ba|  1156 sqft|1218 sqft|      1958|            28|        Condo|Z302684|Emily Davis - Cen...|    Sold|https://www.zillo...|      [6, bds]|          6|\n",
      "|$1,173,697|4360 Maple Dr, Lo...|  Los Angeles|  97442|   TX|   2 bds|     4 ba|  1554 sqft|9408 sqft|      1982|             1| Multi-Family|Z879412|Mike Lee - Coldwe...| Pending|https://www.zillo...|      [2, bds]|          2|\n",
      "+----------+--------------------+-------------+-------+-----+--------+---------+-----------+---------+----------+--------------+-------------+-------+--------------------+--------+--------------------+--------------+-----------+\n",
      "only showing top 20 rows\n",
      "\n"
     ]
    }
   ],
   "execution_count": 15
  },
  {
   "metadata": {
    "ExecuteTime": {
     "end_time": "2025-07-07T07:01:43.902014Z",
     "start_time": "2025-07-07T07:01:43.877080Z"
    }
   },
   "cell_type": "code",
   "source": "df = df.drop('split_bedrooms')",
   "id": "a08d5aadcab8ea10",
   "outputs": [],
   "execution_count": 16
  },
  {
   "metadata": {
    "ExecuteTime": {
     "end_time": "2025-07-07T07:03:35.759892Z",
     "start_time": "2025-07-07T07:03:35.530507Z"
    }
   },
   "cell_type": "code",
   "source": [
    "df = df.withColumn('split_bathrooms', F.split('Bathrooms', ' '))\n",
    "df = df.withColumn('split_area', F.split('Area (Sqft)', ' '))\n",
    "df = df.withColumn('split_lot', F.split('Lot Size', ' '))\n",
    "\n",
    "df.show()"
   ],
   "id": "f6fe43b7bf074ae6",
   "outputs": [
    {
     "name": "stdout",
     "output_type": "stream",
     "text": [
      "+----------+--------------------+-------------+-------+-----+--------+---------+-----------+---------+----------+--------------+-------------+-------+--------------------+--------+--------------------+-----------+---------------+------------+------------+\n",
      "|     Price|             Address|         City|Zipcode|State|Bedrooms|Bathrooms|Area (Sqft)| Lot Size|Year Built|Days on Market|Property Type| MLS ID|       Listing Agent|  Status|         Listing URL|bedroomsINT|split_bathrooms|  split_area|   split_lot|\n",
      "+----------+--------------------+-------------+-------+-----+--------+---------+-----------+---------+----------+--------------+-------------+-------+--------------------+--------+--------------------+-----------+---------------+------------+------------+\n",
      "|  $554,217|5926 Oak Ave, San...|    San Diego|  65383|   CA|   1 bds|     3 ba|   772 sqft|4757 sqft|      1959|           101|    Townhouse|Z104635|Alex Johnson - Co...|For Sale|https://www.zillo...|          1|        [3, ba]| [772, sqft]|[4757, sqft]|\n",
      "|  $164,454|9583 Oak Ave, Fre...|       Fresno|  79339|   IL|   1 bds|     1 ba|  2348 sqft|3615 sqft|      1969|            46|    Apartment|Z535721|Emily Davis - Cen...|    Sold|https://www.zillo...|          1|        [1, ba]|[2348, sqft]|[3615, sqft]|\n",
      "|$1,249,331|8224 Oak Ave, Sac...|   Sacramento|  87393|   TX|   6 bds|     1 ba|  3630 sqft|9369 sqft|      1990|            59|    Townhouse|Z900458|Mike Lee - Coldwe...|For Sale|https://www.zillo...|          6|        [1, ba]|[3630, sqft]|[9369, sqft]|\n",
      "|  $189,267|232 Oak Ave, Fres...|       Fresno|  38666|   TX|   2 bds|     1 ba|   605 sqft|8804 sqft|      1958|           119|    Apartment|Z318589|   John Doe - RE/MAX| Pending|https://www.zillo...|          2|        [1, ba]| [605, sqft]|[8804, sqft]|\n",
      "|  $465,778|5446 Pine Rd, Los...|  Los Angeles|  23989|   CA|   3 bds|     2 ba|  1711 sqft|9260 sqft|      2020|            26|    Townhouse|Z899716|   John Doe - RE/MAX| Pending|https://www.zillo...|          3|        [2, ba]|[1711, sqft]|[9260, sqft]|\n",
      "|  $738,357|9202 Maple Dr, Sa...|   Sacramento|  71318|   NY|   5 bds|     3 ba|  1177 sqft|8317 sqft|      2015|            35| Multi-Family|Z865468|Jane Smith - Kell...| Pending|https://www.zillo...|          5|        [3, ba]|[1177, sqft]|[8317, sqft]|\n",
      "|$1,325,395|2698 Elm St, Sacr...|   Sacramento|  57421|   NY|   6 bds|     1 ba|  1990 sqft|5592 sqft|      2012|            94|    Townhouse|Z689873|Alex Johnson - Co...| Pending|https://www.zillo...|          6|        [1, ba]|[1990, sqft]|[5592, sqft]|\n",
      "|$1,158,003|2118 Main St, San...|    San Diego|  64361|   IL|   2 bds|     2 ba|  1008 sqft|6010 sqft|      1975|            75|    Townhouse|Z329631|   John Doe - RE/MAX|For Sale|https://www.zillo...|          2|        [2, ba]|[1008, sqft]|[6010, sqft]|\n",
      "|  $240,095|9474 Main St, San...|San Francisco|  13227|   FL|   6 bds|     2 ba|   929 sqft|5449 sqft|      1975|            79|    Townhouse|Z839936|   John Doe - RE/MAX| Pending|https://www.zillo...|          6|        [2, ba]| [929, sqft]|[5449, sqft]|\n",
      "|$1,356,448|8803 Maple Dr, Sa...|    San Diego|  57397|   NY|   2 bds|     3 ba|  2094 sqft|2179 sqft|      1970|           111| Multi-Family|Z264011|   John Doe - RE/MAX| Pending|https://www.zillo...|          2|        [3, ba]|[2094, sqft]|[2179, sqft]|\n",
      "|  $678,604|7535 Elm St, San ...|    San Diego|  70072|   FL|   3 bds|     3 ba|  2350 sqft|3341 sqft|      2013|            25| Multi-Family|Z298501|   John Doe - RE/MAX| Pending|https://www.zillo...|          3|        [3, ba]|[2350, sqft]|[3341, sqft]|\n",
      "|$1,264,926|413 Main St, Fres...|       Fresno|  57401|   CA|   3 bds|     1 ba|  2407 sqft|2609 sqft|      1989|            79|    Apartment|Z282442|Emily Davis - Cen...|    Sold|https://www.zillo...|          3|        [1, ba]|[2407, sqft]|[2609, sqft]|\n",
      "|  $645,962|9692 Maple Dr, Lo...|  Los Angeles|  91395|   CA|   4 bds|     3 ba|  2746 sqft|8256 sqft|      2008|            11|        Condo|Z855977|Emily Davis - Cen...| Pending|https://www.zillo...|          4|        [3, ba]|[2746, sqft]|[8256, sqft]|\n",
      "|  $575,637|905 Oak Ave, Sacr...|   Sacramento|  28568|   NY|   1 bds|     4 ba|  3387 sqft|1740 sqft|      1966|            97|        Condo|Z166677|Jane Smith - Kell...| Pending|https://www.zillo...|          1|        [4, ba]|[3387, sqft]|[1740, sqft]|\n",
      "|  $507,793|8699 Elm St, Fres...|       Fresno|  29191|   CA|   5 bds|     4 ba|  3480 sqft|2022 sqft|      2007|            66| Multi-Family|Z751795|Emily Davis - Cen...|    Sold|https://www.zillo...|          5|        [4, ba]|[3480, sqft]|[2022, sqft]|\n",
      "|$1,171,629|2475 Elm St, Sacr...|   Sacramento|  63853|   TX|   2 bds|     4 ba|  2351 sqft|2275 sqft|      2007|            46|        Condo|Z325594|Alex Johnson - Co...|For Sale|https://www.zillo...|          2|        [4, ba]|[2351, sqft]|[2275, sqft]|\n",
      "|  $698,570|5887 Oak Ave, Sac...|   Sacramento|  57513|   CA|   3 bds|     2 ba|   722 sqft|6443 sqft|      1953|            72|    Apartment|Z502987|Mike Lee - Coldwe...|    Sold|https://www.zillo...|          3|        [2, ba]| [722, sqft]|[6443, sqft]|\n",
      "|  $534,688|3934 Elm St, San ...|San Francisco|  17359|   TX|   3 bds|     1 ba|  2356 sqft|3883 sqft|      1958|           114|    Townhouse|Z726231|   John Doe - RE/MAX| Pending|https://www.zillo...|          3|        [1, ba]|[2356, sqft]|[3883, sqft]|\n",
      "|$1,108,288|3087 Maple Dr, Lo...|  Los Angeles|  11690|   NY|   6 bds|     3 ba|  1156 sqft|1218 sqft|      1958|            28|        Condo|Z302684|Emily Davis - Cen...|    Sold|https://www.zillo...|          6|        [3, ba]|[1156, sqft]|[1218, sqft]|\n",
      "|$1,173,697|4360 Maple Dr, Lo...|  Los Angeles|  97442|   TX|   2 bds|     4 ba|  1554 sqft|9408 sqft|      1982|             1| Multi-Family|Z879412|Mike Lee - Coldwe...| Pending|https://www.zillo...|          2|        [4, ba]|[1554, sqft]|[9408, sqft]|\n",
      "+----------+--------------------+-------------+-------+-----+--------+---------+-----------+---------+----------+--------------+-------------+-------+--------------------+--------+--------------------+-----------+---------------+------------+------------+\n",
      "only showing top 20 rows\n",
      "\n"
     ]
    }
   ],
   "execution_count": 17
  },
  {
   "metadata": {
    "ExecuteTime": {
     "end_time": "2025-07-07T07:05:59.241214Z",
     "start_time": "2025-07-07T07:05:58.931044Z"
    }
   },
   "cell_type": "code",
   "source": [
    "df = df.withColumn('bathroomINT', df.split_bathrooms.getItem(0).cast(IntegerType()))\n",
    "df = df.withColumn('AreaInt', df.split_area.getItem(0).cast(IntegerType()))\n",
    "df = df.withColumn('LotINT', df.split_lot.getItem(0).cast(IntegerType()))\n",
    "df = df.drop('split_bathrooms')\n",
    "df = df.drop('split_lot')\n",
    "df = df.drop('split_area')\n",
    "df.show()"
   ],
   "id": "7c4cffd4f5f522a8",
   "outputs": [
    {
     "name": "stdout",
     "output_type": "stream",
     "text": [
      "+----------+--------------------+-------------+-------+-----+--------+---------+-----------+---------+----------+--------------+-------------+-------+--------------------+--------+--------------------+-----------+-----------+-------+------+\n",
      "|     Price|             Address|         City|Zipcode|State|Bedrooms|Bathrooms|Area (Sqft)| Lot Size|Year Built|Days on Market|Property Type| MLS ID|       Listing Agent|  Status|         Listing URL|bedroomsINT|bathroomINT|AreaInt|LotINT|\n",
      "+----------+--------------------+-------------+-------+-----+--------+---------+-----------+---------+----------+--------------+-------------+-------+--------------------+--------+--------------------+-----------+-----------+-------+------+\n",
      "|  $554,217|5926 Oak Ave, San...|    San Diego|  65383|   CA|   1 bds|     3 ba|   772 sqft|4757 sqft|      1959|           101|    Townhouse|Z104635|Alex Johnson - Co...|For Sale|https://www.zillo...|          1|          3|    772|  4757|\n",
      "|  $164,454|9583 Oak Ave, Fre...|       Fresno|  79339|   IL|   1 bds|     1 ba|  2348 sqft|3615 sqft|      1969|            46|    Apartment|Z535721|Emily Davis - Cen...|    Sold|https://www.zillo...|          1|          1|   2348|  3615|\n",
      "|$1,249,331|8224 Oak Ave, Sac...|   Sacramento|  87393|   TX|   6 bds|     1 ba|  3630 sqft|9369 sqft|      1990|            59|    Townhouse|Z900458|Mike Lee - Coldwe...|For Sale|https://www.zillo...|          6|          1|   3630|  9369|\n",
      "|  $189,267|232 Oak Ave, Fres...|       Fresno|  38666|   TX|   2 bds|     1 ba|   605 sqft|8804 sqft|      1958|           119|    Apartment|Z318589|   John Doe - RE/MAX| Pending|https://www.zillo...|          2|          1|    605|  8804|\n",
      "|  $465,778|5446 Pine Rd, Los...|  Los Angeles|  23989|   CA|   3 bds|     2 ba|  1711 sqft|9260 sqft|      2020|            26|    Townhouse|Z899716|   John Doe - RE/MAX| Pending|https://www.zillo...|          3|          2|   1711|  9260|\n",
      "|  $738,357|9202 Maple Dr, Sa...|   Sacramento|  71318|   NY|   5 bds|     3 ba|  1177 sqft|8317 sqft|      2015|            35| Multi-Family|Z865468|Jane Smith - Kell...| Pending|https://www.zillo...|          5|          3|   1177|  8317|\n",
      "|$1,325,395|2698 Elm St, Sacr...|   Sacramento|  57421|   NY|   6 bds|     1 ba|  1990 sqft|5592 sqft|      2012|            94|    Townhouse|Z689873|Alex Johnson - Co...| Pending|https://www.zillo...|          6|          1|   1990|  5592|\n",
      "|$1,158,003|2118 Main St, San...|    San Diego|  64361|   IL|   2 bds|     2 ba|  1008 sqft|6010 sqft|      1975|            75|    Townhouse|Z329631|   John Doe - RE/MAX|For Sale|https://www.zillo...|          2|          2|   1008|  6010|\n",
      "|  $240,095|9474 Main St, San...|San Francisco|  13227|   FL|   6 bds|     2 ba|   929 sqft|5449 sqft|      1975|            79|    Townhouse|Z839936|   John Doe - RE/MAX| Pending|https://www.zillo...|          6|          2|    929|  5449|\n",
      "|$1,356,448|8803 Maple Dr, Sa...|    San Diego|  57397|   NY|   2 bds|     3 ba|  2094 sqft|2179 sqft|      1970|           111| Multi-Family|Z264011|   John Doe - RE/MAX| Pending|https://www.zillo...|          2|          3|   2094|  2179|\n",
      "|  $678,604|7535 Elm St, San ...|    San Diego|  70072|   FL|   3 bds|     3 ba|  2350 sqft|3341 sqft|      2013|            25| Multi-Family|Z298501|   John Doe - RE/MAX| Pending|https://www.zillo...|          3|          3|   2350|  3341|\n",
      "|$1,264,926|413 Main St, Fres...|       Fresno|  57401|   CA|   3 bds|     1 ba|  2407 sqft|2609 sqft|      1989|            79|    Apartment|Z282442|Emily Davis - Cen...|    Sold|https://www.zillo...|          3|          1|   2407|  2609|\n",
      "|  $645,962|9692 Maple Dr, Lo...|  Los Angeles|  91395|   CA|   4 bds|     3 ba|  2746 sqft|8256 sqft|      2008|            11|        Condo|Z855977|Emily Davis - Cen...| Pending|https://www.zillo...|          4|          3|   2746|  8256|\n",
      "|  $575,637|905 Oak Ave, Sacr...|   Sacramento|  28568|   NY|   1 bds|     4 ba|  3387 sqft|1740 sqft|      1966|            97|        Condo|Z166677|Jane Smith - Kell...| Pending|https://www.zillo...|          1|          4|   3387|  1740|\n",
      "|  $507,793|8699 Elm St, Fres...|       Fresno|  29191|   CA|   5 bds|     4 ba|  3480 sqft|2022 sqft|      2007|            66| Multi-Family|Z751795|Emily Davis - Cen...|    Sold|https://www.zillo...|          5|          4|   3480|  2022|\n",
      "|$1,171,629|2475 Elm St, Sacr...|   Sacramento|  63853|   TX|   2 bds|     4 ba|  2351 sqft|2275 sqft|      2007|            46|        Condo|Z325594|Alex Johnson - Co...|For Sale|https://www.zillo...|          2|          4|   2351|  2275|\n",
      "|  $698,570|5887 Oak Ave, Sac...|   Sacramento|  57513|   CA|   3 bds|     2 ba|   722 sqft|6443 sqft|      1953|            72|    Apartment|Z502987|Mike Lee - Coldwe...|    Sold|https://www.zillo...|          3|          2|    722|  6443|\n",
      "|  $534,688|3934 Elm St, San ...|San Francisco|  17359|   TX|   3 bds|     1 ba|  2356 sqft|3883 sqft|      1958|           114|    Townhouse|Z726231|   John Doe - RE/MAX| Pending|https://www.zillo...|          3|          1|   2356|  3883|\n",
      "|$1,108,288|3087 Maple Dr, Lo...|  Los Angeles|  11690|   NY|   6 bds|     3 ba|  1156 sqft|1218 sqft|      1958|            28|        Condo|Z302684|Emily Davis - Cen...|    Sold|https://www.zillo...|          6|          3|   1156|  1218|\n",
      "|$1,173,697|4360 Maple Dr, Lo...|  Los Angeles|  97442|   TX|   2 bds|     4 ba|  1554 sqft|9408 sqft|      1982|             1| Multi-Family|Z879412|Mike Lee - Coldwe...| Pending|https://www.zillo...|          2|          4|   1554|  9408|\n",
      "+----------+--------------------+-------------+-------+-----+--------+---------+-----------+---------+----------+--------------+-------------+-------+--------------------+--------+--------------------+-----------+-----------+-------+------+\n",
      "only showing top 20 rows\n",
      "\n"
     ]
    }
   ],
   "execution_count": 18
  },
  {
   "metadata": {
    "ExecuteTime": {
     "end_time": "2025-07-07T06:55:27.941359Z",
     "start_time": "2025-07-07T06:55:27.637171Z"
    }
   },
   "cell_type": "code",
   "source": [
    "#casting to other types:\n",
    "#df.withColumn('split_bedrooms', df['_c17']).cast(StringType())\n",
    "#arrayType() column function\n"
   ],
   "id": "714a281ed6eeabb7",
   "outputs": [
    {
     "data": {
      "text/plain": [
       "DataFrame[summary: string, Price: string, Address: string, City: string, Zipcode: string, State: string, Bedrooms: string, Bathrooms: string, Area (Sqft): string, Lot Size: string, Year Built: string, Days on Market: string, Property Type: string, MLS ID: string, Listing Agent: string, Status: string, Listing URL: string]"
      ]
     },
     "execution_count": 12,
     "metadata": {},
     "output_type": "execute_result"
    }
   ],
   "execution_count": 12
  },
  {
   "metadata": {
    "ExecuteTime": {
     "end_time": "2025-07-07T07:17:49.223038Z",
     "start_time": "2025-07-07T07:17:49.047507Z"
    }
   },
   "cell_type": "code",
   "source": [
    "#Conditional clouses:\n",
    "\n",
    "df.select(df.Address, df.City, df.Zipcode, df.State, df['Days on Market'],\n",
    "    F.when(df['Days on Market'] > 100, \"long\").otherwise(\"short\").alias(\"Market_Duration\")).show()"
   ],
   "id": "1122af5b47f5a02b",
   "outputs": [
    {
     "name": "stdout",
     "output_type": "stream",
     "text": [
      "+--------------------+-------------+-------+-----+--------------+---------------+\n",
      "|             Address|         City|Zipcode|State|Days on Market|Market_Duration|\n",
      "+--------------------+-------------+-------+-----+--------------+---------------+\n",
      "|5926 Oak Ave, San...|    San Diego|  65383|   CA|           101|           long|\n",
      "|9583 Oak Ave, Fre...|       Fresno|  79339|   IL|            46|          short|\n",
      "|8224 Oak Ave, Sac...|   Sacramento|  87393|   TX|            59|          short|\n",
      "|232 Oak Ave, Fres...|       Fresno|  38666|   TX|           119|           long|\n",
      "|5446 Pine Rd, Los...|  Los Angeles|  23989|   CA|            26|          short|\n",
      "|9202 Maple Dr, Sa...|   Sacramento|  71318|   NY|            35|          short|\n",
      "|2698 Elm St, Sacr...|   Sacramento|  57421|   NY|            94|          short|\n",
      "|2118 Main St, San...|    San Diego|  64361|   IL|            75|          short|\n",
      "|9474 Main St, San...|San Francisco|  13227|   FL|            79|          short|\n",
      "|8803 Maple Dr, Sa...|    San Diego|  57397|   NY|           111|           long|\n",
      "|7535 Elm St, San ...|    San Diego|  70072|   FL|            25|          short|\n",
      "|413 Main St, Fres...|       Fresno|  57401|   CA|            79|          short|\n",
      "|9692 Maple Dr, Lo...|  Los Angeles|  91395|   CA|            11|          short|\n",
      "|905 Oak Ave, Sacr...|   Sacramento|  28568|   NY|            97|          short|\n",
      "|8699 Elm St, Fres...|       Fresno|  29191|   CA|            66|          short|\n",
      "|2475 Elm St, Sacr...|   Sacramento|  63853|   TX|            46|          short|\n",
      "|5887 Oak Ave, Sac...|   Sacramento|  57513|   CA|            72|          short|\n",
      "|3934 Elm St, San ...|San Francisco|  17359|   TX|           114|           long|\n",
      "|3087 Maple Dr, Lo...|  Los Angeles|  11690|   NY|            28|          short|\n",
      "|4360 Maple Dr, Lo...|  Los Angeles|  97442|   TX|             1|          short|\n",
      "+--------------------+-------------+-------+-----+--------------+---------------+\n",
      "only showing top 20 rows\n",
      "\n"
     ]
    }
   ],
   "execution_count": 23
  },
  {
   "metadata": {},
   "cell_type": "code",
   "outputs": [],
   "execution_count": null,
   "source": [
    "# UDF\n",
    "from pyspark.sql.functions import udf\n",
    "\n",
    "def reverseString(mystr):\n",
    "    return mystr[::-1]\n",
    "\n",
    "udfReverse = udf(reverseString, StringType())"
   ],
   "id": "5b950f33e604defe"
  },
  {
   "metadata": {
    "ExecuteTime": {
     "end_time": "2025-07-07T09:02:33.226668Z",
     "start_time": "2025-07-07T09:02:27.120218Z"
    }
   },
   "cell_type": "code",
   "source": [
    "#cashing \n",
    "import time\n",
    "\n",
    "start = time.time()\n",
    "df = df.distinct().cache()\n",
    "print(\"counting %d rows took %f s\" % (df.count(), time.time() - start))\n",
    "start = time.time()\n",
    "print(\"Counting %d rows took %f s\" % (df.count(), time.time() - start))\n"
   ],
   "id": "858e14bcb822d705",
   "outputs": [
    {
     "name": "stdout",
     "output_type": "stream",
     "text": [
      "counting 3000 rows took 5.087155 s\n",
      "Counting 3000 rows took 0.999327 s\n"
     ]
    }
   ],
   "execution_count": 25
  },
  {
   "metadata": {
    "ExecuteTime": {
     "end_time": "2025-07-07T09:05:43.847442Z",
     "start_time": "2025-07-07T09:05:43.840461Z"
    }
   },
   "cell_type": "code",
   "source": [
    "print(df.is_cached)\n",
    "df.unpersist()\n",
    "print(df.is_cached)"
   ],
   "id": "2d7607baf5a67b40",
   "outputs": [
    {
     "name": "stdout",
     "output_type": "stream",
     "text": [
      "False\n",
      "False\n"
     ]
    }
   ],
   "execution_count": 30
  },
  {
   "metadata": {},
   "cell_type": "code",
   "outputs": [],
   "execution_count": null,
   "source": "df.explain() #for getting info about execution plan",
   "id": "7dcaad3ded859629"
  },
  {
   "metadata": {},
   "cell_type": "code",
   "outputs": [],
   "execution_count": null,
   "source": [
    "#broadcasting - provides a copy of an object to each worker\n",
    "# +++ increase join operations!!!\n",
    "from pyspark.sql.functions import broadcast"
   ],
   "id": "6eea6a66f3fbd0c2"
  },
  {
   "metadata": {},
   "cell_type": "code",
   "outputs": [],
   "execution_count": null,
   "source": "",
   "id": "825c84433af0c54e"
  }
 ],
 "metadata": {
  "kernelspec": {
   "display_name": "Python 3",
   "language": "python",
   "name": "python3"
  },
  "language_info": {
   "codemirror_mode": {
    "name": "ipython",
    "version": 2
   },
   "file_extension": ".py",
   "mimetype": "text/x-python",
   "name": "python",
   "nbconvert_exporter": "python",
   "pygments_lexer": "ipython2",
   "version": "2.7.6"
  }
 },
 "nbformat": 4,
 "nbformat_minor": 5
}
