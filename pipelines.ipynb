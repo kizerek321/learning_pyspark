{
 "cells": [
  {
   "metadata": {
    "ExecuteTime": {
     "end_time": "2025-07-09T20:16:16.166572Z",
     "start_time": "2025-07-09T20:16:01.409952Z"
    }
   },
   "cell_type": "code",
   "source": [
    "from pyspark.sql import SparkSession\n",
    "from pyspark.sql.types import FloatType\n",
    "\n",
    "spark = SparkSession.builder.appName(\"pipeline\").getOrCreate()"
   ],
   "id": "d1cd3db0a3e93cb1",
   "outputs": [],
   "execution_count": 1
  },
  {
   "metadata": {},
   "cell_type": "code",
   "outputs": [],
   "execution_count": null,
   "source": [
    "# pipeline:\n",
    "# input -> transformation -> output -> validation -> analysis"
   ],
   "id": "ab2cdde7a8f0e595"
  },
  {
   "metadata": {
    "ExecuteTime": {
     "end_time": "2025-07-08T21:45:16.595099Z",
     "start_time": "2025-07-08T21:45:14.671940Z"
    }
   },
   "cell_type": "code",
   "source": [
    "import kagglehub\n",
    "\n",
    "# Download latest version\n",
    "path = kagglehub.dataset_download(\"pratyushpuri/crypto-market-sentiment-and-price-dataset-2025\")\n",
    "\n",
    "print(\"Path to dataset files:\", path)"
   ],
   "id": "fb190e33843b2fde",
   "outputs": [
    {
     "name": "stderr",
     "output_type": "stream",
     "text": [
      "C:\\Users\\kizer\\miniconda3\\envs\\spark354_env\\lib\\site-packages\\tqdm\\auto.py:21: TqdmWarning: IProgress not found. Please update jupyter and ipywidgets. See https://ipywidgets.readthedocs.io/en/stable/user_install.html\n",
      "  from .autonotebook import tqdm as notebook_tqdm\n"
     ]
    },
    {
     "name": "stdout",
     "output_type": "stream",
     "text": [
      "Warning: Looks like you're using an outdated `kagglehub` version, please consider updating (latest version: 0.3.12)\n",
      "Downloading from https://www.kaggle.com/api/v1/datasets/download/pratyushpuri/crypto-market-sentiment-and-price-dataset-2025?dataset_version_number=1...\n"
     ]
    },
    {
     "name": "stderr",
     "output_type": "stream",
     "text": [
      "100%|██████████| 91.0k/91.0k [00:00<00:00, 534kB/s]"
     ]
    },
    {
     "name": "stdout",
     "output_type": "stream",
     "text": [
      "Extracting model files...\n"
     ]
    },
    {
     "name": "stderr",
     "output_type": "stream",
     "text": [
      "\n"
     ]
    },
    {
     "name": "stdout",
     "output_type": "stream",
     "text": [
      "Path to dataset files: C:\\Users\\kizer\\.cache\\kagglehub\\datasets\\pratyushpuri\\crypto-market-sentiment-and-price-dataset-2025\\versions\\1\n"
     ]
    }
   ],
   "execution_count": 2
  },
  {
   "metadata": {
    "ExecuteTime": {
     "end_time": "2025-07-09T21:15:49.766009Z",
     "start_time": "2025-07-09T21:15:49.750029Z"
    }
   },
   "cell_type": "code",
   "source": [
    "from pyspark.sql.types import StructType, StructField, StringType, IntegerType, DoubleType\n",
    "schema = StructType([\n",
    "    StructField(\"timestamp\", StringType(), True),\n",
    "    StructField(\"cryptocurrency\", StringType(), True),\n",
    "    StructField(\"current_price_usd\", FloatType(), True),\n",
    "    StructField(\"price_change_24h_percent\", FloatType(), True),\n",
    "    StructField(\"trading_volume_24h\", FloatType(), True),\n",
    "    StructField(\"market_cap_usd\", FloatType(), True),\n",
    "    StructField(\"social_sentiment_score\", FloatType(), True),\n",
    "    StructField(\"news_sentiment_score\", FloatType(), True),\n",
    "    StructField(\"news_impact_score\", FloatType(), True),\n",
    "    StructField(\"social_mentions_count\", FloatType(), True),\n",
    "    StructField(\"fear_greed_index\", FloatType(), True),\n",
    "    StructField(\"volatility_index\", FloatType(), True),\n",
    "    StructField(\"rsi_technical_indicator\", FloatType(), True),\n",
    "    StructField(\"prediction_confidence\", FloatType(), True),\n",
    "])"
   ],
   "id": "e88f3a31bf1bf2a6",
   "outputs": [],
   "execution_count": 13
  },
  {
   "metadata": {
    "ExecuteTime": {
     "end_time": "2025-07-09T21:16:15.930454Z",
     "start_time": "2025-07-09T21:16:15.786837Z"
    }
   },
   "cell_type": "code",
   "source": [
    "full_path = \"C:\\\\Users\\\\kizer\\\\.cache\\\\kagglehub\\\\datasets\\\\pratyushpuri\\\\crypto-market-sentiment-and-price-dataset-2025\\\\versions\\\\1\\\\crypto_sentiment_prediction_dataset.csv\"\n",
    "# during csv loading we can automatically removes blank lines and remove comments using optional argument 'comment'\n",
    "# argument 'sep' to point type of separator in file\n",
    "df = spark.read.csv(full_path, header=True, schema=schema)\n",
    "df.show()"
   ],
   "id": "3cebd4300c46c69e",
   "outputs": [
    {
     "name": "stdout",
     "output_type": "stream",
     "text": [
      "+-------------------+--------------+-----------------+------------------------+------------------+--------------+----------------------+--------------------+-----------------+---------------------+----------------+----------------+-----------------------+---------------------+\n",
      "|          timestamp|cryptocurrency|current_price_usd|price_change_24h_percent|trading_volume_24h|market_cap_usd|social_sentiment_score|news_sentiment_score|news_impact_score|social_mentions_count|fear_greed_index|volatility_index|rsi_technical_indicator|prediction_confidence|\n",
      "+-------------------+--------------+-----------------+------------------------+------------------+--------------+----------------------+--------------------+-----------------+---------------------+----------------+----------------+-----------------------+---------------------+\n",
      "|2025-06-04 20:36:49|      Algorand|           0.3427|                   -5.35|         1716266.1|  1.76212403E9|                 0.367|               0.374|             1.87|                 13.0|            53.2|            95.1|                   37.2|                 78.1|\n",
      "|2025-06-04 20:48:25|        Cosmos|           12.042|                    5.14|        1.052074E7| 2.09917821E11|                -0.278|              -0.107|             1.01|                600.0|            43.5|            76.7|                   65.0|                 66.7|\n",
      "|2025-06-04 21:28:54|        Cosmos|          11.7675|                   -6.12|          642191.1| 1.75536734E11|                -0.255|               0.211|             5.69|                279.0|            49.1|            60.4|                   32.3|                 77.4|\n",
      "|2025-06-04 21:57:48|      Ethereum|         2861.283|                  -11.54|         5356228.0|  4.7864189E13|                -0.531|              -0.081|             5.11|               3504.0|            37.0|           100.0|                   63.0|                 81.7|\n",
      "|2025-06-04 22:06:40|        Solana|          95.3583|                    5.79|         735971.56| 2.66761077E11|                 0.369|               0.248|             1.82|               3236.0|            61.7|            67.5|                   55.4|                 81.8|\n",
      "|2025-06-04 22:39:07|      Polkadot|           7.2521|                   -4.11|         2631031.5|  6.2527164E10|                 0.057|               0.147|             3.39|                387.0|            56.2|            98.8|                   35.3|                 81.7|\n",
      "|2025-06-04 23:07:46|      Polkadot|           7.6604|                   -2.89|          958183.8| 1.35764886E11|                -0.046|              -0.244|             6.14|               1326.0|            57.7|            39.0|                   56.1|                 75.7|\n",
      "|2025-06-04 23:15:29|        Solana|          77.7702|                  -11.79|         5560304.0| 1.58215818E12|                 0.079|               0.064|             0.87|                328.0|            55.5|            99.0|                   53.2|                 71.3|\n",
      "|2025-06-04 23:26:40|       Bitcoin|         47418.41|                    1.05|         1800434.4| 3.43755257E14|                -0.728|              -0.274|             2.73|                707.0|            35.3|            36.0|                   58.3|                 88.7|\n",
      "|2025-06-04 23:55:18|     Avalanche|          35.9923|                   -3.41|          910727.3|  8.9426657E10|                 0.724|               0.455|             4.02|                679.0|            66.3|            52.1|                   53.0|                 93.4|\n",
      "|2025-06-05 00:16:18|      Polkadot|           8.4389|                    4.84|          758022.8|  5.0053542E10|                -0.902|              -0.399|             3.39|                 34.0|            24.0|            49.1|                   40.6|                 88.5|\n",
      "|2025-06-05 02:15:32|      Polkadot|            8.052|                   13.47|         3962185.2| 2.23387791E10|                 0.186|              -0.092|             2.97|                381.0|            52.4|           100.0|                   91.7|                 64.3|\n",
      "|2025-06-05 02:36:03|        Solana|          88.8046|                   -0.87|         6509035.5|  9.3745512E11|                 0.239|              -0.049|             3.85|                657.0|            53.4|            56.9|                   56.7|                 71.1|\n",
      "|2025-06-05 03:00:36|      Polkadot|           7.9003|                    8.56|         1047156.0| 1.05664143E11|                -0.124|              -0.066|             2.55|               1126.0|            60.6|            95.3|                   54.3|                 68.7|\n",
      "|2025-06-05 03:15:16|       Polygon|           1.2203|                   -8.59|         6183199.5| 1.60333937E10|                -0.293|              -0.122|             1.98|                230.0|            53.0|           100.0|                   66.1|                 76.9|\n",
      "|2025-06-05 03:42:44|       Bitcoin|         43402.21|                   12.42|          585916.8|   7.830118E14|                -0.366|              -0.387|             6.59|               2305.0|            34.6|           100.0|                   69.6|                 81.4|\n",
      "|2025-06-05 04:31:07|        Solana|           90.075|                  -13.76|         1371803.8|   1.253411E12|                -0.139|               0.032|             2.01|               3603.0|            46.7|           100.0|                   37.9|                 75.0|\n",
      "|2025-06-05 05:05:48|       Polygon|           1.1691|                    7.09|         472861.34| 2.40827433E10|                 0.162|              -0.266|             4.65|                120.0|            57.8|            75.2|                   62.5|                 75.5|\n",
      "|2025-06-05 05:08:48|     Avalanche|          32.4499|                  -12.85|         3187039.5|  6.7698406E11|                  0.01|               0.286|             4.52|               1077.0|            51.3|           100.0|                   65.4|                 69.6|\n",
      "|2025-06-05 05:15:19|       Polygon|           1.2293|                   -7.07|         4614532.5| 1.25218376E10|                 0.486|               0.128|             4.38|                 99.0|            38.7|           100.0|                   77.8|                 80.3|\n",
      "+-------------------+--------------+-----------------+------------------------+------------------+--------------+----------------------+--------------------+-----------------+---------------------+----------------+----------------+-----------------------+---------------------+\n",
      "only showing top 20 rows\n",
      "\n"
     ]
    }
   ],
   "execution_count": 14
  },
  {
   "metadata": {
    "ExecuteTime": {
     "end_time": "2025-07-09T21:16:19.058596Z",
     "start_time": "2025-07-09T21:16:19.044612Z"
    }
   },
   "cell_type": "code",
   "source": "df.printSchema()",
   "id": "24c8af41d72e4e4d",
   "outputs": [
    {
     "name": "stdout",
     "output_type": "stream",
     "text": [
      "root\n",
      " |-- timestamp: string (nullable = true)\n",
      " |-- cryptocurrency: string (nullable = true)\n",
      " |-- current_price_usd: float (nullable = true)\n",
      " |-- price_change_24h_percent: float (nullable = true)\n",
      " |-- trading_volume_24h: float (nullable = true)\n",
      " |-- market_cap_usd: float (nullable = true)\n",
      " |-- social_sentiment_score: float (nullable = true)\n",
      " |-- news_sentiment_score: float (nullable = true)\n",
      " |-- news_impact_score: float (nullable = true)\n",
      " |-- social_mentions_count: float (nullable = true)\n",
      " |-- fear_greed_index: float (nullable = true)\n",
      " |-- volatility_index: float (nullable = true)\n",
      " |-- rsi_technical_indicator: float (nullable = true)\n",
      " |-- prediction_confidence: float (nullable = true)\n",
      "\n"
     ]
    }
   ],
   "execution_count": 15
  },
  {
   "metadata": {
    "ExecuteTime": {
     "end_time": "2025-07-09T20:16:57.928129Z",
     "start_time": "2025-07-09T20:16:56.820876Z"
    }
   },
   "cell_type": "code",
   "source": [
    "social_sentiment_negative_count = df.filter(df['social_sentiment_score'] < 0).count()\n",
    "print(social_sentiment_negative_count)\n",
    "print(social_sentiment_negative_count / df.count() * 100)"
   ],
   "id": "5a12b0385c0945ec",
   "outputs": [
    {
     "name": "stdout",
     "output_type": "stream",
     "text": [
      "1003\n",
      "48.61851672321861\n"
     ]
    }
   ],
   "execution_count": 4
  },
  {
   "metadata": {},
   "cell_type": "code",
   "outputs": [],
   "execution_count": null,
   "source": [
    "# validation via joins:\n",
    "# taking two files, we do right join on file which is valid so only company that match valid company (for example) will be taken\n",
    "#complex rule validation:\n",
    "# calculations, against external source, udfs\n",
    "import pyspark.sql.functions as F\n",
    "valid_df = df.withColumnRenamed()\n",
    "joined_df = df.join()\n",
    "F.broadcast(joined_df)\n",
    "#need two data frame one on which validation?join could be perform"
   ],
   "id": "32288309a70cc18a"
  },
  {
   "metadata": {
    "ExecuteTime": {
     "end_time": "2025-07-09T21:07:23.930926Z",
     "start_time": "2025-07-09T21:07:23.658518Z"
    }
   },
   "cell_type": "code",
   "source": [
    "def avg_price_cahnge(crypto_list):\n",
    "    total_change = 0\n",
    "    count = 0\n",
    "    for crypto in crypto_list:\n",
    "        total_change += crypto\n",
    "        count += 1\n",
    "    return total_change / count\n",
    "from pyspark.sql.types import FloatType\n",
    "from pyspark.sql.functions import udf\n",
    "\n",
    "udfGetAvgChange = udf(avg_price_cahnge, FloatType())\n",
    "avg_change_all_crypto = udfGetAvgChange(df['price_change_24h_percent'])\n",
    "avg_change_all_crypto.collect()"
   ],
   "id": "62abde446ab9bec9",
   "outputs": [
    {
     "name": "stdout",
     "output_type": "stream",
     "text": [
      "+-----------------------------+\n",
      "|avg(price_change_24h_percent)|\n",
      "+-----------------------------+\n",
      "|         -0.01804168686379...|\n",
      "+-----------------------------+\n",
      "\n"
     ]
    }
   ],
   "execution_count": 11
  },
  {
   "metadata": {
    "ExecuteTime": {
     "end_time": "2025-07-09T21:08:18.210939Z",
     "start_time": "2025-07-09T21:08:18.045381Z"
    }
   },
   "cell_type": "code",
   "source": [
    "from pyspark.sql.functions import avg\n",
    "avg_price_change_percentage = df.select(avg(\"price_change_24h_percent\"))\n",
    "avg_price_change_percentage.show()"
   ],
   "id": "c3c0949b3e30ee7a",
   "outputs": [
    {
     "name": "stdout",
     "output_type": "stream",
     "text": [
      "+-----------------------------+\n",
      "|avg(price_change_24h_percent)|\n",
      "+-----------------------------+\n",
      "|         -0.01804168686379...|\n",
      "+-----------------------------+\n",
      "\n"
     ]
    }
   ],
   "execution_count": 12
  },
  {
   "metadata": {},
   "cell_type": "code",
   "outputs": [],
   "execution_count": null,
   "source": [
    "#data camp example of udf usage in analysis\n",
    "# Create a function to return the number and type of dogs as a tuple\n",
    "#def dogParse(doglist):\n",
    "#  dogs = []\n",
    "#  for dog in doglist:\n",
    "#    (breed, start_x, start_y, end_x, end_y) = dog.split(',')\n",
    "#    dogs.append((StringType(breed), int(start_x), int(start_y), int(end_x), int(end_y)))\n",
    "#  return dogs\n",
    "# Create a UDF\n",
    "#udfDogParse = F.udf(dogParse, ArrayType(DogType))\n",
    "\n",
    "# Use the UDF to list of dogs\n",
    "#joined_df = joined_df.withColumn('dogs', udfDogParse(joined_df['dog_list']))\n",
    "\n",
    "# Show the number of dogs in the first 10 rows\n",
    "#joined_df.select('dogs').show(10)"
   ],
   "id": "3a2b5381b7965966"
  }
 ],
 "metadata": {
  "kernelspec": {
   "display_name": "Python 3",
   "language": "python",
   "name": "python3"
  },
  "language_info": {
   "codemirror_mode": {
    "name": "ipython",
    "version": 2
   },
   "file_extension": ".py",
   "mimetype": "text/x-python",
   "name": "python",
   "nbconvert_exporter": "python",
   "pygments_lexer": "ipython2",
   "version": "2.7.6"
  }
 },
 "nbformat": 4,
 "nbformat_minor": 5
}
