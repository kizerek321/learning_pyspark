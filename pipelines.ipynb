{
 "cells": [
  {
   "metadata": {
    "ExecuteTime": {
     "end_time": "2025-07-09T20:16:16.166572Z",
     "start_time": "2025-07-09T20:16:01.409952Z"
    }
   },
   "cell_type": "code",
   "source": [
    "from pyspark.sql import SparkSession\n",
    "\n",
    "spark = SparkSession.builder.appName(\"pipeline\").getOrCreate()"
   ],
   "id": "d1cd3db0a3e93cb1",
   "outputs": [],
   "execution_count": 1
  },
  {
   "metadata": {},
   "cell_type": "code",
   "outputs": [],
   "execution_count": null,
   "source": [
    "# pipeline:\n",
    "# input -> transformation -> output -> validation -> analysis"
   ],
   "id": "ab2cdde7a8f0e595"
  },
  {
   "metadata": {
    "ExecuteTime": {
     "end_time": "2025-07-08T21:45:16.595099Z",
     "start_time": "2025-07-08T21:45:14.671940Z"
    }
   },
   "cell_type": "code",
   "source": [
    "import kagglehub\n",
    "\n",
    "# Download latest version\n",
    "path = kagglehub.dataset_download(\"pratyushpuri/crypto-market-sentiment-and-price-dataset-2025\")\n",
    "\n",
    "print(\"Path to dataset files:\", path)"
   ],
   "id": "fb190e33843b2fde",
   "outputs": [
    {
     "name": "stderr",
     "output_type": "stream",
     "text": [
      "C:\\Users\\kizer\\miniconda3\\envs\\spark354_env\\lib\\site-packages\\tqdm\\auto.py:21: TqdmWarning: IProgress not found. Please update jupyter and ipywidgets. See https://ipywidgets.readthedocs.io/en/stable/user_install.html\n",
      "  from .autonotebook import tqdm as notebook_tqdm\n"
     ]
    },
    {
     "name": "stdout",
     "output_type": "stream",
     "text": [
      "Warning: Looks like you're using an outdated `kagglehub` version, please consider updating (latest version: 0.3.12)\n",
      "Downloading from https://www.kaggle.com/api/v1/datasets/download/pratyushpuri/crypto-market-sentiment-and-price-dataset-2025?dataset_version_number=1...\n"
     ]
    },
    {
     "name": "stderr",
     "output_type": "stream",
     "text": [
      "100%|██████████| 91.0k/91.0k [00:00<00:00, 534kB/s]"
     ]
    },
    {
     "name": "stdout",
     "output_type": "stream",
     "text": [
      "Extracting model files...\n"
     ]
    },
    {
     "name": "stderr",
     "output_type": "stream",
     "text": [
      "\n"
     ]
    },
    {
     "name": "stdout",
     "output_type": "stream",
     "text": [
      "Path to dataset files: C:\\Users\\kizer\\.cache\\kagglehub\\datasets\\pratyushpuri\\crypto-market-sentiment-and-price-dataset-2025\\versions\\1\n"
     ]
    }
   ],
   "execution_count": 2
  },
  {
   "metadata": {
    "ExecuteTime": {
     "end_time": "2025-07-09T20:16:56.523443Z",
     "start_time": "2025-07-09T20:16:49.968765Z"
    }
   },
   "cell_type": "code",
   "source": [
    "full_path = \"C:\\\\Users\\\\kizer\\\\.cache\\\\kagglehub\\\\datasets\\\\pratyushpuri\\\\crypto-market-sentiment-and-price-dataset-2025\\\\versions\\\\1\\\\crypto_sentiment_prediction_dataset.csv\"\n",
    "# during csv loading we can automatically removes blank lines and remove comments using optional argument 'comment'\n",
    "# argument 'sep' to point type of separator in file\n",
    "df = spark.read.csv(full_path, header=True, inferSchema=True)\n",
    "df.show()"
   ],
   "id": "3cebd4300c46c69e",
   "outputs": [
    {
     "name": "stdout",
     "output_type": "stream",
     "text": [
      "+-------------------+--------------+-----------------+------------------------+------------------+--------------------+----------------------+--------------------+-----------------+---------------------+----------------+----------------+-----------------------+---------------------+\n",
      "|          timestamp|cryptocurrency|current_price_usd|price_change_24h_percent|trading_volume_24h|      market_cap_usd|social_sentiment_score|news_sentiment_score|news_impact_score|social_mentions_count|fear_greed_index|volatility_index|rsi_technical_indicator|prediction_confidence|\n",
      "+-------------------+--------------+-----------------+------------------------+------------------+--------------------+----------------------+--------------------+-----------------+---------------------+----------------+----------------+-----------------------+---------------------+\n",
      "|2025-06-04 20:36:49|      Algorand|           0.3427|                   -5.35|         1716266.1|     1.76212399671E9|                 0.367|               0.374|             1.87|                   13|            53.2|            95.1|                   37.2|                 78.1|\n",
      "|2025-06-04 20:48:25|        Cosmos|           12.042|                    5.14|     1.052073991E7|  2.0991782280846E11|                -0.278|              -0.107|             1.01|                  600|            43.5|            76.7|                   65.0|                 66.7|\n",
      "|2025-06-04 21:28:54|        Cosmos|          11.7675|                   -6.12|         642191.11|  1.7553673483181E11|                -0.255|               0.211|             5.69|                  279|            49.1|            60.4|                   32.3|                 77.4|\n",
      "|2025-06-04 21:57:48|      Ethereum|        2861.2829|                  -11.54|        5356227.76|4.786418881950175E13|                -0.531|              -0.081|             5.11|                 3504|            37.0|           100.0|                   63.0|                 81.7|\n",
      "|2025-06-04 22:06:40|        Solana|          95.3583|                    5.79|         735971.56|   2.667610823653E11|                 0.369|               0.248|             1.82|                 3236|            61.7|            67.5|                   55.4|                 81.8|\n",
      "|2025-06-04 22:39:07|      Polkadot|           7.2521|                   -4.11|        2631031.62|   6.252716630074E10|                 0.057|               0.147|             3.39|                  387|            56.2|            98.8|                   35.3|                 81.7|\n",
      "|2025-06-04 23:07:46|      Polkadot|           7.6604|                   -2.89|          958183.8|  1.3576488842872E11|                -0.046|              -0.244|             6.14|                 1326|            57.7|            39.0|                   56.1|                 75.7|\n",
      "|2025-06-04 23:15:29|        Solana|          77.7702|                  -11.79|        5560303.82| 1.58215822748487E12|                 0.079|               0.064|             0.87|                  328|            55.5|            99.0|                   53.2|                 71.3|\n",
      "|2025-06-04 23:26:40|       Bitcoin|       47418.4096|                    1.05|        1800434.38|3.437552575160491E14|                -0.728|              -0.274|             2.73|                  707|            35.3|            36.0|                   58.3|                 88.7|\n",
      "|2025-06-04 23:55:18|     Avalanche|          35.9923|                   -3.41|          910727.3|   8.942665427749E10|                 0.724|               0.455|             4.02|                  679|            66.3|            52.1|                   53.0|                 93.4|\n",
      "|2025-06-05 00:16:18|      Polkadot|           8.4389|                    4.84|         758022.79|   5.005354105401E10|                -0.902|              -0.399|             3.39|                   34|            24.0|            49.1|                   40.6|                 88.5|\n",
      "|2025-06-05 02:15:32|      Polkadot|            8.052|                   13.47|        3962185.24|   2.233877997743E10|                 0.186|              -0.092|             2.97|                  381|            52.4|           100.0|                   91.7|                 64.3|\n",
      "|2025-06-05 02:36:03|        Solana|          88.8046|                   -0.87|         6509035.3|  9.3745513998625E11|                 0.239|              -0.049|             3.85|                  657|            53.4|            56.9|                   56.7|                 71.1|\n",
      "|2025-06-05 03:00:36|      Polkadot|           7.9003|                    8.56|        1047155.98|  1.0566414288145E11|                -0.124|              -0.066|             2.55|                 1126|            60.6|            95.3|                   54.3|                 68.7|\n",
      "|2025-06-05 03:15:16|       Polygon|           1.2203|                   -8.59|        6183199.57|   1.603339399674E10|                -0.293|              -0.122|             1.98|                  230|            53.0|           100.0|                   66.1|                 76.9|\n",
      "|2025-06-05 03:42:44|       Bitcoin|       43402.2121|                   12.42|         585916.83|7.830117787027719E14|                -0.366|              -0.387|             6.59|                 2305|            34.6|           100.0|                   69.6|                 81.4|\n",
      "|2025-06-05 04:31:07|        Solana|           90.075|                  -13.76|        1371803.79| 1.25341096453528E12|                -0.139|               0.032|             2.01|                 3603|            46.7|           100.0|                   37.9|                 75.0|\n",
      "|2025-06-05 05:05:48|       Polygon|           1.1691|                    7.09|         472861.34|   2.408274271451E10|                 0.162|              -0.266|             4.65|                  120|            57.8|            75.2|                   62.5|                 75.5|\n",
      "|2025-06-05 05:08:48|     Avalanche|          32.4499|                  -12.85|        3187039.47|  6.7698408700551E11|                  0.01|               0.286|             4.52|                 1077|            51.3|           100.0|                   65.4|                 69.6|\n",
      "|2025-06-05 05:15:19|       Polygon|           1.2293|                   -7.07|        4614532.36|   1.252183799149E10|                 0.486|               0.128|             4.38|                   99|            38.7|           100.0|                   77.8|                 80.3|\n",
      "+-------------------+--------------+-----------------+------------------------+------------------+--------------------+----------------------+--------------------+-----------------+---------------------+----------------+----------------+-----------------------+---------------------+\n",
      "only showing top 20 rows\n",
      "\n"
     ]
    }
   ],
   "execution_count": 2
  },
  {
   "metadata": {
    "ExecuteTime": {
     "end_time": "2025-07-09T20:16:56.612714Z",
     "start_time": "2025-07-09T20:16:56.577808Z"
    }
   },
   "cell_type": "code",
   "source": "df.printSchema()",
   "id": "24c8af41d72e4e4d",
   "outputs": [
    {
     "name": "stdout",
     "output_type": "stream",
     "text": [
      "root\n",
      " |-- timestamp: timestamp (nullable = true)\n",
      " |-- cryptocurrency: string (nullable = true)\n",
      " |-- current_price_usd: double (nullable = true)\n",
      " |-- price_change_24h_percent: double (nullable = true)\n",
      " |-- trading_volume_24h: double (nullable = true)\n",
      " |-- market_cap_usd: double (nullable = true)\n",
      " |-- social_sentiment_score: double (nullable = true)\n",
      " |-- news_sentiment_score: double (nullable = true)\n",
      " |-- news_impact_score: double (nullable = true)\n",
      " |-- social_mentions_count: integer (nullable = true)\n",
      " |-- fear_greed_index: double (nullable = true)\n",
      " |-- volatility_index: double (nullable = true)\n",
      " |-- rsi_technical_indicator: double (nullable = true)\n",
      " |-- prediction_confidence: double (nullable = true)\n",
      "\n"
     ]
    }
   ],
   "execution_count": 3
  },
  {
   "metadata": {
    "ExecuteTime": {
     "end_time": "2025-07-09T20:16:57.928129Z",
     "start_time": "2025-07-09T20:16:56.820876Z"
    }
   },
   "cell_type": "code",
   "source": [
    "social_sentiment_negative_count = df.filter(df['social_sentiment_score'] < 0).count()\n",
    "print(social_sentiment_negative_count)\n",
    "print(social_sentiment_negative_count / df.count() * 100)"
   ],
   "id": "5a12b0385c0945ec",
   "outputs": [
    {
     "name": "stdout",
     "output_type": "stream",
     "text": [
      "1003\n",
      "48.61851672321861\n"
     ]
    }
   ],
   "execution_count": 4
  },
  {
   "metadata": {},
   "cell_type": "code",
   "outputs": [],
   "execution_count": null,
   "source": [
    "# validation via joins:\n",
    "# taking two files, we do right join on file which is valid so only company that match valid company (for example) will be taken\n",
    "#complex rule validation:\n",
    "# calculations, against external source, udfs\n",
    "import pyspark.sql.functions as F\n",
    "valid_df = df.withColumnRenamed()\n",
    "joined_df = df.join()\n",
    "F.broadcast(joined_df)\n",
    "#need two data frame one on which validation?join could be perform"
   ],
   "id": "32288309a70cc18a"
  }
 ],
 "metadata": {
  "kernelspec": {
   "display_name": "Python 3",
   "language": "python",
   "name": "python3"
  },
  "language_info": {
   "codemirror_mode": {
    "name": "ipython",
    "version": 2
   },
   "file_extension": ".py",
   "mimetype": "text/x-python",
   "name": "python",
   "nbconvert_exporter": "python",
   "pygments_lexer": "ipython2",
   "version": "2.7.6"
  }
 },
 "nbformat": 4,
 "nbformat_minor": 5
}
