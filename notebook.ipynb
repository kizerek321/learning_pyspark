{
 "cells": [
  {
   "cell_type": "code",
   "id": "initial_id",
   "metadata": {
    "collapsed": true,
    "ExecuteTime": {
     "end_time": "2025-07-03T17:06:36.156350Z",
     "start_time": "2025-07-03T17:06:31.692539Z"
    }
   },
   "source": [
    "from pyspark.sql import SparkSession\n",
    "import os\n",
    "import sys\n",
    "\n",
    "# Point Spark to the Python executable of the current environment\n",
    "# This ensures that the worker processes use the same Python and packages\n",
    "os.environ['PYSPARK_PYTHON'] = sys.executable\n",
    "os.environ['PYSPARK_DRIVER_PYTHON'] = sys.executable\n",
    "\n",
    "spark = SparkSession.builder.appName(\"learning_pyspark\").getOrCreate()"
   ],
   "outputs": [],
   "execution_count": 1
  },
  {
   "metadata": {
    "ExecuteTime": {
     "end_time": "2025-07-03T17:06:37.048554Z",
     "start_time": "2025-07-03T17:06:36.182855Z"
    }
   },
   "cell_type": "code",
   "source": [
    "import kagglehub\n",
    "\n",
    "# Download latest version\n",
    "path = kagglehub.dataset_download(\"khwaishsaxena/lung-cancer-dataset\")\n",
    "\n",
    "print(\"Path to dataset files:\", path)"
   ],
   "id": "cbe3e61147c151c3",
   "outputs": [
    {
     "name": "stderr",
     "output_type": "stream",
     "text": [
      "C:\\Users\\kizer\\miniconda3\\envs\\spark354_env\\lib\\site-packages\\tqdm\\auto.py:21: TqdmWarning: IProgress not found. Please update jupyter and ipywidgets. See https://ipywidgets.readthedocs.io/en/stable/user_install.html\n",
      "  from .autonotebook import tqdm as notebook_tqdm\n"
     ]
    },
    {
     "name": "stdout",
     "output_type": "stream",
     "text": [
      "Warning: Looks like you're using an outdated `kagglehub` version, please consider updating (latest version: 0.3.12)\n",
      "Path to dataset files: C:\\Users\\kizer\\.cache\\kagglehub\\datasets\\khwaishsaxena\\lung-cancer-dataset\\versions\\1\n"
     ]
    }
   ],
   "execution_count": 2
  },
  {
   "metadata": {
    "ExecuteTime": {
     "end_time": "2025-07-03T17:06:46.354445Z",
     "start_time": "2025-07-03T17:06:37.832540Z"
    }
   },
   "cell_type": "code",
   "source": [
    "file = path + \"\\\\Lung Cancer.csv\"\n",
    "df = spark.read.csv(file, header=True, inferSchema=True)\n",
    "df.show()"
   ],
   "id": "e8ab02b52502ade6",
   "outputs": [
    {
     "name": "stdout",
     "output_type": "stream",
     "text": [
      "+---+----+------+-----------+--------------+------------+--------------+--------------+----+-----------------+------------+------+---------+------------+--------------+------------------+--------+\n",
      "| id| age|gender|    country|diagnosis_date|cancer_stage|family_history|smoking_status| bmi|cholesterol_level|hypertension|asthma|cirrhosis|other_cancer|treatment_type|end_treatment_date|survived|\n",
      "+---+----+------+-----------+--------------+------------+--------------+--------------+----+-----------------+------------+------+---------+------------+--------------+------------------+--------+\n",
      "|  1|64.0|  Male|     Sweden|    2016-04-05|     Stage I|           Yes|Passive Smoker|29.4|              199|           0|     0|        1|           0|  Chemotherapy|        2017-09-10|       0|\n",
      "|  2|50.0|Female|Netherlands|    2023-04-20|   Stage III|           Yes|Passive Smoker|41.2|              280|           1|     1|        0|           0|       Surgery|        2024-06-17|       1|\n",
      "|  3|65.0|Female|    Hungary|    2023-04-05|   Stage III|           Yes| Former Smoker|44.0|              268|           1|     1|        0|           0|      Combined|        2024-04-09|       0|\n",
      "|  4|51.0|Female|    Belgium|    2016-02-05|     Stage I|            No|Passive Smoker|43.0|              241|           1|     1|        0|           0|  Chemotherapy|        2017-04-23|       0|\n",
      "|  5|37.0|  Male| Luxembourg|    2023-11-29|     Stage I|            No|Passive Smoker|19.7|              178|           0|     0|        0|           0|      Combined|        2025-01-08|       0|\n",
      "|  6|50.0|  Male|      Italy|    2023-01-02|     Stage I|            No|  Never Smoked|37.6|              274|           1|     0|        0|           0|     Radiation|        2024-12-27|       0|\n",
      "|  7|49.0|Female|    Croatia|    2018-05-21|   Stage III|           Yes|Passive Smoker|43.1|              259|           0|     0|        0|           0|     Radiation|        2019-05-06|       1|\n",
      "|  8|51.0|  Male|    Denmark|    2017-02-18|    Stage IV|           Yes| Former Smoker|25.8|              195|           1|     1|        0|           0|      Combined|        2017-08-26|       0|\n",
      "|  9|64.0|  Male|     Sweden|    2021-03-21|   Stage III|           Yes|Current Smoker|21.5|              236|           0|     0|        0|           0|  Chemotherapy|        2022-03-07|       0|\n",
      "| 10|56.0|  Male|    Hungary|    2021-11-30|    Stage IV|           Yes|Current Smoker|17.3|              183|           1|     0|        0|           1|       Surgery|        2023-11-29|       0|\n",
      "| 11|48.0|Female| Luxembourg|    2023-12-24|    Stage IV|            No|  Never Smoked|30.7|              262|           1|     1|        0|           0|       Surgery|        2024-10-28|       1|\n",
      "| 12|47.0|  Male|      Malta|    2019-11-18|    Stage II|           Yes| Former Smoker|33.9|              287|           0|     0|        0|           0|      Combined|        2021-02-18|       0|\n",
      "| 13|67.0|Female|    Germany|    2024-05-26|    Stage II|           Yes|Current Smoker|25.6|              163|           0|     1|        0|           0|  Chemotherapy|        2025-09-08|       0|\n",
      "| 14|56.0|Female|    Denmark|    2022-08-07|    Stage IV|            No|  Never Smoked|26.3|              174|           1|     1|        1|           0|      Combined|        2023-05-30|       0|\n",
      "| 15|67.0|Female|     Poland|    2023-04-12|    Stage II|           Yes| Former Smoker|42.7|              259|           1|     1|        0|           0|     Radiation|        2024-02-18|       0|\n",
      "| 16|49.0|  Male|    Ireland|    2021-08-18|    Stage IV|           Yes|Passive Smoker|19.6|              158|           1|     1|        1|           0|       Surgery|        2022-12-08|       0|\n",
      "| 17|48.0|  Male|Netherlands|    2020-02-27|   Stage III|           Yes| Former Smoker|21.7|              195|           1|     0|        0|           0|     Radiation|        2021-09-22|       0|\n",
      "| 18|45.0|  Male|    Romania|    2017-08-07|    Stage II|            No| Former Smoker|23.1|              213|           0|     0|        0|           0|      Combined|        2019-08-03|       0|\n",
      "| 19|47.0|Female|    Hungary|    2015-08-13|    Stage IV|            No|Current Smoker|43.4|              251|           0|     1|        0|           1|       Surgery|        2016-05-14|       0|\n",
      "| 20|56.0|Female|    Belgium|    2014-06-29|   Stage III|           Yes|Current Smoker|36.8|              270|           1|     1|        0|           0|  Chemotherapy|        2015-07-11|       0|\n",
      "+---+----+------+-----------+--------------+------------+--------------+--------------+----+-----------------+------------+------+---------+------------+--------------+------------------+--------+\n",
      "only showing top 20 rows\n",
      "\n"
     ]
    }
   ],
   "execution_count": 3
  },
  {
   "metadata": {
    "ExecuteTime": {
     "end_time": "2025-07-03T17:06:51.828802Z",
     "start_time": "2025-07-03T17:06:46.417787Z"
    }
   },
   "cell_type": "code",
   "source": [
    "sc = spark.sparkContext\n",
    "\n",
    "RDD = sc.parallelize([1,2,3,4])\n",
    "RDD_map = RDD.map(lambda x: x**2)\n",
    "print(RDD.collect())\n",
    "print(RDD_map.collect())"
   ],
   "id": "45652228d092c3e4",
   "outputs": [
    {
     "name": "stdout",
     "output_type": "stream",
     "text": [
      "[1, 2, 3, 4]\n",
      "[1, 4, 9, 16]\n"
     ]
    }
   ],
   "execution_count": 4
  },
  {
   "metadata": {
    "ExecuteTime": {
     "end_time": "2025-07-03T17:06:56.685251Z",
     "start_time": "2025-07-03T17:06:51.860720Z"
    }
   },
   "cell_type": "code",
   "source": [
    "RDD_filter = RDD.filter(lambda x: x>2)\n",
    "print(RDD_filter.collect())"
   ],
   "id": "79ec048fcb5291c8",
   "outputs": [
    {
     "name": "stdout",
     "output_type": "stream",
     "text": [
      "[3, 4]\n"
     ]
    }
   ],
   "execution_count": 5
  },
  {
   "metadata": {
    "ExecuteTime": {
     "end_time": "2025-07-03T17:07:01.910710Z",
     "start_time": "2025-07-03T17:06:56.719160Z"
    }
   },
   "cell_type": "code",
   "source": [
    "RDD_v2 = sc.parallelize([\"hello world\", \"what's up?\"])\n",
    "RDD_flatmap = RDD_v2.flatMap(lambda x: x.split(\" \"))\n",
    "print(RDD_flatmap.collect())"
   ],
   "id": "78f5c99c5edbb5fe",
   "outputs": [
    {
     "name": "stdout",
     "output_type": "stream",
     "text": [
      "['hello', 'world', \"what's\", 'up?']\n"
     ]
    }
   ],
   "execution_count": 6
  },
  {
   "metadata": {
    "ExecuteTime": {
     "end_time": "2025-07-03T17:07:07.354839Z",
     "start_time": "2025-07-03T17:07:01.935620Z"
    }
   },
   "cell_type": "code",
   "source": "RDD_map.first()",
   "id": "3a4ba2475a771ef4",
   "outputs": [
    {
     "data": {
      "text/plain": [
       "1"
      ]
     },
     "execution_count": 7,
     "metadata": {},
     "output_type": "execute_result"
    }
   ],
   "execution_count": 7
  },
  {
   "metadata": {
    "ExecuteTime": {
     "end_time": "2025-07-03T17:07:17.319304Z",
     "start_time": "2025-07-03T17:07:07.385758Z"
    }
   },
   "cell_type": "code",
   "source": "RDD_map.take(2)",
   "id": "5534577604dbb17f",
   "outputs": [
    {
     "data": {
      "text/plain": [
       "[1, 4]"
      ]
     },
     "execution_count": 8,
     "metadata": {},
     "output_type": "execute_result"
    }
   ],
   "execution_count": 8
  },
  {
   "metadata": {
    "ExecuteTime": {
     "end_time": "2025-07-03T17:07:17.413053Z",
     "start_time": "2025-07-03T17:07:17.362189Z"
    }
   },
   "cell_type": "code",
   "source": [
    "#paired RDDS\n",
    "#functions: reduceByKey(func - combine values with same keys\n",
    "#sortByKey: group by key\n",
    "#sortByKey( return an RDD sorted by the key\n",
    "#join: join two pair RDDs based on their key\n",
    "#from  tuple\n",
    "my_tuple = [('kizer', 21), ('Tata', 58), ('Mama', 56)]\n",
    "\n",
    "pairRDD_tuple = sc.parallelize(my_tuple)\n",
    "print(pairRDD_tuple.collect())"
   ],
   "id": "42ebbc9a095be814",
   "outputs": [
    {
     "name": "stdout",
     "output_type": "stream",
     "text": [
      "[('kizer', 21), ('Tata', 58), ('Mama', 56)]\n"
     ]
    }
   ],
   "execution_count": 9
  },
  {
   "metadata": {
    "ExecuteTime": {
     "end_time": "2025-07-03T17:07:22.733332Z",
     "start_time": "2025-07-03T17:07:17.434994Z"
    }
   },
   "cell_type": "code",
   "source": [
    "my_list = ['krzys 21', 'Tata 58', 'Mama 56']\n",
    "regularRDD = sc.parallelize(my_list)\n",
    "pairedRDD_fromList = regularRDD.map(lambda s:(s.split(' ')[0], s.split(' ')[1]))\n",
    "print(pairedRDD_fromList.collect())"
   ],
   "id": "fd13ba06e8b58d3e",
   "outputs": [
    {
     "name": "stdout",
     "output_type": "stream",
     "text": [
      "[('krzys', '21'), ('Tata', '58'), ('Mama', '56')]\n"
     ]
    }
   ],
   "execution_count": 10
  },
  {
   "metadata": {
    "ExecuteTime": {
     "end_time": "2025-07-03T17:07:22.763277Z",
     "start_time": "2025-07-03T17:07:22.750287Z"
    }
   },
   "cell_type": "code",
   "source": [
    "#advanced RDD actions:\n",
    "#reduce(func) is used for aggregating the elements of a regular RDD\n",
    "#saveAsTextFile() saves RDD into text file inside a dir with each partition as a separate file\n",
    "#countByKey - counts the num of elem of each key\n",
    "# collectAsMap() return the key-value data"
   ],
   "id": "a3638126d0067973",
   "outputs": [],
   "execution_count": 11
  },
  {
   "metadata": {
    "ExecuteTime": {
     "end_time": "2025-07-03T17:07:22.963190Z",
     "start_time": "2025-07-03T17:07:22.781214Z"
    }
   },
   "cell_type": "code",
   "source": [
    "df_age = df.select('age')\n",
    "new_df_age21 = df.filter(df.age > 21)\n",
    "new_df_age21.show(5)"
   ],
   "id": "1fc48c31e1fff938",
   "outputs": [
    {
     "name": "stdout",
     "output_type": "stream",
     "text": [
      "+---+----+------+-----------+--------------+------------+--------------+--------------+----+-----------------+------------+------+---------+------------+--------------+------------------+--------+\n",
      "| id| age|gender|    country|diagnosis_date|cancer_stage|family_history|smoking_status| bmi|cholesterol_level|hypertension|asthma|cirrhosis|other_cancer|treatment_type|end_treatment_date|survived|\n",
      "+---+----+------+-----------+--------------+------------+--------------+--------------+----+-----------------+------------+------+---------+------------+--------------+------------------+--------+\n",
      "|  1|64.0|  Male|     Sweden|    2016-04-05|     Stage I|           Yes|Passive Smoker|29.4|              199|           0|     0|        1|           0|  Chemotherapy|        2017-09-10|       0|\n",
      "|  2|50.0|Female|Netherlands|    2023-04-20|   Stage III|           Yes|Passive Smoker|41.2|              280|           1|     1|        0|           0|       Surgery|        2024-06-17|       1|\n",
      "|  3|65.0|Female|    Hungary|    2023-04-05|   Stage III|           Yes| Former Smoker|44.0|              268|           1|     1|        0|           0|      Combined|        2024-04-09|       0|\n",
      "|  4|51.0|Female|    Belgium|    2016-02-05|     Stage I|            No|Passive Smoker|43.0|              241|           1|     1|        0|           0|  Chemotherapy|        2017-04-23|       0|\n",
      "|  5|37.0|  Male| Luxembourg|    2023-11-29|     Stage I|            No|Passive Smoker|19.7|              178|           0|     0|        0|           0|      Combined|        2025-01-08|       0|\n",
      "+---+----+------+-----------+--------------+------------+--------------+--------------+----+-----------------+------------+------+---------+------------+--------------+------------------+--------+\n",
      "only showing top 5 rows\n",
      "\n"
     ]
    }
   ],
   "execution_count": 12
  },
  {
   "metadata": {
    "ExecuteTime": {
     "end_time": "2025-07-03T17:07:23.255408Z",
     "start_time": "2025-07-03T17:07:23.005078Z"
    }
   },
   "cell_type": "code",
   "source": [
    "df.createOrReplaceTempView('table1')\n",
    "df2 = spark.sql('select * from table1')\n",
    "df2.show()"
   ],
   "id": "4f78d608c3082977",
   "outputs": [
    {
     "name": "stdout",
     "output_type": "stream",
     "text": [
      "+---+----+------+-----------+--------------+------------+--------------+--------------+----+-----------------+------------+------+---------+------------+--------------+------------------+--------+\n",
      "| id| age|gender|    country|diagnosis_date|cancer_stage|family_history|smoking_status| bmi|cholesterol_level|hypertension|asthma|cirrhosis|other_cancer|treatment_type|end_treatment_date|survived|\n",
      "+---+----+------+-----------+--------------+------------+--------------+--------------+----+-----------------+------------+------+---------+------------+--------------+------------------+--------+\n",
      "|  1|64.0|  Male|     Sweden|    2016-04-05|     Stage I|           Yes|Passive Smoker|29.4|              199|           0|     0|        1|           0|  Chemotherapy|        2017-09-10|       0|\n",
      "|  2|50.0|Female|Netherlands|    2023-04-20|   Stage III|           Yes|Passive Smoker|41.2|              280|           1|     1|        0|           0|       Surgery|        2024-06-17|       1|\n",
      "|  3|65.0|Female|    Hungary|    2023-04-05|   Stage III|           Yes| Former Smoker|44.0|              268|           1|     1|        0|           0|      Combined|        2024-04-09|       0|\n",
      "|  4|51.0|Female|    Belgium|    2016-02-05|     Stage I|            No|Passive Smoker|43.0|              241|           1|     1|        0|           0|  Chemotherapy|        2017-04-23|       0|\n",
      "|  5|37.0|  Male| Luxembourg|    2023-11-29|     Stage I|            No|Passive Smoker|19.7|              178|           0|     0|        0|           0|      Combined|        2025-01-08|       0|\n",
      "|  6|50.0|  Male|      Italy|    2023-01-02|     Stage I|            No|  Never Smoked|37.6|              274|           1|     0|        0|           0|     Radiation|        2024-12-27|       0|\n",
      "|  7|49.0|Female|    Croatia|    2018-05-21|   Stage III|           Yes|Passive Smoker|43.1|              259|           0|     0|        0|           0|     Radiation|        2019-05-06|       1|\n",
      "|  8|51.0|  Male|    Denmark|    2017-02-18|    Stage IV|           Yes| Former Smoker|25.8|              195|           1|     1|        0|           0|      Combined|        2017-08-26|       0|\n",
      "|  9|64.0|  Male|     Sweden|    2021-03-21|   Stage III|           Yes|Current Smoker|21.5|              236|           0|     0|        0|           0|  Chemotherapy|        2022-03-07|       0|\n",
      "| 10|56.0|  Male|    Hungary|    2021-11-30|    Stage IV|           Yes|Current Smoker|17.3|              183|           1|     0|        0|           1|       Surgery|        2023-11-29|       0|\n",
      "| 11|48.0|Female| Luxembourg|    2023-12-24|    Stage IV|            No|  Never Smoked|30.7|              262|           1|     1|        0|           0|       Surgery|        2024-10-28|       1|\n",
      "| 12|47.0|  Male|      Malta|    2019-11-18|    Stage II|           Yes| Former Smoker|33.9|              287|           0|     0|        0|           0|      Combined|        2021-02-18|       0|\n",
      "| 13|67.0|Female|    Germany|    2024-05-26|    Stage II|           Yes|Current Smoker|25.6|              163|           0|     1|        0|           0|  Chemotherapy|        2025-09-08|       0|\n",
      "| 14|56.0|Female|    Denmark|    2022-08-07|    Stage IV|            No|  Never Smoked|26.3|              174|           1|     1|        1|           0|      Combined|        2023-05-30|       0|\n",
      "| 15|67.0|Female|     Poland|    2023-04-12|    Stage II|           Yes| Former Smoker|42.7|              259|           1|     1|        0|           0|     Radiation|        2024-02-18|       0|\n",
      "| 16|49.0|  Male|    Ireland|    2021-08-18|    Stage IV|           Yes|Passive Smoker|19.6|              158|           1|     1|        1|           0|       Surgery|        2022-12-08|       0|\n",
      "| 17|48.0|  Male|Netherlands|    2020-02-27|   Stage III|           Yes| Former Smoker|21.7|              195|           1|     0|        0|           0|     Radiation|        2021-09-22|       0|\n",
      "| 18|45.0|  Male|    Romania|    2017-08-07|    Stage II|            No| Former Smoker|23.1|              213|           0|     0|        0|           0|      Combined|        2019-08-03|       0|\n",
      "| 19|47.0|Female|    Hungary|    2015-08-13|    Stage IV|            No|Current Smoker|43.4|              251|           0|     1|        0|           1|       Surgery|        2016-05-14|       0|\n",
      "| 20|56.0|Female|    Belgium|    2014-06-29|   Stage III|           Yes|Current Smoker|36.8|              270|           1|     1|        0|           0|  Chemotherapy|        2015-07-11|       0|\n",
      "+---+----+------+-----------+--------------+------------+--------------+--------------+----+-----------------+------------+------+---------+------------+--------------+------------------+--------+\n",
      "only showing top 20 rows\n",
      "\n"
     ]
    }
   ],
   "execution_count": 13
  },
  {
   "metadata": {
    "ExecuteTime": {
     "end_time": "2025-07-03T17:07:37.302913Z",
     "start_time": "2025-07-03T17:07:23.364117Z"
    }
   },
   "cell_type": "code",
   "source": [
    "#visualization\n",
    "#methods: pyspark_dist_explore\n",
    "#toPandas(\n",
    "#HandySpark\n",
    "from pyspark_dist_explore import hist\n",
    "import matplotlib.pyplot as plt\n",
    "fig, ax = plt.subplots()\n",
    "hist(x=df_age, axis=ax, bins=20, color=\"red\")\n",
    "ax.set_title(\"Distribution of Age\")\n",
    "ax.set_xlabel(\"Age\")\n",
    "ax.set_ylabel(\"Frequency\")\n",
    "\n",
    "# 5. Display the plot\n",
    "plt.show()"
   ],
   "id": "4befb7ae95aa5019",
   "outputs": [
    {
     "data": {
      "text/plain": [
       "<Figure size 640x480 with 1 Axes>"
      ],
      "image/png": "[encoded data removed]"
     },
     "metadata": {},
     "output_type": "display_data"
    }
   ],
   "execution_count": 14
  },
  {
   "metadata": {
    "ExecuteTime": {
     "end_time": "2025-07-03T17:07:51.012371Z",
     "start_time": "2025-07-03T17:07:37.321843Z"
    }
   },
   "cell_type": "code",
   "source": [
    "df_pandas = df.toPandas()\n",
    "\n",
    "df_pandas['age'].hist(bins=50)\n",
    "plt.title('Age Distribution')\n",
    "plt.xlabel('Age')\n",
    "plt.ylabel('Frequency')\n",
    "\n",
    "plt.show()"
   ],
   "id": "fb4a7346b1810458",
   "outputs": [
    {
     "data": {
      "text/plain": [
       "<Figure size 640x480 with 1 Axes>"
      ],
      "image/png": "[encoded data removed]"
     },
     "metadata": {},
     "output_type": "display_data"
    }
   ],
   "execution_count": 15
  },
  {
   "metadata": {
    "ExecuteTime": {
     "end_time": "2025-07-03T17:07:51.058245Z",
     "start_time": "2025-07-03T17:07:51.044282Z"
    }
   },
   "cell_type": "code",
   "source": [
    "#import handyspark\n",
    "#hdf = df.toHandy()\n",
    "\n",
    "#hdf.cols['age'].hist(bins=50)\n",
    "#plt.title('Distribution of Price')\n",
    "#plt.xlabel('Price')\n",
    "#plt.ylabel('Frequency')\n",
    "#plt.show()\n"
   ],
   "id": "884a9bff14e5440d",
   "outputs": [],
   "execution_count": 16
  },
  {
   "metadata": {
    "ExecuteTime": {
     "end_time": "2025-07-03T17:07:51.197870Z",
     "start_time": "2025-07-03T17:07:51.087168Z"
    }
   },
   "cell_type": "code",
   "source": [
    "# PySpark MLib \n",
    "#Collaborative filtering (recommender engines)\n",
    "#Classification\n",
    "#Clustering\n",
    "\n",
    "from pyspark.mllib.recommendation import Rating\n",
    "\n",
    "r = Rating(user = 1, product = 2, rating=5.0)\n",
    "\n",
    "(r[0], r[1], r[2])  "
   ],
   "id": "236c6c393313a5b2",
   "outputs": [
    {
     "data": {
      "text/plain": [
       "(1, 2, 5.0)"
      ]
     },
     "execution_count": 17,
     "metadata": {},
     "output_type": "execute_result"
    }
   ],
   "execution_count": 17
  },
  {
   "metadata": {
    "ExecuteTime": {
     "end_time": "2025-07-03T17:08:00.565661Z",
     "start_time": "2025-07-03T17:07:51.229787Z"
    }
   },
   "cell_type": "code",
   "source": [
    "data = sc.parallelize([1,2,3,4,5,6,7,8,9,10])\n",
    "training, test = data.randomSplit([0.6, 0.4])\n",
    "training.collect()\n",
    "test.collect()"
   ],
   "id": "424201fefc9ab456",
   "outputs": [
    {
     "data": {
      "text/plain": [
       "[2, 3, 4, 6, 7]"
      ]
     },
     "execution_count": 18,
     "metadata": {},
     "output_type": "execute_result"
    }
   ],
   "execution_count": 18
  },
  {
   "metadata": {
    "ExecuteTime": {
     "end_time": "2025-07-03T17:08:00.704315Z",
     "start_time": "2025-07-03T17:08:00.642456Z"
    }
   },
   "cell_type": "code",
   "source": [
    "from pyspark.mllib.recommendation import ALS\n",
    "r1 = Rating(1,1,1.0)\n",
    "r2 = Rating(1,2, 2.0)\n",
    "r3 = Rating(2,1, 2.0)\n",
    "ratings = sc.parallelize([r1, r2, r3])\n",
    "ratings.collect()\n"
   ],
   "id": "b27d6a570b3dbffb",
   "outputs": [
    {
     "data": {
      "text/plain": [
       "[Rating(user=1, product=1, rating=1.0),\n",
       " Rating(user=1, product=2, rating=2.0),\n",
       " Rating(user=2, product=1, rating=2.0)]"
      ]
     },
     "execution_count": 19,
     "metadata": {},
     "output_type": "execute_result"
    }
   ],
   "execution_count": 19
  },
  {
   "metadata": {
    "ExecuteTime": {
     "end_time": "2025-07-03T17:08:24.719454Z",
     "start_time": "2025-07-03T17:08:00.779091Z"
    }
   },
   "cell_type": "code",
   "source": [
    "#Rating objects represented by (UserID, ItemID,Rating) tuples with training parameters rank and iterations\n",
    "#Rank represents the num of features\n",
    "# iteration represent the num of iterations to run the least squares computation\n",
    "model = ALS.train(ratings, rank = 10, iterations = 10) "
   ],
   "id": "aa1444752232c490",
   "outputs": [],
   "execution_count": 20
  },
  {
   "metadata": {
    "ExecuteTime": {
     "end_time": "2025-07-03T17:08:38.711679Z",
     "start_time": "2025-07-03T17:08:24.752366Z"
    }
   },
   "cell_type": "code",
   "source": [
    "#predictALL() method returns a list of predicted ratings for inpuit user and product pair\n",
    "\n",
    "unrated_RDD = sc.parallelize([(1,2), (1,1)])\n",
    "\n",
    "predictions = model.predictAll(unrated_RDD)\n",
    "predictions.collect()"
   ],
   "id": "8cdd89b3e9c0a163",
   "outputs": [
    {
     "data": {
      "text/plain": [
       "[Rating(user=1, product=1, rating=1.0000255067636963),\n",
       " Rating(user=1, product=2, rating=1.9890363752272087)]"
      ]
     },
     "execution_count": 21,
     "metadata": {},
     "output_type": "execute_result"
    }
   ],
   "execution_count": 21
  },
  {
   "metadata": {
    "ExecuteTime": {
     "end_time": "2025-07-03T17:08:43.447670Z",
     "start_time": "2025-07-03T17:08:38.823388Z"
    }
   },
   "cell_type": "code",
   "source": [
    "rates = ratings.map(lambda x: ((x[0], x[1]), x[2]))\n",
    "rates.collect()"
   ],
   "id": "8f5ddadfef9f2226",
   "outputs": [
    {
     "data": {
      "text/plain": [
       "[((1, 1), 1.0), ((1, 2), 2.0), ((2, 1), 2.0)]"
      ]
     },
     "execution_count": 22,
     "metadata": {},
     "output_type": "execute_result"
    }
   ],
   "execution_count": 22
  },
  {
   "metadata": {
    "ExecuteTime": {
     "end_time": "2025-07-03T17:08:48.055337Z",
     "start_time": "2025-07-03T17:08:43.547703Z"
    }
   },
   "cell_type": "code",
   "source": [
    "pred = predictions.map(lambda x: ((x[0], x[1]), x[2]))\n",
    "pred.collect()"
   ],
   "id": "734372eca7c686a4",
   "outputs": [
    {
     "data": {
      "text/plain": [
       "[((1, 1), 1.0000255067636963), ((1, 2), 1.9890363752272087)]"
      ]
     },
     "execution_count": 23,
     "metadata": {},
     "output_type": "execute_result"
    }
   ],
   "execution_count": 23
  },
  {
   "metadata": {
    "ExecuteTime": {
     "end_time": "2025-07-03T17:09:15.967671Z",
     "start_time": "2025-07-03T17:08:48.130240Z"
    }
   },
   "cell_type": "code",
   "source": [
    "rates_preds = rates.join(pred)\n",
    "rates_preds.collect()"
   ],
   "id": "2b7d2a73588ed5ac",
   "outputs": [
    {
     "data": {
      "text/plain": [
       "[((1, 1), (1.0, 1.0000255067636963)), ((1, 2), (2.0, 1.9890363752272087))]"
      ]
     },
     "execution_count": 24,
     "metadata": {},
     "output_type": "execute_result"
    }
   ],
   "execution_count": 24
  },
  {
   "metadata": {
    "ExecuteTime": {
     "end_time": "2025-07-03T17:09:25.109582Z",
     "start_time": "2025-07-03T17:09:15.999586Z"
    }
   },
   "cell_type": "code",
   "source": "MSE = rates_preds.map(lambda r: ([1][0] - r[1][1])**2).mean()",
   "id": "23f353b1b16b47f6",
   "outputs": [],
   "execution_count": 25
  },
  {
   "metadata": {
    "ExecuteTime": {
     "end_time": "2025-07-03T17:31:34.366151Z",
     "start_time": "2025-07-03T17:31:34.352190Z"
    }
   },
   "cell_type": "code",
   "source": [
    "# two types of classification - binary and multi-class\n",
    "# binary - two class, cancer of malignant type or not. Algorithms: \n",
    "# linera SVMs, logistic regression, decision trees, random forests, gradient-boosted, trees, naive bayes.\n",
    "\n",
    "# multiclass classification - classify entities into more than two categories - what category a news article belong to.\n",
    "# Algorithms: logistic regression, decision trees, random forests, naive bayes\n",
    "\n",
    "#Vectors in pySpark Mlib\n",
    "#Dense vector: store all their entries in an array of floating point numbers\n",
    "#Sparse Vector: store only the nonzero values and their indices\n",
    "\n",
    "from pyspark.mllib.linalg import Vectors\n",
    "denseVec = Vectors.dense([1.0, 2.0, 3.0])\n",
    "sparseVec = Vectors.sparse(4, {1: 1.0, 3: 5.5}) # Represents dense vector [0, 1.0, 0, 5.5] \n",
    "# Number in front tell us num of elements in vector, In dictionary only non-zero elements are mensioned to increase memmory efficiency\n",
    "\n",
    "# LabeledPoint is a wrapper for input features and predicted value\n",
    "# for binary classification of logistic regression, a label is either 0 (negative) or 1 (positive)\n",
    "from pyspark.mllib.regression import LabeledPoint\n",
    "positive = LabeledPoint(1.0, [1.0, 0.0, 3.0]) # label - 1, feature vector - [1.0, 0.0, 3.0]\n",
    "negative = LabeledPoint(0.0, [2.0, 1.0, 1.0]) # label - 0, feature vector - [2.0, 1.0, 1.0]\n",
    "print(positive)\n",
    "print(negative)"
   ],
   "id": "1dcd95ddd27681b6",
   "outputs": [
    {
     "name": "stdout",
     "output_type": "stream",
     "text": [
      "(1.0,[1.0,0.0,3.0])\n",
      "(0.0,[2.0,1.0,1.0])\n"
     ]
    }
   ],
   "execution_count": 28
  },
  {
   "metadata": {
    "ExecuteTime": {
     "end_time": "2025-07-03T17:40:46.666056Z",
     "start_time": "2025-07-03T17:40:46.659076Z"
    }
   },
   "cell_type": "code",
   "source": [
    "# HashingTF() is used to map feature value to indices in the feature vector\n",
    "from pyspark.mllib.feature import HashingTF\n",
    "sentence = \"hello hello world\"\n",
    "words = sentence.split()\n",
    "tf = HashingTF(10000)\n",
    "hashed_features = tf.transform(words)\n",
    "print(hashed_features)"
   ],
   "id": "2d5ffebbf0572907",
   "outputs": [
    {
     "name": "stdout",
     "output_type": "stream",
     "text": [
      "(10000,[1975,4725],[2.0,1.0])\n"
     ]
    }
   ],
   "execution_count": 35
  },
  {
   "metadata": {
    "ExecuteTime": {
     "end_time": "2025-07-03T17:43:12.080376Z",
     "start_time": "2025-07-03T17:43:12.067387Z"
    }
   },
   "cell_type": "code",
   "source": [
    "from pyspark.mllib.classification import LogisticRegressionWithLBFGS\n",
    "data = [\n",
    "    LabeledPoint(0.0, [0.0, 1.0]),\n",
    "    LabeledPoint(1.0, [1.0, 0.0])\n",
    "]\n",
    "RDD = sc.parallelize(data)"
   ],
   "id": "2dbd2aa468fb0adf",
   "outputs": [],
   "execution_count": 36
  },
  {
   "metadata": {
    "ExecuteTime": {
     "end_time": "2025-07-03T17:43:54.795049Z",
     "start_time": "2025-07-03T17:43:35.231495Z"
    }
   },
   "cell_type": "code",
   "source": "lrm = LogisticRegressionWithLBFGS.train(RDD)",
   "id": "a96e571bc3b6560c",
   "outputs": [],
   "execution_count": 37
  },
  {
   "metadata": {
    "ExecuteTime": {
     "end_time": "2025-07-03T17:44:28.271290Z",
     "start_time": "2025-07-03T17:44:28.252342Z"
    }
   },
   "cell_type": "code",
   "source": [
    "print(lrm.predict([1.0, 0.0]))\n",
    "print(lrm.predict([0.0, 1.0]))"
   ],
   "id": "42fe3fc905797f9",
   "outputs": [
    {
     "name": "stdout",
     "output_type": "stream",
     "text": [
      "1\n",
      "0\n"
     ]
    }
   ],
   "execution_count": 39
  },
  {
   "metadata": {},
   "cell_type": "code",
   "outputs": [],
   "execution_count": null,
   "source": [
    "#cluistering - unsupervised learning method to group unlabeled data together\n",
    "# models: k-means, gaussian mixture, power iteration clustering, bisecting k-means, streaming k-means\n",
    "\n",
    "from pyspark.mllib.clustering import KMeans\n",
    "model = KMeans.train(RDD, k = 2, maxIterations = 10)\n",
    "model.clusterCenters #"
   ],
   "id": "fffe33a229358aca"
  }
 ],
 "metadata": {
  "kernelspec": {
   "display_name": "Python 3",
   "language": "python",
   "name": "python3"
  },
  "language_info": {
   "codemirror_mode": {
    "name": "ipython",
    "version": 2
   },
   "file_extension": ".py",
   "mimetype": "text/x-python",
   "name": "python",
   "nbconvert_exporter": "python",
   "pygments_lexer": "ipython2",
   "version": "2.7.6"
  }
 },
 "nbformat": 4,
 "nbformat_minor": 5
}
